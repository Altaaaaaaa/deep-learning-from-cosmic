{
 "cells": [
  {
   "cell_type": "code",
   "execution_count": 73,
   "metadata": {},
   "outputs": [],
   "source": [
    "import pandas as pd\n",
    "import matplotlib.pyplot as plt\n",
    "import numpy as np\n",
    "\n",
    "csv_test = pd.read_csv('test.csv')\n",
    "x1 = csv_test['x1'].values.tolist()\n",
    "x2 = csv_test['x2'].values.tolist()\n",
    "#x = np.array(x)\n"
   ]
  },
  {
   "cell_type": "code",
   "execution_count": 75,
   "metadata": {},
   "outputs": [
    {
     "data": {
      "image/png": "[encoded data removed]",
      "text/plain": [
       "<Figure size 432x288 with 1 Axes>"
      ]
     },
     "metadata": {
      "needs_background": "light"
     },
     "output_type": "display_data"
    }
   ],
   "source": [
    "y = []\n",
    "for i in range(0, len(x1)):\n",
    "    a1 = x1[i]*2\n",
    "    a2 = x2[i]*1.2\n",
    "    if a1+a2 > 0.31:\n",
    "        ta = a1+a2\n",
    "    else:\n",
    "        ta = 0\n",
    "    b1 = x1[i] * 0.7\n",
    "    b2 = x2[i]*0.02\n",
    "    if b1+b2 > 0.072:\n",
    "        tb = b1+b2\n",
    "    else:\n",
    "        tb = 0\n",
    "    c1 = x1[i] * 1.5\n",
    "    c2 = x2[i]*0.5\n",
    "    if c1+c2 > 0.07:\n",
    "        tc = c1+c2\n",
    "    else:\n",
    "        tc = 0\n",
    "    y.append(ta+tb+tc)\n",
    "\n",
    "plt.plot(x1,y)\n",
    "plt.show()"
   ]
  },
  {
   "cell_type": "code",
   "execution_count": null,
   "metadata": {},
   "outputs": [],
   "source": []
  }
 ],
 "metadata": {
  "kernelspec": {
   "display_name": "Python 3.10.5 64-bit",
   "language": "python",
   "name": "python3"
  },
  "language_info": {
   "codemirror_mode": {
    "name": "ipython",
    "version": 3
   },
   "file_extension": ".py",
   "mimetype": "text/x-python",
   "name": "python",
   "nbconvert_exporter": "python",
   "pygments_lexer": "ipython3",
   "version": "3.10.5"
  },
  "orig_nbformat": 4,
  "vscode": {
   "interpreter": {
    "hash": "7de63a07437897ff0f75b391c59c56a44d81a056a2a98d066a77ea208082d425"
   }
  }
 },
 "nbformat": 4,
 "nbformat_minor": 2
}
