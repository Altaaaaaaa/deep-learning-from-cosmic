{
 "cells": [
  {
   "cell_type": "markdown",
   "metadata": {},
   "source": [
    "< 신경망 학습 >\n",
    "- 학습 : 훈련 데이터로부터 가중치 매개변수의 최적값을 자동으로 획득하는 것\n",
    "- 지표; 손실 함수"
   ]
  },
  {
   "cell_type": "markdown",
   "metadata": {},
   "source": [
    "선형 분리 가능 문제는 데이터에 의한 자동 학습이 가능. (퍼셉트론 수렴 정리)\n",
    "그러나 비선형 분리 문제는 불가."
   ]
  },
  {
   "cell_type": "markdown",
   "metadata": {},
   "source": [
    "이미지에서 특징을 추출하고, 그 특징의 패턴을 기계학습 기술로 학습.\n",
    "- 특징 : 입력 데이터에서 본질적인 데이터를 정확하게 추출할 수 있도록 설계된 변환기\n",
    "- 이미지의 특징 - 벡터\n",
    "    - 컴퓨터 비전 분야 : SIFT, SURF, HOG 등\n",
    "- 변환된 벡터를 가지고 SVM, KNN 등으로 학습"
   ]
  },
  {
   "cell_type": "markdown",
   "metadata": {},
   "source": [
    "- SIFT(Scale-Invariant Feature Transform) : 이미지의 로컬 특징을 감지, 설명 및 일치시키는 컴퓨터 비전 알고리즘\n",
    "    - 이미지의 크기와 회전에 불변하는 특징을 추출"
   ]
  },
  {
   "cell_type": "markdown",
   "metadata": {},
   "source": [
    "딥러닝 == 종단간 기계학습"
   ]
  },
  {
   "cell_type": "markdown",
   "metadata": {},
   "source": [
    "- 범용 능력 : 훈련 데이터에 포함되지 않는 데이터로도 문제를 올바르게 풀어내는 능력\n",
    "- 오버피팅(== 과적합, 과대적합, 과학습, 과적응 등) : 한 데이터셋에만 지나치게 최적화된 상태"
   ]
  },
  {
   "cell_type": "markdown",
   "metadata": {},
   "source": [
    "손실 함수(== 비용 함수); 평균 제곱 오차, 교차 엔트로피 오차 등을 사용\n",
    "- 평균 제곱 오차 : 출력값과 정답의 차를 제곱하여 모두 더한 후 반 나눔\n",
    "- 교차 엔트로피 오차 : 정답일 때의 출력값에 자연 로그를 취하고 -1을 곱함\n",
    "    - 출력값이 분수이므로 로그값에 -1을 곱해야 양수가 나옴"
   ]
  },
  {
   "cell_type": "code",
   "execution_count": 100,
   "metadata": {},
   "outputs": [],
   "source": [
    "import numpy as np"
   ]
  },
  {
   "cell_type": "code",
   "execution_count": 101,
   "metadata": {},
   "outputs": [],
   "source": [
    "# 3장에서 학습한 손글씨 판별, 첫 번째 원소부터 0, 1, 2, ...\n",
    "# 출력층에서의 활성화 함수; 소프트맥스 함수\n",
    "y = [0.1, 0.05, 0.6, 0.0, 0.05, 0.1, 0.0, 0.1, 0.0, 0.0]\n",
    "# 2일 확률이 제일 높음\n",
    "t = [0, 0, 1, 0, 0, 0, 0, 0, 0, 0] # 원핫인코딩, 정답 2"
   ]
  },
  {
   "cell_type": "code",
   "execution_count": 102,
   "metadata": {},
   "outputs": [],
   "source": [
    "def mean_squared_error(y, t): # 평균 제곱 오차\n",
    "    return 0.5 * np.sum((y-t)**2)"
   ]
  },
  {
   "cell_type": "code",
   "execution_count": 103,
   "metadata": {},
   "outputs": [
    {
     "data": {
      "text/plain": [
       "0.09750000000000003"
      ]
     },
     "execution_count": 103,
     "metadata": {},
     "output_type": "execute_result"
    }
   ],
   "source": [
    "mean_squared_error(np.array(y), np.array(t))"
   ]
  },
  {
   "cell_type": "code",
   "execution_count": 104,
   "metadata": {},
   "outputs": [
    {
     "data": {
      "text/plain": [
       "0.5975"
      ]
     },
     "execution_count": 104,
     "metadata": {},
     "output_type": "execute_result"
    }
   ],
   "source": [
    "y = [0.1, 0.05, 0.1, 0.0, 0.05, 0.1, 0.0, 0.6, 0.0, 0.0]\n",
    "\n",
    "mean_squared_error(np.array(y), np.array(t))\n",
    "# 앞선 y보다 현재 y가 오차가 더 큼 -> 정답이 아닐 확률이 더 커짐"
   ]
  },
  {
   "cell_type": "code",
   "execution_count": 105,
   "metadata": {},
   "outputs": [
    {
     "name": "stderr",
     "output_type": "stream",
     "text": [
      "C:\\Users\\jjyo0\\AppData\\Local\\Temp\\ipykernel_3164\\2403301242.py:7: RuntimeWarning: divide by zero encountered in log\n",
      "  plt.plot(x, np.log(x))\n"
     ]
    },
    {
     "data": {
      "image/png": "[encoded data removed]",
      "text/plain": [
       "<Figure size 432x288 with 1 Axes>"
      ]
     },
     "metadata": {
      "needs_background": "light"
     },
     "output_type": "display_data"
    },
    {
     "name": "stderr",
     "output_type": "stream",
     "text": [
      "C:\\Users\\jjyo0\\AppData\\Local\\Temp\\ipykernel_3164\\2403301242.py:10: RuntimeWarning: divide by zero encountered in log\n",
      "  plt.plot(x, -1 * np.log(x))\n"
     ]
    },
    {
     "data": {
      "image/png": "[encoded data removed]",
      "text/plain": [
       "<Figure size 432x288 with 1 Axes>"
      ]
     },
     "metadata": {
      "needs_background": "light"
     },
     "output_type": "display_data"
    }
   ],
   "source": [
    "import numpy as np\n",
    "from matplotlib import pyplot as plt\n",
    "\n",
    "\n",
    "x = np.arange(0.0, 1.0, 0.001)  #x좌표 \n",
    "\n",
    "plt.plot(x, np.log(x))\n",
    "plt.show()\n",
    "\n",
    "plt.plot(x, -1 * np.log(x))\n",
    "plt.show()"
   ]
  },
  {
   "cell_type": "code",
   "execution_count": 106,
   "metadata": {},
   "outputs": [],
   "source": [
    "def cross_entropy_error(y, t): # 매개변수는 모두 넘파이 배열\n",
    "    delta = 1e-7 # 마이너스 무한대가 발생하지 않도록 아주 작은 값인 delta를 더해줌\n",
    "    return -np.sum(t * np.log(y + delta))"
   ]
  },
  {
   "cell_type": "code",
   "execution_count": 107,
   "metadata": {},
   "outputs": [
    {
     "name": "stdout",
     "output_type": "stream",
     "text": [
      "0.510825457099338\n",
      "2.302584092994546\n"
     ]
    }
   ],
   "source": [
    "t = [0, 0, 1, 0, 0, 0, 0, 0, 0, 0]\n",
    "y = [0.1, 0.05, 0.6, 0.0, 0.05, 0.1, 0.0, 0.1, 0.0, 0.0]\n",
    "\n",
    "print(cross_entropy_error(np.array(y), np.array(t)))\n",
    "\n",
    "y = [0.1, 0.05, 0.1, 0.0, 0.05, 0.1, 0.0, 0.6, 0.0, 0.0]\n",
    "print(cross_entropy_error(np.array(y), np.array(t)))"
   ]
  },
  {
   "cell_type": "markdown",
   "metadata": {},
   "source": [
    "평균 손실 함수\n",
    "- 교차 엔트로피 오차는 1/N배 하여 정규화"
   ]
  },
  {
   "cell_type": "markdown",
   "metadata": {},
   "source": [
    "많은 데이터를 모두 계산하는 것은 합리적이지 않으니 데이터 일부만 추출해 전체의 근사치로 이용할 수 있음. 여기에서의 데이터 일부가 미니배치임. 이를 이용한 학습법이 미니배치 학습."
   ]
  },
  {
   "cell_type": "code",
   "execution_count": 108,
   "metadata": {},
   "outputs": [
    {
     "name": "stdout",
     "output_type": "stream",
     "text": [
      "(60000, 784)\n",
      "(60000, 10)\n"
     ]
    }
   ],
   "source": [
    "import sys, os\n",
    "sys.path.append(os.pardir)\n",
    "import numpy as np\n",
    "from dataset.mnist import load_mnist\n",
    "\n",
    "(x_train, t_train), (x_test, t_test) = \\\n",
    "    load_mnist(normalize=True, one_hot_label=True)\n",
    "    \n",
    "print(x_train.shape)\n",
    "print(t_train.shape)"
   ]
  },
  {
   "cell_type": "code",
   "execution_count": 109,
   "metadata": {},
   "outputs": [],
   "source": [
    "train_size = x_train.shape[0]\n",
    "batch_size = 10\n",
    "batch_mask = np.random.choice(train_size, batch_size)\n",
    "# train_size 이하의 숫자 중 batch_size 개수만큼 랜덤픽\n",
    "x_batch = x_train[batch_mask]\n",
    "t_batch = t_train[batch_mask]"
   ]
  },
  {
   "cell_type": "code",
   "execution_count": 110,
   "metadata": {},
   "outputs": [
    {
     "data": {
      "text/plain": [
       "array([ 2026, 27173, 40691,  9724, 36203,  5009, 37158, 14625, 12152,\n",
       "       30725])"
      ]
     },
     "execution_count": 110,
     "metadata": {},
     "output_type": "execute_result"
    }
   ],
   "source": [
    "np.random.choice(60000, 10)"
   ]
  },
  {
   "cell_type": "code",
   "execution_count": 111,
   "metadata": {},
   "outputs": [],
   "source": [
    "def cross_entropy_error(y, t):\n",
    "    print(t, y, y.shape[0])\n",
    "    if y.ndim == 1: # ndim : 배열의 차원\n",
    "        t = t.reshape(1, t.size)\n",
    "        y = y.reshape(1, y.size)\n",
    "        \n",
    "    batch_size = y.shape[0]\n",
    "    # !!질문!! y.shape[0]이면 batch_size가 무조건 1이 되지 않나?\n",
    "    # 데이터의 개수를 의미하므로 여기서는 1이 되는 듯\n",
    "    return -np.sum(t * np.log(y)) / batch_size"
   ]
  },
  {
   "cell_type": "code",
   "execution_count": 112,
   "metadata": {},
   "outputs": [],
   "source": [
    "def cross_entropy_error(y, t):\n",
    "    print(t, y, y.shape[0])\n",
    "    if y.ndim == 1: # ndim : 배열의 차원\n",
    "        t = t.reshape(1, t.size)\n",
    "        y = y.reshape(1, y.size)\n",
    "        \n",
    "    batch_size = y.shape[0]\n",
    "    return -np.sum(np.log(y[np.arange(batch_size), t])) / batch_size\n",
    "    # !!질문!! 이거 대체 어케 계산되는 거임?(해결)\n",
    "    # batch_size만큼 행을 만드는데, k번째 행에서 해당 t번째 열의 원소를 의미"
   ]
  },
  {
   "cell_type": "markdown",
   "metadata": {},
   "source": [
    "정확도를 높이기 위해 손실 함수를 사용하는 이유 : 매개 변수를 미분한 것을 이용하여 최적의 값을 찾아 업데이트하기 때문.\n",
    "- 미분값이 0일 때를 찾아야 함."
   ]
  },
  {
   "cell_type": "markdown",
   "metadata": {},
   "source": [
    "왜 정확도 그 자체를 지표로 사용하지 않을까?\n",
    "- 정확도는 '(맞은 데이터 수)/(전체 데이터 수)'이기 때문에 불연속적인 값임.\n",
    "- 그러나 손실 함수의 경우, 미묘한 변화에 받은 영향을 그대로 볼 수 있기 때문에 그 결과가 연속적인 값으로 나타남.\n",
    "\n",
    "- 이러한 이유로 계단 함수를 활성화 함수로 사용하지 않음! 디테일한 학습이 불가하기 때문.\n",
    "    - 계단 함수를 미분하면 0을 제외한 모든 곳에서 0임 => 매개변수 업데이트 불가"
   ]
  },
  {
   "cell_type": "markdown",
   "metadata": {},
   "source": [
    "경사법\n",
    "- 기울기 값 기준"
   ]
  },
  {
   "cell_type": "code",
   "execution_count": 113,
   "metadata": {},
   "outputs": [],
   "source": [
    "def numerical_diff(f, x): # 수치 미분\n",
    "    h = 10e-50 # 값이 너무 작아서 '반올림 오차' 문제를 일으킴\n",
    "    # 적당히 좋은 값으로 10의 -4승이 있음\n",
    "    return (f(x+h) - f(x)) / h\n",
    "    # 해당 리턴 값은 '접선이 아닌' 점 (x+h)와 (x) 사이의 기울기를 구하는 것임. -> 전방 차분\n",
    "    # 차분(: 임의 두 점에서의 함수 값들의 차이)이 존재\n",
    "    # 오차가 있을 수 밖에 없음."
   ]
  },
  {
   "cell_type": "code",
   "execution_count": 114,
   "metadata": {},
   "outputs": [
    {
     "data": {
      "text/plain": [
       "0.0"
      ]
     },
     "execution_count": 114,
     "metadata": {},
     "output_type": "execute_result"
    }
   ],
   "source": [
    "np.float32(1e-50)"
   ]
  },
  {
   "cell_type": "markdown",
   "metadata": {},
   "source": [
    "중심 차분(== 중앙 차분)\n",
    "- 수치 미분에서의 오차를 줄이기 위해 (x+h)와 (x-h)일 때의 함수 f의 차분을 계산"
   ]
  },
  {
   "cell_type": "code",
   "execution_count": 115,
   "metadata": {},
   "outputs": [],
   "source": [
    "def numerical_diff(f, x):\n",
    "    h = 1e-4 # 0.0001\n",
    "    return (f(x+h) - f(x-h)) / (2*h)"
   ]
  },
  {
   "cell_type": "markdown",
   "metadata": {},
   "source": [
    "수치 미분 vs 해석적 미분\n",
    "- 수치 미분은 우리가 코드로 구현하는 것. 수학 시간에 배운 것을 근사치로 계산하는 방법.\n",
    "- 해석적 미분은 수학 시간에 배운 것 그대로."
   ]
  },
  {
   "cell_type": "code",
   "execution_count": 116,
   "metadata": {},
   "outputs": [],
   "source": [
    "def function_1(x):\n",
    "    return 0.01*x**2 + 0.1*x"
   ]
  },
  {
   "cell_type": "code",
   "execution_count": 117,
   "metadata": {},
   "outputs": [
    {
     "data": {
      "image/png": "[encoded data removed]",
      "text/plain": [
       "<Figure size 432x288 with 1 Axes>"
      ]
     },
     "metadata": {
      "needs_background": "light"
     },
     "output_type": "display_data"
    }
   ],
   "source": [
    "import numpy as np\n",
    "import matplotlib.pylab as plt\n",
    "\n",
    "x = np.arange(0.0, 20.0, 0.1)\n",
    "y = function_1(x)\n",
    "\n",
    "plt.xlabel(\"x\")\n",
    "plt.ylabel(\"y\")\n",
    "plt.plot(x, y)\n",
    "plt.show()"
   ]
  },
  {
   "cell_type": "code",
   "execution_count": 118,
   "metadata": {},
   "outputs": [
    {
     "name": "stdout",
     "output_type": "stream",
     "text": [
      "0.1999999999990898\n",
      "0.2999999999986347\n"
     ]
    }
   ],
   "source": [
    "print(numerical_diff(function_1, 5))\n",
    "print(numerical_diff(function_1, 10))"
   ]
  },
  {
   "cell_type": "code",
   "execution_count": 119,
   "metadata": {},
   "outputs": [],
   "source": [
    "def function_2(x):\n",
    "    return np.sum(x**2)\n",
    "    return x[0]**2 + x[1]**2"
   ]
  },
  {
   "cell_type": "code",
   "execution_count": 120,
   "metadata": {},
   "outputs": [
    {
     "data": {
      "text/plain": [
       "6.00000000000378"
      ]
     },
     "execution_count": 120,
     "metadata": {},
     "output_type": "execute_result"
    }
   ],
   "source": [
    "def function_tmp1(x0): # 편미분 해야함\n",
    "    return x0*x0 + 4.0**2.0\n",
    "\n",
    "numerical_diff(function_tmp1, 3.0)"
   ]
  },
  {
   "cell_type": "code",
   "execution_count": 121,
   "metadata": {},
   "outputs": [
    {
     "data": {
      "text/plain": [
       "7.999999999999119"
      ]
     },
     "execution_count": 121,
     "metadata": {},
     "output_type": "execute_result"
    }
   ],
   "source": [
    "def function_tmp2(x1):\n",
    "    return 3.0*2.0 + x1*x1\n",
    "\n",
    "numerical_diff(function_tmp2, 4.0)"
   ]
  },
  {
   "cell_type": "markdown",
   "metadata": {},
   "source": [
    "기울기 : 모든 변수의 편미분을 벡터로 정리한 것"
   ]
  },
  {
   "cell_type": "code",
   "execution_count": 122,
   "metadata": {},
   "outputs": [
    {
     "data": {
      "text/plain": [
       "'\\n0으로 초기화 된 x와 같은 사이즈의 배열을 만들고, 거기에 각각의 미분 값을 저장.\\n미분 값을 저장한 배열을 리턴\\n'"
      ]
     },
     "execution_count": 122,
     "metadata": {},
     "output_type": "execute_result"
    }
   ],
   "source": [
    "def numerical_gradient(f, x): # 기울기\n",
    "    h = 1e-4 # 0.0001\n",
    "    grad = np.zeros_like(x) # 특정 배열(x)과 같은 크기(shape)의 0으로만 구성된 배열을 구함\n",
    "    \n",
    "    for idx in range(x.size):\n",
    "        tmp_val = x[idx]\n",
    "        x[idx] = tmp_val + h\n",
    "        fxh1 = f(x) # f(x + h)\n",
    "        \n",
    "        x[idx] = tmp_val - h\n",
    "        fxh2 = f(x) # f(x - h)\n",
    "        \n",
    "        grad[idx] = (fxh1 - fxh2) / (2*h) # (f(x+h) - f(x-h)) / (2*h)\n",
    "        x[idx] = tmp_val # x는 값 원상복구\n",
    "        \n",
    "    return grad\n",
    "\n",
    "'''\n",
    "0으로 초기화 된 x와 같은 사이즈의 배열을 만들고, 거기에 각각의 미분 값을 저장.\n",
    "미분 값을 저장한 배열을 리턴\n",
    "'''"
   ]
  },
  {
   "cell_type": "code",
   "execution_count": 123,
   "metadata": {},
   "outputs": [
    {
     "data": {
      "text/plain": [
       "array([6., 8.])"
      ]
     },
     "execution_count": 123,
     "metadata": {},
     "output_type": "execute_result"
    }
   ],
   "source": [
    "numerical_gradient(function_2, np.array([3.0, 4.0]))"
   ]
  },
  {
   "cell_type": "code",
   "execution_count": 124,
   "metadata": {},
   "outputs": [
    {
     "data": {
      "text/plain": [
       "array([0., 4.])"
      ]
     },
     "execution_count": 124,
     "metadata": {},
     "output_type": "execute_result"
    }
   ],
   "source": [
    "numerical_gradient(function_2, np.array([0.0, 2.0]))"
   ]
  },
  {
   "cell_type": "code",
   "execution_count": 125,
   "metadata": {},
   "outputs": [
    {
     "data": {
      "text/plain": [
       "array([6., 0.])"
      ]
     },
     "execution_count": 125,
     "metadata": {},
     "output_type": "execute_result"
    }
   ],
   "source": [
    "numerical_gradient(function_2, np.array([3.0, 0.0]))"
   ]
  },
  {
   "cell_type": "markdown",
   "metadata": {},
   "source": [
    "위의 numerical_gradient() 함수는 각 점((3, 4), (0, 2), (3, 0)에서의 기울기를 구한 것인데, 이 기울기는 평면 상에서 벡터로 그려짐.\n",
    "- 이 기울기가 가리키는 쪽은 각 장소에서 함수의 출력 값을 가장 크게 줄이는 방향을 나타냄.\n",
    "    - 감소하는 방향!"
   ]
  },
  {
   "cell_type": "markdown",
   "metadata": {},
   "source": [
    "학습 중 최적의 매개변수를 찾아야 함. == 손실 함수가 최솟값이 될 때의 매개변수를 찾아야 함!\n",
    "- 이때, 기울기를 이용해(기울기가 0인 지점을 탐색) 함수의 최솟값을 찾는 것 => 경사법\n",
    "- 하지만 이 기울기는 '극솟값, 최솟값, 안장점'에서 0이기 때문에 해당 점이 반드시 최솟값이라는 보장은 할 수 없음.\n",
    "- 또한, 학습이 진행되지 않는 고원에 빠질 수 있음."
   ]
  },
  {
   "cell_type": "markdown",
   "metadata": {},
   "source": [
    "경사 하강법 vs 경사 상승법\n",
    "- 경사 하강법 : 기울기의 최솟값 탐색\n",
    "- 경사 상승법 : 기울기의 최댓값 탐색\n",
    "- -1을 곱해주면 서로(반대)가 됨"
   ]
  },
  {
   "cell_type": "markdown",
   "metadata": {},
   "source": [
    "에타(eta) : 신경망 학습에서 학습률을 의미, 한 번 학습 시 매개변수를 갱신하는 양\n",
    "- 학습률 값은 미리 특정 값으로 지정해야 함."
   ]
  },
  {
   "cell_type": "code",
   "execution_count": 126,
   "metadata": {},
   "outputs": [],
   "source": [
    "# f : 최적화하려는 함수\n",
    "# init_x : 초깃값\n",
    "# lr == learning rate : 학습률\n",
    "# step_num : 경사법에 따른 반복 횟수\n",
    "def gradient_descent(f, init_x, lr=0.01, step_num=100):\n",
    "    x = init_x # 초기화\n",
    "    \n",
    "    for i in range(step_num): # 100번 반복\n",
    "        grad = numerical_gradient(f, x) # 미분값을 grad에 할당\n",
    "        x -= lr * grad # x = x - lr(학습률) * grad(미분값)\n",
    "    return x"
   ]
  },
  {
   "cell_type": "code",
   "execution_count": 127,
   "metadata": {},
   "outputs": [
    {
     "data": {
      "text/plain": [
       "array([-6.11110793e-10,  8.14814391e-10])"
      ]
     },
     "execution_count": 127,
     "metadata": {},
     "output_type": "execute_result"
    }
   ],
   "source": [
    "def function_2(x):\n",
    "    return np.sum(x**2)\n",
    "\n",
    "init_x = np.array([-3.0, 4.0])\n",
    "gradient_descent(function_2, init_x=init_x, lr=0.1, step_num=100)\n",
    "# 학습률 0.1, 초깃값은 init_x이며 100회 반복하여 function_2를 최적화 함"
   ]
  },
  {
   "cell_type": "code",
   "execution_count": 128,
   "metadata": {},
   "outputs": [
    {
     "data": {
      "text/plain": [
       "array([-2.58983747e+13, -1.29524862e+12])"
      ]
     },
     "execution_count": 128,
     "metadata": {},
     "output_type": "execute_result"
    }
   ],
   "source": [
    "# 학습률이 너무 클 때 -> 너무 큰 값으로 발산\n",
    "init_x = np.array([-3.0, 4.0])\n",
    "gradient_descent(function_2, init_x=init_x, lr=10.0, step_num=100)"
   ]
  },
  {
   "cell_type": "code",
   "execution_count": 129,
   "metadata": {},
   "outputs": [
    {
     "data": {
      "text/plain": [
       "array([-2.58983747e+13, -1.29524862e+12])"
      ]
     },
     "execution_count": 129,
     "metadata": {},
     "output_type": "execute_result"
    }
   ],
   "source": [
    "# 학습률이 너무 작을 때 -> 거의 갱신되지 않음\n",
    "gradient_descent(function_2, init_x=init_x, lr=1e-10, step_num=100)"
   ]
  },
  {
   "cell_type": "markdown",
   "metadata": {},
   "source": [
    "하이퍼파라미터(Hyper parameter, 초매개변수) : 사람이 직접 설정해야 하는 매개변수\n",
    "- EX) 학습률\n",
    "- 가중치와 편향은 훈련 데이터와 학습 알고리즘에 의해 자동으로 획득되므로 하이퍼파라미터가 아님"
   ]
  },
  {
   "cell_type": "markdown",
   "metadata": {},
   "source": [
    "신경망 학습에서 가중치 매개변수에 대한 손실 함수의 기울기 구하기\n",
    "- 편미분 배열의 형상(행렬)이 가중치 행렬과 같아야 함"
   ]
  },
  {
   "cell_type": "code",
   "execution_count": 131,
   "metadata": {},
   "outputs": [],
   "source": [
    "import sys, os\n",
    "sys.path.append(os.pardir)\n",
    "import numpy as np\n",
    "from common.functions import softmax, cross_entropy_error\n",
    "from common.gradient import numerical_gradient\n",
    "\n",
    "class simpleNet:\n",
    "    def __init__(self):\n",
    "        self.W = np.random.randn(2, 3) # 표준정규분포로부터 샘플링된 난수를 반환하는 함수\n",
    "        \n",
    "    def predict(self, x): # 예측 수행\n",
    "        return np.dot(x, self.W) # x와 self.W을 행렬곱\n",
    "    \n",
    "    def loss(self, x, t): # 손실 함수, x: 입력 데이터, t: 정답 레이블\n",
    "        z = self.predict(x)\n",
    "        y = softmax(z)\n",
    "        loss = cross_entropy_error(y, t)\n",
    "        \n",
    "        return loss"
   ]
  },
  {
   "cell_type": "code",
   "execution_count": null,
   "metadata": {},
   "outputs": [],
   "source": [
    "'''\n",
    "def softmax(x):\n",
    "    if x.ndim == 2:\n",
    "        x = x.T\n",
    "        x = x - np.max(x, axis=0)\n",
    "        y = np.exp(x) / np.sum(np.exp(x), axis=0)\n",
    "        return y.T \n",
    "\n",
    "    x = x - np.max(x) # 오버플로 대책\n",
    "    return np.exp(x) / np.sum(np.exp(x))\n",
    "    \n",
    "def cross_entropy_error(y, t):\n",
    "    if y.ndim == 1:\n",
    "        t = t.reshape(1, t.size)\n",
    "        y = y.reshape(1, y.size)\n",
    "        \n",
    "    # 훈련 데이터가 원-핫 벡터라면 정답 레이블의 인덱스로 반환\n",
    "    if t.size == y.size:\n",
    "        t = t.argmax(axis=1)\n",
    "             \n",
    "    batch_size = y.shape[0]\n",
    "    return -np.sum(np.log(y[np.arange(batch_size), t] + 1e-7)) / batch_size\n",
    "\n",
    "def numerical_gradient(f, x):\n",
    "    h = 1e-4 # 0.0001\n",
    "    grad = np.zeros_like(x)\n",
    "    \n",
    "    it = np.nditer(x, flags=['multi_index'], op_flags=['readwrite'])\n",
    "    while not it.finished:\n",
    "        idx = it.multi_index\n",
    "        tmp_val = x[idx]\n",
    "        x[idx] = float(tmp_val) + h\n",
    "        fxh1 = f(x) # f(x+h)\n",
    "        \n",
    "        x[idx] = tmp_val - h \n",
    "        fxh2 = f(x) # f(x-h)\n",
    "        grad[idx] = (fxh1 - fxh2) / (2*h)\n",
    "        \n",
    "        x[idx] = tmp_val # 값 복원\n",
    "        it.iternext()   \n",
    "        \n",
    "    return grad\n",
    "\n",
    "'''"
   ]
  },
  {
   "cell_type": "code",
   "execution_count": 134,
   "metadata": {},
   "outputs": [
    {
     "name": "stdout",
     "output_type": "stream",
     "text": [
      "[[-0.33447707  0.20622332  0.34433655]\n",
      " [ 0.72350663  0.34102068  1.47549123]]\n",
      "[0.45046972 0.43065261 1.53454403]\n"
     ]
    },
    {
     "data": {
      "text/plain": [
       "2"
      ]
     },
     "execution_count": 134,
     "metadata": {},
     "output_type": "execute_result"
    }
   ],
   "source": [
    "net = simpleNet()\n",
    "print(net.W) # 가중치 매개변수(2, 3)\n",
    "\n",
    "x = np.array([0.6, 0.9]) # 입력 데이터\n",
    "p = net.predict(x) # 분류\n",
    "print(p)\n",
    "\n",
    "np.argmax(p) # 최댓값의 인덱스"
   ]
  },
  {
   "cell_type": "code",
   "execution_count": 135,
   "metadata": {},
   "outputs": [
    {
     "data": {
      "text/plain": [
       "0.5126994863139301"
      ]
     },
     "execution_count": 135,
     "metadata": {},
     "output_type": "execute_result"
    }
   ],
   "source": [
    "t = np.array([0, 0, 1])\n",
    "net.loss(x, t)"
   ]
  },
  {
   "cell_type": "code",
   "execution_count": 136,
   "metadata": {},
   "outputs": [
    {
     "name": "stdout",
     "output_type": "stream",
     "text": [
      "[[ 0.12152932  0.11914466 -0.24067398]\n",
      " [ 0.18229397  0.17871699 -0.36101097]]\n"
     ]
    }
   ],
   "source": [
    "def f(W): # W: 더미 변수(가변수(독립변수를 0과1로 변환한 변수)와 같은 의미인 듯)\n",
    "    return net.loss(x, t) # 손실 함수 값 리턴\n",
    "\n",
    "dW = numerical_gradient(f, net.W) # 가중치의 기울기\n",
    "print(dW)"
   ]
  },
  {
   "cell_type": "code",
   "execution_count": 2,
   "metadata": {},
   "outputs": [
    {
     "ename": "NameError",
     "evalue": "name 'net' is not defined",
     "output_type": "error",
     "traceback": [
      "\u001b[1;31m---------------------------------------------------------------------------\u001b[0m",
      "\u001b[1;31mNameError\u001b[0m                                 Traceback (most recent call last)",
      "\u001b[1;32mc:\\ML\\ch04\\3.4-code.ipynb 셀 57\u001b[0m in \u001b[0;36m<cell line: 4>\u001b[1;34m()\u001b[0m\n\u001b[0;32m      <a href='vscode-notebook-cell:/c%3A/ML/ch04/3.4-code.ipynb#ch0000056?line=0'>1</a>\u001b[0m \u001b[39m# 간단한 함수를 람다 기법으로 표현하기\u001b[39;00m\n\u001b[0;32m      <a href='vscode-notebook-cell:/c%3A/ML/ch04/3.4-code.ipynb#ch0000056?line=1'>2</a>\u001b[0m \u001b[39m# 람다 형식 => lambda 매개변수 : 표현식\u001b[39;00m\n\u001b[0;32m      <a href='vscode-notebook-cell:/c%3A/ML/ch04/3.4-code.ipynb#ch0000056?line=2'>3</a>\u001b[0m f \u001b[39m=\u001b[39m \u001b[39mlambda\u001b[39;00m w: net\u001b[39m.\u001b[39mloss(x, t)\n\u001b[1;32m----> <a href='vscode-notebook-cell:/c%3A/ML/ch04/3.4-code.ipynb#ch0000056?line=3'>4</a>\u001b[0m dW \u001b[39m=\u001b[39m numerical_gradient(f, net\u001b[39m.\u001b[39mW)\n",
      "\u001b[1;31mNameError\u001b[0m: name 'net' is not defined"
     ]
    }
   ],
   "source": [
    "# 간단한 함수를 람다 기법으로 표현하기\n",
    "# 람다 형식 => lambda 매개변수 : 표현식\n",
    "f = lambda w: net.loss(x, t)\n",
    "dW = numerical_gradient(f, net.W)"
   ]
  },
  {
   "cell_type": "markdown",
   "metadata": {},
   "source": [
    "신경망 학습(매개변수(가중치, 편향)를 훈련 데이터에 적응하도록 조정하는 과정)의 절차 - 경사 하강법(확률적 경사 하강법, SGD(Stochastic Gradient Descent))\n",
    "1. 미니배치; 일부 무작위 데이터 선별 -> 목표: 손실 함수의 최솟값 탐색\n",
    "2. 기울기 산출; 손실 함수의 값을 작게 하는 방향을 찾아 가중치 매개변수의 기울기를 구함\n",
    "3. 매개변수 갱신; 가중치 매개변수를 기울기 방향으로 약간 갱신\n",
    "4. 1~3번 반복"
   ]
  },
  {
   "cell_type": "code",
   "execution_count": 1,
   "metadata": {},
   "outputs": [],
   "source": [
    "# 2층 신경망(은닉층 1개)을 하나의 클래스로 구현\n",
    "import sys, os\n",
    "sys.path.append(os.pardir)\n",
    "from common.functions import *\n",
    "from common.gradient import numerical_gradient\n",
    "\n",
    "class TwoLayerNet:\n",
    "    # input_size/hidden_size/output_size: 입력층/은닉층/출력층의 뉴런 수\n",
    "    def __init__(self, input_size, hidden_size, output_size,\n",
    "                 weight_init_std=0.01):\n",
    "        self.params = {} # 딕셔너리 변수, 신경망 매개변수 보관\n",
    "        self.params['W1'] = weight_init_std * \\\n",
    "            np.random.randn(input_size, hidden_size) # 정규 분포를 따르는 난수\n",
    "        self.params['b1'] = np.zeros(hidden_size) # 편향 : 0\n",
    "        self.params['W2'] = weight_init_std * \\\n",
    "            np.random.randn(hidden_size, output_size)\n",
    "        self.params['b2'] = np.zeros(output_size) # 편향 : 0\n",
    "        \n",
    "    def predict(self, x): # 분류\n",
    "        W1, W2 = self.params['W1'], self.params['W2']\n",
    "        b1, b2 = self.params['b1'], self.params['b2']\n",
    "        \n",
    "        a1 = np.dot(x, W1) + b1\n",
    "        z1 = sigmoid(a1)\n",
    "        a2 = np.dot(z1, W2) + b2\n",
    "        y = softmax(a2)\n",
    "        \n",
    "        return y\n",
    "    \n",
    "    def loss(self, x, t): # 손실 함수\n",
    "        y = self.predict(x)\n",
    "        \n",
    "        return cross_entropy_error(y, t)\n",
    "    \n",
    "    def accuracy(self, x, t):\n",
    "        y = self.predict(x)\n",
    "        y = np.argmax(y, axis=1)\n",
    "        t = np.argmax(t, axis=1)\n",
    "        \n",
    "        accuracy = np.sum(y == t) / float(x.shape[0])\n",
    "        return accuracy\n",
    "    \n",
    "    def numerical_gradient(self, x, t):\n",
    "        loss_W = lambda W: self.loss(x, t) # 함수\n",
    "        \n",
    "        grads = {} # 딕셔너리 변수, 매개변수의 기울기 보관\n",
    "        grads['W1'] = numerical_gradient(loss_W, self.params['W1'])\n",
    "        grads['b1'] = numerical_gradient(loss_W, self.params['b1'])\n",
    "        grads['W2'] = numerical_gradient(loss_W, self.params['W2'])\n",
    "        grads['b2'] = numerical_gradient(loss_W, self.params['b2'])\n",
    "        \n",
    "        return grads"
   ]
  },
  {
   "cell_type": "code",
   "execution_count": 3,
   "metadata": {},
   "outputs": [
    {
     "name": "stdout",
     "output_type": "stream",
     "text": [
      "(784, 100)\n",
      "(100,)\n",
      "(100, 10)\n",
      "(10,)\n"
     ]
    }
   ],
   "source": [
    "net = TwoLayerNet(input_size=784, hidden_size=100, output_size=10)\n",
    "print(net.params['W1'].shape)\n",
    "print(net.params['b1'].shape)\n",
    "print(net.params['W2'].shape)\n",
    "print(net.params['b2'].shape)"
   ]
  },
  {
   "cell_type": "code",
   "execution_count": 4,
   "metadata": {},
   "outputs": [],
   "source": [
    "x = np.random.rand(100, 784) # 더미 입력 데이터(100장)\n",
    "y = net.predict"
   ]
  },
  {
   "cell_type": "code",
   "execution_count": 5,
   "metadata": {},
   "outputs": [
    {
     "name": "stdout",
     "output_type": "stream",
     "text": [
      "(784, 100)\n",
      "(100,)\n",
      "(100, 10)\n",
      "(10,)\n"
     ]
    }
   ],
   "source": [
    "x = np.random.rand(100, 784)\n",
    "t = np.random.rand(100, 10)\n",
    "\n",
    "grads = net.numerical_gradient(x, t)\n",
    "\n",
    "print(grads['W1'].shape)\n",
    "print(grads['b1'].shape)\n",
    "print(grads['W2'].shape)\n",
    "print(grads['b2'].shape)\n",
    "\n",
    "# 3분이나 걸렸다\n",
    "# 뒷장에서 오차역전파법을 사용하는 효율 좋은 함수 gradient(self, x, t)을 배움"
   ]
  },
  {
   "cell_type": "code",
   "execution_count": 6,
   "metadata": {},
   "outputs": [
    {
     "name": "stdout",
     "output_type": "stream",
     "text": [
      "[[ 1.86719320e-04 -3.54458098e-04  1.27934463e-04 ... -2.06209008e-04\n",
      "  -1.24964257e-04  1.72569106e-04]\n",
      " [ 5.79385229e-05 -1.53765896e-04  1.64866669e-04 ... -2.64773587e-04\n",
      "  -4.29415836e-05  6.36640762e-05]\n",
      " [ 9.07027564e-05 -1.30062785e-04  6.06502604e-05 ... -2.66081992e-04\n",
      "  -2.69605500e-04  7.06989267e-05]\n",
      " ...\n",
      " [ 1.25161401e-04 -1.84393887e-04  4.33149605e-05 ... -1.90114888e-04\n",
      "  -1.59343201e-04 -1.65786407e-05]\n",
      " [ 9.39811273e-05 -2.39341564e-04  3.12607629e-05 ... -1.26881956e-04\n",
      "  -2.59931476e-05  2.66524913e-05]\n",
      " [ 8.51819570e-05 -1.44095438e-04  3.15001647e-05 ... -9.74652292e-05\n",
      "  -1.43529419e-04  1.30050524e-04]]\n",
      "[ 2.19118592e-04 -4.61898619e-04  1.02590445e-04  1.73721268e-04\n",
      " -4.43234782e-06  1.40843905e-04  2.61730271e-04  3.54191565e-05\n",
      " -3.73766440e-04  2.68625655e-04  9.44050549e-05 -6.89157043e-05\n",
      " -5.14541698e-05 -4.24830371e-05  4.64905159e-05 -2.86985351e-04\n",
      "  6.28148067e-05  4.96115025e-04  3.40045325e-06  1.47092942e-04\n",
      "  2.96020297e-04  3.95481670e-05  1.57424136e-04  4.00694853e-04\n",
      " -2.09060154e-04  1.70385246e-04 -2.08556423e-04  1.68986580e-05\n",
      "  1.29314492e-04 -2.07055446e-04 -1.56554396e-04  1.38575977e-04\n",
      " -1.94156948e-04 -2.79334720e-04  6.04046368e-05 -2.19865826e-04\n",
      "  1.46214063e-04 -1.75713220e-04 -4.54785054e-05  9.26165389e-05\n",
      "  7.48935136e-05 -9.82423987e-05 -1.91567229e-05  6.75088541e-05\n",
      "  4.16179735e-04 -2.79038017e-04  3.46382738e-04 -3.29617655e-04\n",
      "  3.04174617e-04  2.97900005e-04 -6.46112563e-05  1.53876785e-04\n",
      " -4.56941596e-05  4.81959894e-05  1.75991530e-04 -1.42795085e-04\n",
      "  1.21380319e-04  2.65139752e-04  2.22111658e-04  2.86543160e-04\n",
      " -6.07609962e-06  2.88161586e-04 -2.78050878e-04 -3.59002605e-05\n",
      "  7.59273799e-05  7.15683734e-06  3.49442204e-04 -5.47000933e-05\n",
      "  1.52903312e-05 -2.57379891e-04 -5.67645173e-04 -1.91739491e-04\n",
      " -3.79763831e-04 -2.59010191e-05  1.61725779e-04 -5.69112246e-05\n",
      " -4.33538407e-04  4.90863639e-05 -3.04443319e-04  7.97485455e-05\n",
      " -2.58186628e-05  2.47925902e-05  5.74406700e-05  1.27806461e-04\n",
      "  2.60166797e-04 -1.96758672e-04 -6.98247460e-05 -1.24588704e-04\n",
      "  8.48016302e-05  1.02314375e-04  2.28308292e-04 -2.96280236e-04\n",
      " -3.06572132e-04 -2.78007395e-05  6.31623087e-05 -3.17189515e-04\n",
      "  1.65307195e-04 -3.46926234e-04 -2.06388762e-04  1.44701888e-04]\n",
      "[[ 1.16241453e-02  2.18819762e-02 -3.52996530e-03  2.70657499e-04\n",
      "   6.34553271e-03 -3.13492710e-02  7.65624055e-03 -6.74116064e-03\n",
      "   3.35982383e-03 -9.51797899e-03]\n",
      " [ 1.09036234e-02  2.30728093e-02 -3.31178056e-03  5.49222419e-04\n",
      "   7.19366997e-03 -3.27206803e-02  7.74252604e-03 -6.85736790e-03\n",
      "   2.40921362e-03 -8.98123583e-03]\n",
      " [ 1.03224972e-02  2.06560782e-02 -2.70534422e-03  8.38457872e-04\n",
      "   5.94736828e-03 -3.09035177e-02  7.33387743e-03 -6.14582286e-03\n",
      "   2.89087230e-03 -8.23446637e-03]\n",
      " [ 1.15887292e-02  2.37486516e-02 -3.55093887e-03  1.03391917e-03\n",
      "   8.27730975e-03 -3.62513173e-02  8.89193895e-03 -7.48544897e-03\n",
      "   2.02514118e-03 -8.27798451e-03]\n",
      " [ 1.04176153e-02  2.19617422e-02 -3.52793973e-03  9.80782171e-04\n",
      "   6.51522041e-03 -3.27196364e-02  8.36023446e-03 -6.93375256e-03\n",
      "   2.94609426e-03 -8.00035989e-03]\n",
      " [ 9.45470120e-03  2.12650208e-02 -2.82264307e-03  4.74292565e-04\n",
      "   7.29093899e-03 -3.20737528e-02  7.91850097e-03 -7.11947469e-03\n",
      "   2.80325184e-03 -7.19083561e-03]\n",
      " [ 1.24375378e-02  2.41768781e-02 -3.50212400e-03  1.70281751e-03\n",
      "   6.80919529e-03 -3.60190180e-02  8.21136271e-03 -7.24734159e-03\n",
      "   3.63341780e-03 -1.02027255e-02]\n",
      " [ 1.04921624e-02  2.04492628e-02 -2.69419492e-03  5.07800444e-04\n",
      "   6.75561743e-03 -3.03485631e-02  7.45418680e-03 -6.82303940e-03\n",
      "   2.71632699e-03 -8.50955926e-03]\n",
      " [ 1.18631328e-02  2.25490443e-02 -2.74189953e-03  3.56943215e-04\n",
      "   7.85126907e-03 -3.45059205e-02  9.29295185e-03 -6.93570154e-03\n",
      "   1.68124764e-03 -9.41106704e-03]\n",
      " [ 1.20151442e-02  2.38007578e-02 -3.51867944e-03  1.04340857e-03\n",
      "   7.74658677e-03 -3.70809497e-02  8.74569419e-03 -6.94551507e-03\n",
      "   3.32735722e-03 -9.13380440e-03]\n",
      " [ 1.05486775e-02  2.22887200e-02 -2.63260566e-03  1.65304926e-03\n",
      "   6.64970493e-03 -3.30526170e-02  8.63726829e-03 -7.08994159e-03\n",
      "   2.33949822e-03 -9.34175383e-03]\n",
      " [ 1.18569873e-02  2.41900848e-02 -3.86655194e-03  1.20156896e-04\n",
      "   7.46255606e-03 -3.53166389e-02  8.80157654e-03 -6.95803939e-03\n",
      "   3.59787616e-03 -9.88800726e-03]\n",
      " [ 1.16500976e-02  2.46385590e-02 -2.63494700e-03  6.07689139e-04\n",
      "   7.21534263e-03 -3.67346872e-02  8.81384640e-03 -6.56214571e-03\n",
      "   3.11075914e-03 -1.01045139e-02]\n",
      " [ 1.13602979e-02  2.08280537e-02 -2.96450292e-03  5.71465721e-04\n",
      "   6.59344608e-03 -3.24884920e-02  8.10876727e-03 -5.54808690e-03\n",
      "   1.87794646e-03 -8.33889521e-03]\n",
      " [ 1.05664216e-02  2.07197484e-02 -2.91436006e-03  4.36891319e-04\n",
      "   6.92557658e-03 -3.09395976e-02  7.46885223e-03 -5.79118783e-03\n",
      "   2.68003548e-03 -9.15237996e-03]\n",
      " [ 1.20329100e-02  2.33545820e-02 -4.01569477e-03  1.66435110e-04\n",
      "   8.23414777e-03 -3.36132363e-02  7.87244305e-03 -7.13547411e-03\n",
      "   3.27650203e-03 -1.01726146e-02]\n",
      " [ 1.05056616e-02  2.24031587e-02 -2.88577123e-03  8.42930932e-04\n",
      "   7.65799994e-03 -3.38230857e-02  9.20993608e-03 -6.87044019e-03\n",
      "   2.45540374e-03 -9.49579370e-03]\n",
      " [ 9.08611460e-03  1.81863867e-02 -2.50758384e-03  2.65597990e-04\n",
      "   5.36077581e-03 -2.74384926e-02  6.83750634e-03 -4.91352231e-03\n",
      "   2.51545217e-03 -7.39223474e-03]\n",
      " [ 1.02964593e-02  2.03291390e-02 -3.27871622e-03  1.51054453e-03\n",
      "   6.36066969e-03 -2.98249257e-02  7.83225738e-03 -6.93246917e-03\n",
      "   1.52405267e-03 -7.81701136e-03]\n",
      " [ 1.19453255e-02  2.47930083e-02 -3.54932055e-03  1.98924228e-03\n",
      "   6.76756366e-03 -3.61674491e-02  8.68246293e-03 -7.66524186e-03\n",
      "   2.58540843e-03 -9.38099947e-03]\n",
      " [ 1.06904583e-02  2.15826263e-02 -2.86884994e-03  3.40043440e-04\n",
      "   6.82487308e-03 -3.27874430e-02  8.49193842e-03 -6.87318509e-03\n",
      "   3.77529815e-03 -9.17575956e-03]\n",
      " [ 1.03833933e-02  2.14190400e-02 -2.11104589e-03  8.04358533e-04\n",
      "   7.18832031e-03 -3.24618368e-02  7.76286973e-03 -7.01306585e-03\n",
      "   2.78679704e-03 -8.75883025e-03]\n",
      " [ 1.19473692e-02  2.43356002e-02 -3.36151095e-03  5.53966129e-04\n",
      "   7.57447180e-03 -3.53297251e-02  8.88801890e-03 -7.42578897e-03\n",
      "   2.70864665e-03 -9.89104772e-03]\n",
      " [ 1.21735729e-02  2.45494657e-02 -3.74907200e-03  1.66784230e-03\n",
      "   6.68515616e-03 -3.76040860e-02  9.67957948e-03 -7.77215130e-03\n",
      "   3.24403425e-03 -8.87434130e-03]\n",
      " [ 1.13050414e-02  2.33273805e-02 -3.31138247e-03  2.03888660e-03\n",
      "   6.70452479e-03 -3.49204528e-02  8.60507119e-03 -6.83804351e-03\n",
      "   3.02800372e-03 -9.93902933e-03]\n",
      " [ 1.19693483e-02  2.24403555e-02 -2.49095348e-03 -1.23439705e-04\n",
      "   7.03940506e-03 -3.32553382e-02  8.37241151e-03 -6.59092561e-03\n",
      "   1.84947858e-03 -9.21034169e-03]\n",
      " [ 1.10144062e-02  2.19155823e-02 -2.30390286e-03  1.72025831e-04\n",
      "   6.26708525e-03 -3.27470822e-02  8.35010505e-03 -6.57224227e-03\n",
      "   2.84087265e-03 -8.93684980e-03]\n",
      " [ 1.25520354e-02  2.50574437e-02 -2.43435256e-03  1.09854855e-03\n",
      "   6.83217777e-03 -3.76973061e-02  9.28584125e-03 -7.53901098e-03\n",
      "   2.94744999e-03 -1.01028268e-02]\n",
      " [ 1.13051309e-02  2.31380308e-02 -3.21989448e-03  1.42873679e-03\n",
      "   6.38258528e-03 -3.32602838e-02  7.56766268e-03 -6.02767307e-03\n",
      "   2.75820679e-03 -1.00725018e-02]\n",
      " [ 1.11105997e-02  2.23343360e-02 -4.09031839e-03  9.36754061e-04\n",
      "   6.67080500e-03 -3.40881353e-02  7.88261314e-03 -5.66765399e-03\n",
      "   3.53358702e-03 -8.62258720e-03]\n",
      " [ 1.00976487e-02  2.03122952e-02 -3.05466291e-03  8.86992382e-04\n",
      "   5.86034676e-03 -2.85393146e-02  8.10289069e-03 -6.33124611e-03\n",
      "   1.04815857e-03 -8.38310855e-03]\n",
      " [ 9.57551648e-03  1.85291150e-02 -2.75479709e-03  5.33169930e-04\n",
      "   6.46618769e-03 -3.01192351e-02  8.20329370e-03 -5.18618604e-03\n",
      "   2.20417272e-03 -7.45123718e-03]\n",
      " [ 1.17601923e-02  2.26630997e-02 -2.44585690e-03 -3.50776119e-05\n",
      "   6.81764368e-03 -3.36886318e-02  8.21758218e-03 -6.12073871e-03\n",
      "   3.00245146e-03 -1.01706642e-02]\n",
      " [ 1.06921726e-02  2.01971095e-02 -3.33342920e-03  1.71565417e-03\n",
      "   6.28719561e-03 -3.20368544e-02  8.36173774e-03 -5.71129218e-03\n",
      "   3.15815738e-03 -9.33045104e-03]\n",
      " [ 9.70309652e-03  2.31092778e-02 -3.03414508e-03  1.00534117e-03\n",
      "   7.97662522e-03 -3.50428359e-02  9.38382218e-03 -6.52224302e-03\n",
      "   2.56681246e-03 -9.14575112e-03]\n",
      " [ 1.13745606e-02  2.34908927e-02 -3.05272267e-03  1.33010766e-03\n",
      "   6.18751893e-03 -3.38429102e-02  8.39956871e-03 -6.67623667e-03\n",
      "   2.14145669e-03 -9.35223565e-03]\n",
      " [ 1.11325929e-02  2.07501384e-02 -3.26058178e-03  4.95177312e-04\n",
      "   6.06459467e-03 -3.18310473e-02  8.37987206e-03 -5.10417718e-03\n",
      "   2.42996892e-03 -9.05653785e-03]\n",
      " [ 1.04208865e-02  2.15793925e-02 -3.33443250e-03  1.60219920e-03\n",
      "   6.28274861e-03 -3.20058376e-02  8.92403741e-03 -6.70696903e-03\n",
      "   1.75916148e-03 -8.52118651e-03]\n",
      " [ 1.10956929e-02  2.28965161e-02 -3.43594940e-03  7.96241246e-04\n",
      "   7.31750744e-03 -3.50681641e-02  9.46343839e-03 -6.19937808e-03\n",
      "   2.33939109e-03 -9.20529542e-03]\n",
      " [ 1.07581792e-02  2.21200281e-02 -4.46151477e-03  1.07547872e-03\n",
      "   7.14193407e-03 -3.38753782e-02  8.55822120e-03 -7.21587960e-03\n",
      "   3.49953182e-03 -7.60060039e-03]\n",
      " [ 8.77451828e-03  1.80854320e-02 -2.33532803e-03  7.12192387e-04\n",
      "   6.15490902e-03 -2.81237612e-02  7.94380964e-03 -4.83529222e-03\n",
      "   1.22684547e-03 -7.60332528e-03]\n",
      " [ 1.03873871e-02  2.13883956e-02 -2.17054666e-03  1.18643359e-03\n",
      "   6.06761102e-03 -3.28363281e-02  8.77549853e-03 -5.77761824e-03\n",
      "   2.93609902e-03 -9.95693166e-03]\n",
      " [ 1.12499657e-02  2.20652802e-02 -2.23142429e-03  1.50977004e-03\n",
      "   6.65700984e-03 -3.36495102e-02  7.63463781e-03 -5.46621150e-03\n",
      "   2.76057850e-03 -1.05300960e-02]\n",
      " [ 1.20111515e-02  2.39052273e-02 -2.92694082e-03  1.67088385e-03\n",
      "   7.06810292e-03 -3.52687700e-02  8.85622259e-03 -8.16410577e-03\n",
      "   2.18002509e-03 -9.33179646e-03]\n",
      " [ 1.16757857e-02  2.29002028e-02 -2.81847714e-03  1.42837508e-03\n",
      "   6.92176641e-03 -3.42124804e-02  7.57618063e-03 -6.42914191e-03\n",
      "   1.90081025e-03 -8.94302120e-03]\n",
      " [ 1.24246025e-02  2.46943983e-02 -3.80238097e-03  1.59851649e-03\n",
      "   7.89650690e-03 -3.68299375e-02  8.38592438e-03 -6.57186364e-03\n",
      "   3.10306516e-03 -1.08988314e-02]\n",
      " [ 1.07057928e-02  2.17407878e-02 -2.56858365e-03 -2.13921769e-05\n",
      "   7.25827937e-03 -3.27715990e-02  7.88717065e-03 -5.66355682e-03\n",
      "   1.73663231e-03 -8.30353104e-03]\n",
      " [ 1.14865985e-02  2.28300453e-02 -3.32706720e-03  1.87458390e-03\n",
      "   7.03088080e-03 -3.47605511e-02  8.83373006e-03 -6.85378282e-03\n",
      "   2.55521832e-03 -9.66965559e-03]\n",
      " [ 1.05167639e-02  2.20850595e-02 -3.68627252e-03  1.16544988e-03\n",
      "   6.79484007e-03 -3.32988051e-02  9.13066723e-03 -6.79504492e-03\n",
      "   1.95177182e-03 -7.86442973e-03]\n",
      " [ 1.18633724e-02  2.22254758e-02 -3.80929880e-03  5.96683076e-04\n",
      "   7.65049078e-03 -3.52433624e-02  8.75812763e-03 -6.59318866e-03\n",
      "   2.24537707e-03 -7.69367666e-03]\n",
      " [ 1.08717391e-02  1.96769324e-02 -3.21289952e-03  1.22535925e-03\n",
      "   5.81956175e-03 -3.04200946e-02  8.59639260e-03 -5.43281443e-03\n",
      "   2.24112101e-03 -9.36529740e-03]\n",
      " [ 1.07033262e-02  2.23895789e-02 -4.26718254e-03  1.10300079e-03\n",
      "   6.71354105e-03 -3.26797819e-02  7.54737807e-03 -6.16115158e-03\n",
      "   2.74762438e-03 -8.09633324e-03]\n",
      " [ 1.16784859e-02  2.53959280e-02 -3.59592104e-03  1.68978124e-03\n",
      "   7.37901384e-03 -3.64622099e-02  9.49943803e-03 -7.98497666e-03\n",
      "   2.62742988e-03 -1.02269692e-02]\n",
      " [ 1.07201001e-02  2.15440841e-02 -2.96649027e-03  2.02053028e-04\n",
      "   6.70069510e-03 -3.23611954e-02  7.76837528e-03 -5.99174289e-03\n",
      "   2.35568173e-03 -7.97156062e-03]\n",
      " [ 1.01433902e-02  1.92146347e-02 -2.31279967e-03  1.11890077e-03\n",
      "   6.36939226e-03 -2.90283895e-02  7.65097354e-03 -5.97287323e-03\n",
      "   9.40050338e-04 -8.12327930e-03]\n",
      " [ 1.19031380e-02  2.42056400e-02 -4.20732784e-03  7.49816607e-04\n",
      "   7.33535317e-03 -3.62583271e-02  8.70218827e-03 -7.17368458e-03\n",
      "   3.18004106e-03 -8.43683734e-03]\n",
      " [ 1.19022286e-02  2.22843781e-02 -3.29009363e-03  9.01537061e-04\n",
      "   7.03369739e-03 -3.26941699e-02  8.37626446e-03 -7.38094997e-03\n",
      "   2.94745478e-03 -1.00803468e-02]\n",
      " [ 1.19032689e-02  2.42789272e-02 -3.48975280e-03  9.19037633e-04\n",
      "   7.29808932e-03 -3.68201583e-02  9.76264937e-03 -6.49643726e-03\n",
      "   3.18120869e-03 -1.05368325e-02]\n",
      " [ 1.05839343e-02  2.09691511e-02 -4.24775432e-03  1.10458129e-03\n",
      "   6.56929282e-03 -3.20465961e-02  7.84787477e-03 -5.53604225e-03\n",
      "   2.59234060e-03 -7.83678208e-03]\n",
      " [ 1.19598696e-02  2.30307583e-02 -2.54511057e-03 -1.98826964e-04\n",
      "   7.10141893e-03 -3.52814655e-02  9.51997741e-03 -7.05655644e-03\n",
      "   3.05988977e-03 -9.58995428e-03]\n",
      " [ 9.76647410e-03  1.95634966e-02 -3.24015545e-03  6.42109161e-04\n",
      "   7.00496006e-03 -3.06249878e-02  7.72376128e-03 -6.06657016e-03\n",
      "   2.89331674e-03 -7.66240444e-03]\n",
      " [ 1.18997016e-02  2.26826161e-02 -2.64682286e-03 -2.12213500e-04\n",
      "   7.45650710e-03 -3.58467463e-02  9.05607201e-03 -6.11882942e-03\n",
      "   3.42558527e-03 -9.69586984e-03]\n",
      " [ 1.05942677e-02  2.05466601e-02 -2.79785999e-03  1.90158488e-03\n",
      "   6.35472013e-03 -3.15509752e-02  8.60640970e-03 -8.43171174e-03\n",
      "   3.24888796e-03 -8.47198335e-03]\n",
      " [ 1.22022594e-02  2.45098719e-02 -2.89752762e-03  1.12520305e-03\n",
      "   7.30326180e-03 -3.71027506e-02  9.33117702e-03 -7.57735558e-03\n",
      "   2.63903843e-03 -9.53317759e-03]\n",
      " [ 1.30370695e-02  2.55632653e-02 -3.46687401e-03  2.01917490e-03\n",
      "   7.63815288e-03 -3.84798433e-02  9.62108450e-03 -7.30069893e-03\n",
      "   2.59678948e-03 -1.12281200e-02]\n",
      " [ 1.12100943e-02  2.35681631e-02 -3.22723161e-03  4.52095168e-04\n",
      "   7.32352374e-03 -3.54373348e-02  9.46610685e-03 -5.90087696e-03\n",
      "   2.30977728e-03 -9.76431676e-03]\n",
      " [ 1.16807520e-02  2.48647918e-02 -4.86289027e-03  1.09610923e-03\n",
      "   7.36503914e-03 -3.65022066e-02  9.65079237e-03 -6.94888245e-03\n",
      "   2.34825588e-03 -8.69176087e-03]\n",
      " [ 8.98252581e-03  1.91288846e-02 -2.96635296e-03 -3.07573378e-04\n",
      "   5.84151359e-03 -2.80885166e-02  7.74001829e-03 -5.35973102e-03\n",
      "   3.06043992e-03 -8.03120819e-03]\n",
      " [ 8.67282064e-03  1.91224822e-02 -3.13834297e-03  5.12294847e-04\n",
      "   5.85914933e-03 -2.78358505e-02  7.23915635e-03 -4.67865689e-03\n",
      "   1.97554114e-03 -7.72859404e-03]\n",
      " [ 1.14398806e-02  2.36165601e-02 -3.20174148e-03  2.31072295e-04\n",
      "   8.31032401e-03 -3.37632816e-02  8.53568100e-03 -7.78783765e-03\n",
      "   2.79742551e-03 -1.01780826e-02]\n",
      " [ 1.03614040e-02  2.13829852e-02 -2.84405306e-03  7.16790589e-04\n",
      "   6.02695399e-03 -3.13838506e-02  8.47179279e-03 -5.14866769e-03\n",
      "   1.73654881e-03 -9.31990387e-03]\n",
      " [ 9.60692083e-03  2.14055391e-02 -2.57568705e-03  1.67185195e-04\n",
      "   5.72234968e-03 -3.11649722e-02  7.23321757e-03 -4.96722527e-03\n",
      "   1.38019107e-03 -6.80751882e-03]\n",
      " [ 1.07878105e-02  2.22393577e-02 -2.30281386e-03  4.06209901e-04\n",
      "   6.57339726e-03 -3.28039398e-02  9.07299940e-03 -6.19843548e-03\n",
      "   9.98277536e-04 -8.77286298e-03]\n",
      " [ 1.11549638e-02  2.35291719e-02 -3.56684961e-03  4.06162566e-04\n",
      "   7.43233137e-03 -3.40149653e-02  8.95193458e-03 -7.60555858e-03\n",
      "   2.65337742e-03 -8.94056796e-03]\n",
      " [ 1.05314459e-02  2.09460514e-02 -3.64708789e-03  2.11187938e-04\n",
      "   7.08944700e-03 -3.17933900e-02  8.29319012e-03 -6.02953933e-03\n",
      "   2.14191051e-03 -7.74321556e-03]\n",
      " [ 1.03114734e-02  2.07096901e-02 -3.51309160e-03  7.48259110e-04\n",
      "   6.19816275e-03 -3.12905118e-02  8.39891378e-03 -5.53547338e-03\n",
      "   2.98651506e-03 -9.01393725e-03]\n",
      " [ 1.30075448e-02  2.26657277e-02 -2.58391627e-03 -1.84289541e-04\n",
      "   6.61323408e-03 -3.45275144e-02  8.34639399e-03 -7.04453343e-03\n",
      "   2.25069620e-03 -8.54334298e-03]\n",
      " [ 9.89148971e-03  2.15439550e-02 -2.12199981e-03  6.86516888e-05\n",
      "   6.00680151e-03 -3.30187257e-02  8.44151720e-03 -6.87383191e-03\n",
      "   3.66881335e-03 -7.60667094e-03]\n",
      " [ 1.24248962e-02  2.57214240e-02 -3.55031160e-03  1.93159506e-03\n",
      "   7.69056828e-03 -3.72561238e-02  8.61072818e-03 -7.13212835e-03\n",
      "   2.46591527e-03 -1.09065630e-02]\n",
      " [ 1.12955639e-02  2.19892785e-02 -3.48220818e-03  1.45247981e-03\n",
      "   6.91451418e-03 -3.29093294e-02  8.39056965e-03 -6.34031472e-03\n",
      "   1.56417277e-03 -8.87472648e-03]\n",
      " [ 1.00749846e-02  2.15350137e-02 -2.90966349e-03  1.22749672e-03\n",
      "   6.29960307e-03 -3.25968856e-02  8.17256362e-03 -6.19592188e-03\n",
      "   3.96753386e-03 -9.57472442e-03]\n",
      " [ 8.80232951e-03  1.71018143e-02 -2.93024434e-03  5.91701215e-04\n",
      "   6.78607032e-03 -2.79934043e-02  6.57173594e-03 -5.71918827e-03\n",
      "   3.70924635e-03 -6.92006061e-03]\n",
      " [ 1.14339096e-02  2.44984617e-02 -3.29556529e-03  1.37576998e-03\n",
      "   7.21090445e-03 -3.49360114e-02  8.47466957e-03 -5.93113998e-03\n",
      "   1.07405321e-03 -9.90505158e-03]\n",
      " [ 1.15792995e-02  2.28182297e-02 -3.85974031e-03  7.82729639e-04\n",
      "   8.23021461e-03 -3.55179143e-02  1.03975941e-02 -6.29988766e-03\n",
      "   2.22452983e-03 -1.03550549e-02]\n",
      " [ 1.14286720e-02  2.22386777e-02 -2.61664491e-03  4.28850504e-04\n",
      "   7.17013571e-03 -3.43837602e-02  8.60275449e-03 -6.71337162e-03\n",
      "   2.67600827e-03 -8.83132173e-03]\n",
      " [ 9.03286871e-03  1.88668897e-02 -2.41167773e-03  9.14224854e-04\n",
      "   5.62666038e-03 -2.65418063e-02  6.65586791e-03 -5.34876676e-03\n",
      "   1.18163902e-03 -7.97589968e-03]\n",
      " [ 1.16023489e-02  2.34287072e-02 -3.34320287e-03  3.41249513e-04\n",
      "   7.00559498e-03 -3.41094158e-02  8.84616272e-03 -7.00010558e-03\n",
      "   2.66726446e-03 -9.43860328e-03]\n",
      " [ 9.95946019e-03  2.04596935e-02 -2.93627807e-03  1.30873142e-03\n",
      "   6.35151737e-03 -2.97918755e-02  6.91555644e-03 -6.43945331e-03\n",
      "   3.06436371e-03 -8.89171568e-03]\n",
      " [ 1.02580230e-02  2.15814758e-02 -2.97458379e-03  8.73149149e-04\n",
      "   7.70292790e-03 -3.43716347e-02  8.11975624e-03 -6.30321092e-03\n",
      "   3.96196695e-03 -8.84786951e-03]\n",
      " [ 8.96279846e-03  2.02247440e-02 -2.49302726e-03  1.49366475e-03\n",
      "   6.91280030e-03 -3.14497014e-02  7.83252073e-03 -5.80069420e-03\n",
      "   1.87048804e-03 -7.55359328e-03]\n",
      " [ 1.05276064e-02  2.20717680e-02 -2.31007003e-03  2.24257942e-03\n",
      "   6.58518146e-03 -3.32551877e-02  7.94506607e-03 -5.47769580e-03\n",
      "   3.03771677e-04 -8.63301939e-03]\n",
      " [ 1.17269170e-02  2.31113808e-02 -2.84201297e-03  9.78110881e-04\n",
      "   7.54000397e-03 -3.42572846e-02  7.96757722e-03 -6.52803175e-03\n",
      "   2.20195947e-03 -9.89861980e-03]\n",
      " [ 9.63064217e-03  2.09714006e-02 -2.38411646e-03  1.13446775e-03\n",
      "   6.33469387e-03 -3.02285227e-02  7.21173418e-03 -6.18570956e-03\n",
      "   2.19840929e-03 -8.68299906e-03]\n",
      " [ 1.03914590e-02  2.17070325e-02 -3.36619191e-03  2.35374630e-03\n",
      "   6.31889467e-03 -3.27164157e-02  7.51803441e-03 -6.42459395e-03\n",
      "   3.95563440e-03 -9.73759952e-03]\n",
      " [ 9.72817213e-03  2.06213888e-02 -3.16775807e-03  1.30431249e-03\n",
      "   7.06076497e-03 -3.18986935e-02  7.44956900e-03 -5.64830035e-03\n",
      "   1.92515248e-03 -7.37460774e-03]\n",
      " [ 9.70490309e-03  2.01065606e-02 -3.39176295e-03  5.41845053e-04\n",
      "   6.10259472e-03 -2.98089683e-02  7.78358427e-03 -4.95122584e-03\n",
      "   2.34954758e-03 -8.43707809e-03]\n",
      " [ 1.05691283e-02  2.19616349e-02 -3.51168146e-03  8.29183271e-04\n",
      "   7.52495492e-03 -3.30673764e-02  8.51550604e-03 -6.43816491e-03\n",
      "   2.80941004e-03 -9.19259450e-03]\n",
      " [ 1.13731425e-02  2.06013385e-02 -3.33407644e-03  2.04131566e-03\n",
      "   6.67626463e-03 -3.26616989e-02  9.02746901e-03 -7.05179275e-03\n",
      "   2.10218286e-03 -8.77414492e-03]\n",
      " [ 1.13088388e-02  2.36415948e-02 -3.57535217e-03  9.22903902e-04\n",
      "   7.68503267e-03 -3.50972883e-02  9.40984888e-03 -7.15846017e-03\n",
      "   3.84368259e-03 -1.09808008e-02]\n",
      " [ 1.04238897e-02  2.27012320e-02 -3.87341652e-03  3.61411017e-04\n",
      "   7.78856448e-03 -3.29369946e-02  8.37316374e-03 -6.06796393e-03\n",
      "   3.07988716e-03 -9.84977292e-03]]\n",
      "[ 0.02181268  0.04387819 -0.00628458  0.00187966  0.01374795 -0.06590815\n",
      "  0.0164752  -0.01268546  0.00521777 -0.01813325]\n"
     ]
    }
   ],
   "source": [
    "print(grads['W1'])\n",
    "print(grads['b1'])\n",
    "print(grads['W2'])\n",
    "print(grads['b2'])"
   ]
  },
  {
   "cell_type": "code",
   "execution_count": 11,
   "metadata": {},
   "outputs": [],
   "source": [
    "# 미니배치 학습 구현\n",
    "import numpy as np\n",
    "from dataset.mnist import load_mnist\n",
    "from two_layer_net import TwoLayerNet\n",
    "\n",
    "(x_train, t_train), (x_test, t_test) = \\\n",
    "    load_mnist(normalize=True, one_hot_label=True)\n",
    "    \n",
    "train_loss_list = []\n",
    "\n",
    "# 하이퍼파라미터(직접 설정)\n",
    "iters_num = 10000 # 반복 횟수\n",
    "train_size = x_train.shape[0]\n",
    "batch_size = 100 # 미니배치 크기\n",
    "learning_rate = 0.1 # 학습률\n",
    "network = TwoLayerNet(input_size=784, hidden_size=50, output_size=10)\n",
    "\n",
    "\n",
    "for i in range(iters_num):\n",
    "    # 미니배치 획득\n",
    "    batch_mask = np.random.choice(train_size, batch_size)\n",
    "    x_batch = x_train[batch_mask]\n",
    "    t_batch = t_train[batch_mask]\n",
    "    \n",
    "    # 기울기 계산\n",
    "    grad = network.numerical_gradient(x_batch, t_batch)\n",
    "    \n",
    "    # 매개변수 갱신\n",
    "    for key in ('W1', 'b1', 'W2', 'b2'):\n",
    "        network.params[key] -= learning_rate * grad[key] # 학습률*미분값\n",
    "        \n",
    "    # 학습 경과 기록\n",
    "    loss = network.loss(x_batch, t_batch)\n",
    "    train_loss_list.append(loss)"
   ]
  },
  {
   "cell_type": "markdown",
   "metadata": {},
   "source": [
    "학습 시 오버피팅을 일으키지 않는지 확인해야 함\n",
    "- 정기적(1에폭별)으로 훈련 데이터와 시험 데이터에 대한 정확도를 기록해보자."
   ]
  },
  {
   "cell_type": "markdown",
   "metadata": {},
   "source": [
    "* 에폭(epoch) : 학습에서 훈련 데이터를 모두 소진했을 때의 횟수\n",
    "    - EX) 10,000개의 데이터를 100개의 미니배치로 학습할 경우, 100회 반복해야 데이터를 모두 소진함. 이 경우, 1에폭 = 100회"
   ]
  },
  {
   "cell_type": "code",
   "execution_count": null,
   "metadata": {},
   "outputs": [],
   "source": [
    "import numpy as np\n",
    "from dataset.mnist import load_mnist\n",
    "from two_layer_net import TwoLayerNet\n",
    "\n",
    "(x_train, t_train), (x_test, t_test) = \\\n",
    "    load_mnist(normalize=True, one_hot_label=Tre)\n",
    "    \n",
    "network = TwoLayerNet(input_size=784, hidden_size=50, output_size=10)\n",
    "\n",
    "# 하이퍼파라미터\n",
    "iters_num = 10000\n",
    "train_size = x_train.shape[0]\n",
    "batch_size = 100\n",
    "learning_rate = 0.1\n",
    "\n",
    "train_loss_list = []\n",
    "train_acc_list = []\n",
    "test_acc_list = []\n",
    "\n",
    "# 1에폭당 반복 수\n",
    "iter_per_epoch = max(train_size / batch_size, 1)\n",
    "\n",
    "for i in range(iters_num):\n",
    "    # 미니배치 획득\n",
    "    batch_mask = np.random.choice(train_size, batch_size)\n",
    "    x_batch = x_train[batch_mask]\n",
    "    t_batch = t_train[batch_mask]\n",
    "    \n",
    "    # 기울기 계산\n",
    "    # 너무 오래 걸려서 성능 개선된 gradient() 이용\n",
    "    grad = network.gradient(x_batch, t_batch)\n",
    "    \n",
    "    # 매개변수 갱신\n",
    "    for key in ('W1', 'b1', 'W2', 'b2'):\n",
    "        network.params[key] -= learning_rate * grad[key] # 학습률*미분값\n",
    "        \n",
    "    # 학습 경과 기록\n",
    "    loss = network.loss(x_batch, t_batch)\n",
    "    train_loss_list.append(loss)\n",
    "    \n",
    "    # 1에폭당 정확도 계산\n",
    "    if i % iter_per_epoch == 0:\n",
    "        train_acc = network.accuracy(x_train, t_train)\n",
    "        test_acc = network.accuracy(x_test, t_test)\n",
    "        train_acc_list.append(train_acc)\n",
    "        test_acc_list.append(test_acc)\n",
    "        print(\"train acc, test acc | \" + str(train_acc) + \", \" + str(test_acc))"
   ]
  },
  {
   "cell_type": "markdown",
   "metadata": {},
   "source": [
    "----------------------------------------------------------------------"
   ]
  },
  {
   "cell_type": "code",
   "execution_count": 138,
   "metadata": {},
   "outputs": [
    {
     "data": {
      "image/png": "[encoded data removed]",
      "text/plain": [
       "<Figure size 432x288 with 1 Axes>"
      ]
     },
     "metadata": {
      "needs_background": "light"
     },
     "output_type": "display_data"
    }
   ],
   "source": [
    "import numpy as np\n",
    "import matplotlib.pyplot as plt\n",
    "\n",
    "x = np.arange(0, 10, 1)\n",
    "y = x/60000\n",
    "\n",
    "plt.plot(x, y)\n",
    "plt.scatter(x, y)\n",
    "plt.show()"
   ]
  }
 ],
 "metadata": {
  "kernelspec": {
   "display_name": "Python 3.10.4 64-bit",
   "language": "python",
   "name": "python3"
  },
  "language_info": {
   "codemirror_mode": {
    "name": "ipython",
    "version": 3
   },
   "file_extension": ".py",
   "mimetype": "text/x-python",
   "name": "python",
   "nbconvert_exporter": "python",
   "pygments_lexer": "ipython3",
   "version": "3.10.4"
  },
  "orig_nbformat": 4,
  "vscode": {
   "interpreter": {
    "hash": "eb192b012b80181e2f5e07fcb14ade070bb12f5880149a515fc8447d24cf1148"
   }
  }
 },
 "nbformat": 4,
 "nbformat_minor": 2
}
