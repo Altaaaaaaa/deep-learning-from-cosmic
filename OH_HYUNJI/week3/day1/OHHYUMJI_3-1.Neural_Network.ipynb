{
 "cells": [
  {
   "cell_type": "code",
   "execution_count": null,
   "metadata": {},
   "outputs": [],
   "source": [
    "#활성화 함수 - 계단 함수 구현하기\n",
    "def step_function(x):    \n",
    "    if x>0 :\n",
    "        return 1\n",
    "    else :\n",
    "        return 0                    # '파이썬은 :을 좋아하는군..'\n",
    "                                     # 이 함수는 부동소숫점만 x로 받음. 넘파이 배열도 받고싶은디?"
   ]
  },
  {
   "cell_type": "code",
   "execution_count": null,
   "metadata": {},
   "outputs": [],
   "source": [
    "#계단함수 구현하기 2 - 넘파이 배열도 x로 받음\n",
    "def step_function(x):\n",
    "    y=x>0\n",
    "    return y.astype(np.int)\n",
    "                                    # 겨우 두줄이라 엉성..? -> 넘파이의 편리한 트릭을 이용했음"
   ]
  },
  {
   "cell_type": "code",
   "execution_count": 9,
   "metadata": {},
   "outputs": [
    {
     "name": "stdout",
     "output_type": "stream",
     "text": [
      "[-1.  1.  2.]\n",
      "[False  True  True]\n"
     ]
    },
    {
     "data": {
      "text/plain": [
       "array([False,  True,  True])"
      ]
     },
     "execution_count": 9,
     "metadata": {},
     "output_type": "execute_result"
    }
   ],
   "source": [
    "# 위에서 사용한 파이썬 인터프리터의 예시\n",
    "import numpy as np\n",
    "x=np.array([-1.0, 1.0, 2.0])\n",
    "\n",
    "print(x)                                    #교재에서는 x만 입력하는거였음 -> 이 이후로도 작성하면 \n",
    "                                            #안보이는 문제 -> print해주었음 -> 그자체를 반환하는 x와 달리 array([-1.0, -1.0 -2.0])은 아님\n",
    "y=x>0\n",
    "print(y)\n",
    "y\n",
    "\n",
    "#\n",
    "y=y.astype(np.int32)\n",
    "print(y)"
   ]
  },
  {
   "cell_type": "code",
   "execution_count": 4,
   "metadata": {},
   "outputs": [
    {
     "data": {
      "image/png": "[encoded data removed]",
      "text/plain": [
       "<Figure size 432x288 with 1 Axes>"
      ]
     },
     "metadata": {
      "needs_background": "light"
     },
     "output_type": "display_data"
    }
   ],
   "source": [
    "#계단함수 그래프 그리기\n",
    "import numpy as np\n",
    "import matplotlib.pylab as plt\n",
    "\n",
    "def step_function(x):\n",
    "    return np.array(x>0, dtype=np.int32)\n",
    "\n",
    "x = np.arange(-5.0, 5.0, 0.1)        #-5.0에서 5.0전까지 0.1 간격의 넘파이 배열 생성\n",
    "y = step_function(x) \n",
    "plt.plot(x,y)\n",
    "plt.ylim(-0.1, 1.1)                   #y축의 범위 지정\n",
    "plt.show()"
   ]
  },
  {
   "cell_type": "code",
   "execution_count": 12,
   "metadata": {},
   "outputs": [
    {
     "name": "stdout",
     "output_type": "stream",
     "text": [
      "[0.26894142 0.73105858 0.88079708]\n"
     ]
    }
   ],
   "source": [
    "#sigmoid 함수 구현하기\n",
    "def sigmoid(x):\n",
    "    return 1/(1+np.exp(-x))\n",
    "#a:x가 넘파이 배열이어도 ok\n",
    "x=np.array([-1.0, 1.0, 2.0])\n",
    "print(sigmoid(x))"
   ]
  },
  {
   "cell_type": "code",
   "execution_count": 16,
   "metadata": {},
   "outputs": [
    {
     "name": "stdout",
     "output_type": "stream",
     "text": [
      "[2. 3. 4.]\n",
      "[1.         0.5        0.33333333]\n"
     ]
    }
   ],
   "source": [
    "#a가 되는 이유는 넘파이의 브로드캐스트 때문\n",
    "t=np.array([1.0, 2.0, 3.0])\n",
    "print(1.0+t)\n",
    "print(1.0/t)"
   ]
  },
  {
   "cell_type": "code",
   "execution_count": 19,
   "metadata": {},
   "outputs": [
    {
     "data": {
      "image/png": "[encoded data removed]",
      "text/plain": [
       "<Figure size 432x288 with 1 Axes>"
      ]
     },
     "metadata": {
      "needs_background": "light"
     },
     "output_type": "display_data"
    }
   ],
   "source": [
    "#sigmoid함수 그래프\n",
    "import numpy as np\n",
    "import matplotlib.pylab as plt     \n",
    "\n",
    "def sigmoid(x):\n",
    "    return 1/(1+np.exp(-x))\n",
    "\n",
    "x=np.arange(-5.0, 5.0, 0.1)        #np.arange => 넘파일 배열 (어디부터, 어디까지, 몇간격으로)\n",
    "y=sigmoid(x)\n",
    "plt.plot(x,y)                      #x,y 점을 찍을것이다\n",
    "plt.ylim(-0.1, 1.1)                #y축 범위 지정\n",
    "plt.show()\n",
    "\n",
    "#sigmoid 함수는 s자 모양이라는 점을 명심! "
   ]
  },
  {
   "cell_type": "code",
   "execution_count": null,
   "metadata": {},
   "outputs": [],
   "source": [
    "#ReLU 함수 구현\n",
    "def relu(x):\n",
    "    return np.maximum(0, x)              #maximum은 둘중 큰 값을 반환하는 함수"
   ]
  },
  {
   "cell_type": "code",
   "execution_count": 20,
   "metadata": {},
   "outputs": [
    {
     "name": "stdout",
     "output_type": "stream",
     "text": [
      "[1 2 3 4]\n",
      "1\n",
      "(4,)\n",
      "4\n"
     ]
    }
   ],
   "source": [
    "#1차열 배열 구현\n",
    "import numpy as np\n",
    "A = np.array([1, 2, 3, 4])\n",
    "print(A)\n",
    "print(np.ndim(A))                     # 배열의 차원수 확인\n",
    "print(A.shape)                        # 배열의 형상 !튜플을 반환하는것을 주의 왜냐 다차원일때도 \n",
    "print(A.shape[0])"
   ]
  },
  {
   "cell_type": "code",
   "execution_count": 43,
   "metadata": {},
   "outputs": [
    {
     "name": "stdout",
     "output_type": "stream",
     "text": [
      "[[1 2]\n",
      " [3 4]\n",
      " [5 6]]\n",
      "2\n",
      "(3, 2)\n"
     ]
    }
   ],
   "source": [
    "#2차원 배열 구현  =  행렬           가로 : 행   세로 : 열\n",
    "B=np.array([[1,2], [3,4], [5,6]])\n",
    "print(B)\n",
    "print(np.ndim(B))\n",
    "print(B.shape)"
   ]
  },
  {
   "cell_type": "code",
   "execution_count": 46,
   "metadata": {},
   "outputs": [
    {
     "name": "stdout",
     "output_type": "stream",
     "text": [
      "(2, 2)\n",
      "(2, 2)\n",
      "[[19 22]\n",
      " [43 50]]\n"
     ]
    }
   ],
   "source": [
    "#행렬의 내적(행렬 곱) 구현\n",
    "A=np.array([[1,2],[3,4]])\n",
    "print(A.shape)\n",
    "B=np.array([[5,6],[7,8]])\n",
    "print(B.shape)\n",
    "print(np.dot(A,B))  "
   ]
  },
  {
   "cell_type": "code",
   "execution_count": 47,
   "metadata": {},
   "outputs": [
    {
     "name": "stdout",
     "output_type": "stream",
     "text": [
      "(2, 3)\n",
      "(3, 2)\n",
      "[[22 28]\n",
      " [49 64]]\n",
      "[[ 9 12 15]\n",
      " [19 26 33]\n",
      " [29 40 51]]\n"
     ]
    }
   ],
   "source": [
    "#형상이 다른 행렬의 내적\n",
    "A=np.array([[1,2,3],[4,5,6]])\n",
    "print(A.shape)\n",
    "B=np.array([[1,2],[3,4],[5,6]])\n",
    "print(B.shape)\n",
    "print(np.dot(A,B))\n",
    "print(np.dot(B,A))      #피연산자의 순서가 다르면 결과도 달라질수도..."
   ]
  },
  {
   "cell_type": "code",
   "execution_count": 49,
   "metadata": {},
   "outputs": [
    {
     "name": "stdout",
     "output_type": "stream",
     "text": [
      "(2, 3)\n",
      "(2, 2)\n"
     ]
    },
    {
     "ename": "ValueError",
     "evalue": "shapes (2,3) and (2,2) not aligned: 3 (dim 1) != 2 (dim 0)",
     "output_type": "error",
     "traceback": [
      "\u001b[1;31m---------------------------------------------------------------------------\u001b[0m",
      "\u001b[1;31mValueError\u001b[0m                                Traceback (most recent call last)",
      "\u001b[1;32mc:\\Users\\SAMSUNG\\Desktop\\COSMIC\\머신러닝 스터디\\OHHYUMJI_3.3.ipynb Cell 13'\u001b[0m in \u001b[0;36m<cell line: 6>\u001b[1;34m()\u001b[0m\n\u001b[0;32m      <a href='vscode-notebook-cell:/c%3A/Users/SAMSUNG/Desktop/COSMIC/%EB%A8%B8%EC%8B%A0%EB%9F%AC%EB%8B%9D%20%EC%8A%A4%ED%84%B0%EB%94%94/OHHYUMJI_3.3.ipynb#ch0000015?line=3'>4</a>\u001b[0m C\u001b[39m=\u001b[39mnp\u001b[39m.\u001b[39marray([[\u001b[39m1\u001b[39m,\u001b[39m2\u001b[39m],[\u001b[39m3\u001b[39m,\u001b[39m4\u001b[39m]])\n\u001b[0;32m      <a href='vscode-notebook-cell:/c%3A/Users/SAMSUNG/Desktop/COSMIC/%EB%A8%B8%EC%8B%A0%EB%9F%AC%EB%8B%9D%20%EC%8A%A4%ED%84%B0%EB%94%94/OHHYUMJI_3.3.ipynb#ch0000015?line=4'>5</a>\u001b[0m \u001b[39mprint\u001b[39m(C\u001b[39m.\u001b[39mshape)\n\u001b[1;32m----> <a href='vscode-notebook-cell:/c%3A/Users/SAMSUNG/Desktop/COSMIC/%EB%A8%B8%EC%8B%A0%EB%9F%AC%EB%8B%9D%20%EC%8A%A4%ED%84%B0%EB%94%94/OHHYUMJI_3.3.ipynb#ch0000015?line=5'>6</a>\u001b[0m \u001b[39mprint\u001b[39m(np\u001b[39m.\u001b[39;49mdot(A,C))\n",
      "File \u001b[1;32m<__array_function__ internals>:5\u001b[0m, in \u001b[0;36mdot\u001b[1;34m(*args, **kwargs)\u001b[0m\n",
      "\u001b[1;31mValueError\u001b[0m: shapes (2,3) and (2,2) not aligned: 3 (dim 1) != 2 (dim 0)"
     ]
    }
   ],
   "source": [
    "#행렬의 내적 - 첫번째 차원 열과 두번째 차원 행이 같아야 함\n",
    "A=np.array([[1,2,3],[4,5,6]])\n",
    "print(A.shape)\n",
    "C=np.array([[1,2],[3,4]])\n",
    "print(C.shape)\n",
    "print(np.dot(A,C))         #오류를 보면 dim1 dim0 이 다르다"
   ]
  },
  {
   "cell_type": "code",
   "execution_count": 50,
   "metadata": {},
   "outputs": [
    {
     "name": "stdout",
     "output_type": "stream",
     "text": [
      "(3, 2)\n",
      "(2,)\n",
      "[23 53 83]\n"
     ]
    }
   ],
   "source": [
    "#행렬의 내적 - 대앙하는 차원의 원소 수를 일치시켜라\n",
    "A=np.array([[1,2], [3,4], [5,6]])\n",
    "print(A.shape)\n",
    "B=np.array([7,8])\n",
    "print(B.shape)\n",
    "print(np.dot(A,B))"
   ]
  },
  {
   "cell_type": "code",
   "execution_count": 51,
   "metadata": {},
   "outputs": [
    {
     "name": "stdout",
     "output_type": "stream",
     "text": [
      "(2,)\n",
      "[[1 3 5]\n",
      " [2 4 6]]\n",
      "(2, 3)\n",
      "[ 5 11 17]\n"
     ]
    }
   ],
   "source": [
    "#간단한 신경망의 내적 구현\n",
    "X=np.array([1,2])\n",
    "print(X.shape)\n",
    "W=np.array([[1,3,5],[2,4,6]])\n",
    "print(W)\n",
    "print(W.shape)\n",
    "Y=np.dot(X,W)\n",
    "print(Y)"
   ]
  }
 ],
 "metadata": {
  "kernelspec": {
   "display_name": "Python 3.9.12 ('base')",
   "language": "python",
   "name": "python3"
  },
  "language_info": {
   "codemirror_mode": {
    "name": "ipython",
    "version": 3
   },
   "file_extension": ".py",
   "mimetype": "text/x-python",
   "name": "python",
   "nbconvert_exporter": "python",
   "pygments_lexer": "ipython3",
   "version": "3.9.12"
  },
  "orig_nbformat": 4,
  "vscode": {
   "interpreter": {
    "hash": "604d36363eafd9e67c1f556089da69fa54f9731189d50fdd5ef0c173bfd24ffb"
   }
  }
 },
 "nbformat": 4,
 "nbformat_minor": 2
}
