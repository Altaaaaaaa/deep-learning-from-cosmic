{
 "cells": [
  {
   "cell_type": "code",
   "execution_count": 1,
   "metadata": {},
   "outputs": [
    {
     "name": "stdout",
     "output_type": "stream",
     "text": [
      "(2, 3)\n",
      "(2,)\n",
      "(3,)\n",
      "[1.2 2.5 3.8]\n"
     ]
    }
   ],
   "source": [
    "# @ A = XW + B 구현하기 (3층)  \n",
    "import numpy as np\n",
    "X = np.array([1.0, 5.0])\n",
    "W1 = np.array([[0.1, 0.3, 0.5],[0.2, 0.4, 0.6]])\n",
    "B1 = np.array([0.1, 0.2, 0.3])\n",
    "\n",
    "print(W1.shape)\n",
    "print(X.shape)\n",
    "print(B1.shape)\n",
    "\n",
    "A1 = np.dot(X,W1) + B1                 #np.dot이 뭐였지? => 행렬 내적 Q. ()의 순서가 중요한가?\n",
    "print(A1)                              #!!!!!중요했음 덜덜티비 두 행렬의 차원의 원소수를 고려하자\n",
    "#A1 = np.dot(W1,X) + B1     \n",
    "#print(A1)"
   ]
  },
  {
   "cell_type": "code",
   "execution_count": 11,
   "metadata": {},
   "outputs": [
    {
     "name": "stdout",
     "output_type": "stream",
     "text": [
      "[1.2 2.5 3.8]\n",
      "[0.76852478 0.92414182 0.97811873]\n"
     ]
    }
   ],
   "source": [
    "# @에 활성화 함수(sigmoid) 넣기\n",
    "import numpy as np\n",
    "def sigmoid(x):                                        \n",
    "    return 1/(1+np.exp(-x))                            #exp도 넘파이 출신이었..\n",
    "\n",
    "X = np.array([1.0, 5.0])\n",
    "W1 = np.array([[0.1, 0.3, 0.5],[0.2, 0.4, 0.6]])\n",
    "B1 = np.array([0.1, 0.2, 0.3])\n",
    "\n",
    "A1 = np.dot(X,W1) + B1\n",
    "\n",
    "Z1 = sigmoid(A1)\n",
    "\n",
    "print(A1)\n",
    "print(Z1)"
   ]
  },
  {
   "cell_type": "code",
   "execution_count": 16,
   "metadata": {},
   "outputs": [
    {
     "name": "stdout",
     "output_type": "stream",
     "text": [
      "(3,)\n",
      "(3, 2)\n",
      "(2,)\n",
      "[0.65511646 1.55635206]\n"
     ]
    }
   ],
   "source": [
    "#1층에서 2층으로 신호 전달\n",
    "def sigmoid(x):\n",
    "    return 1/(1+np.exp(-x))\n",
    "\n",
    "X = np.array([1.0, 5.0])\n",
    "W1 = np.array([[0.1, 0.3, 0.5],[0.2, 0.4, 0.6]])\n",
    "B1 = np.array([0.1, 0.2, 0.3])\n",
    "\n",
    "A1 = np.dot(X,W1) + B1                                   #여기까지는 1층\n",
    "Z1 = sigmoid(A1)\n",
    "\n",
    "W2 = np.array([[0.1, 0.4],[0.2, 0.5],[0.3, 0.6]])        #여기서부터 2층\n",
    "B2 = np.array([0.1, 0.2])\n",
    "\n",
    "print(Z1.shape)\n",
    "print(W2.shape)\n",
    "print(B2.shape)\n",
    "\n",
    "A2 = np.dot(Z1,W2)+B2\n",
    "Z2 = sigmoid(A2)\n",
    "print(A2)"
   ]
  },
  {
   "cell_type": "code",
   "execution_count": 25,
   "metadata": {},
   "outputs": [
    {
     "name": "stdout",
     "output_type": "stream",
     "text": [
      "[0.65816252 0.82582927]\n",
      "[0.33098211 0.72778046]\n",
      "[0.33098211 0.72778046]\n"
     ]
    }
   ],
   "source": [
    "#2층에서 3층으로 신호 전달\n",
    "def identify_function(x):\n",
    "    return x\n",
    "\n",
    "def sigmoid(x):\n",
    "    return 1/(1+np.exp(-x))\n",
    "\n",
    "X = np.array([1.0, 5.0])\n",
    "W1 = np.array([[0.1, 0.3, 0.5],[0.2, 0.4, 0.6]])\n",
    "B1 = np.array([0.1, 0.2, 0.3])\n",
    "\n",
    "A1 = np.dot(X,W1) + B1                                   #여기까지는 1층\n",
    "Z1 = sigmoid(A1)\n",
    "\n",
    "W2 = np.array([[0.1, 0.4],[0.2, 0.5],[0.3, 0.6]])        #여기서부터 2층\n",
    "B2 = np.array([0.1, 0.2])\n",
    "\n",
    "A2 = np.dot(Z1,W2)+B2\n",
    "Z2 = sigmoid(A2)\n",
    "print(Z2)\n",
    "\n",
    "W3 = np.array([[0.1, 0.3],[0.2, 0.4]])                  #여기서부터 3층\n",
    "B3 = np.array([0.1, 0.2])\n",
    "\n",
    "A3 = np.dot(Z2,W3)+B3                                        #바꿔도 상관없나? A3 = np.dot(W3,Z2)+B3 => 값은 나오는데 다름 ??? 다른건가?\n",
    "print(A3)\n",
    "#A3 = np.dot(W3,Z2)+B3\n",
    "#print(A3) \n",
    "\n",
    "Y=identify_function(A3)\n",
    "print(Y)"
   ]
  },
  {
   "cell_type": "markdown",
   "metadata": {},
   "source": [
    "회귀 : 항등함수를<br>\n",
    "2클래스 분류 : 시그모이드함수<br>\n",
    "다중 클래스 분류 : 소프트맥스 함수<br>\n",
    "\n",
    "회귀란 광어는 3kg다\n",
    "분류는 고양이vs강아지 분류"
   ]
  },
  {
   "cell_type": "code",
   "execution_count": 23,
   "metadata": {},
   "outputs": [
    {
     "name": "stdout",
     "output_type": "stream",
     "text": [
      "[0.31682708 0.69627909]\n"
     ]
    }
   ],
   "source": [
    "#3층퍼셉트론 구현 총정리\n",
    "def identify_function(x):\n",
    "    return x\n",
    "\n",
    "def sigmoid(x):\n",
    "    return 1/(1+np.exp(-x))\n",
    "\n",
    "def init_network():                                                   #왜 init으로 하지? => initialize 초기화  \n",
    "    network = {}                                                      #딕셔너리 만들기\n",
    "    network['W1'] = np.array([[0.1, 0.3, 0.5], [0.2, 0.4, 0.6]])      #파이썬의 딕셔너리 키에따른 값을 넣어준다. \n",
    "    network['b1'] = np.array([0.1, 0.2, 0.3])\n",
    "    network['W2'] = np.array([[0.1, 0.4], [0.2, 0.5],[0.3, 0.6]])\n",
    "    network['b2'] = np.array([0.1, 0.2])\n",
    "    network['W3'] = np.array([[0.1, 0.3], [0.2, 0.4]])\n",
    "    network['b3'] = np.array([0.1, 0.2])\n",
    "    \n",
    "    return network                                                   #여러개를 반환하기 위해서 딕셔너리 사용\n",
    "\n",
    "def forward(network, x):\n",
    "    W1, W2, W3 = network['W1'], network['W2'], network['W3']        #간단하게 사용하기 위해 각 딕셔너리를 w1,w2,w3로 넣어준다\n",
    "    b1, b2, b3 = network['b1'], network['b2'], network['b3']\n",
    "    \n",
    "    a1 = np.dot(x, W1) + b1\n",
    "    z1 = sigmoid(a1)\n",
    "    a2 = np.dot(z1, W2) + b2\n",
    "    z2 = sigmoid(a2)\n",
    "    a3 = np.dot(z2,W3) + b3\n",
    "    y = identify_function(a3)\n",
    "    \n",
    "    return y\n",
    "\n",
    "network = init_network()                                    \n",
    "x = np.array([1.0, 0.5])\n",
    "y = forward(network, x)                                      #함수안에 함수가 들어갈 수 있나? 윗줄에서 딕셔너리를 반환하였으므로 딕셔너리가 들어간 것임.\n",
    "print(y)"
   ]
  },
  {
   "cell_type": "markdown",
   "metadata": {},
   "source": [
    "***3.5 출력층 설계하기***<br>\n",
    "회귀에는 왜 항등함수를?<br>\n",
    "0~1값이 필요한것이 아니기때문에<br>\n",
    "분류에는 왜 소프트맥스함수를?<br>\n",
    "확률을 사용하기 때문에"
   ]
  },
  {
   "cell_type": "code",
   "execution_count": 33,
   "metadata": {},
   "outputs": [
    {
     "name": "stdout",
     "output_type": "stream",
     "text": [
      "[ 1.34985881 18.17414537 54.59815003]\n",
      "74.1221542101633\n",
      "[0.01821127 0.24519181 0.73659691]\n"
     ]
    }
   ],
   "source": [
    "#소프트맥스 함수 구현-0 (기초)\n",
    "a = np.array([0.3, 2.9, 4.0])\n",
    "\n",
    "exp_a = np.exp(a)\n",
    "print(exp_a)\n",
    "\n",
    "sum_exp_a = np.sum(exp_a)                              #sum도 있구나 자동으로 배열을 만들어서 더해주네\n",
    "print(sum_exp_a)\n",
    "\n",
    "y = exp_a / sum_exp_a\n",
    "print(y)"
   ]
  },
  {
   "cell_type": "code",
   "execution_count": 34,
   "metadata": {},
   "outputs": [],
   "source": [
    "#소프트맥스 함수 구현-1  (문제발생)\n",
    "def softmax(a):\n",
    "    exp_a = np.exp(a)\n",
    "    sum_exp_a = np.sum(exp_a)\n",
    "    y = exp_a / sum_exp_a\n",
    "    \n",
    "    return y"
   ]
  },
  {
   "cell_type": "markdown",
   "metadata": {},
   "source": [
    "문제점 지수함수는 너무 쉽게 큰값을 내뱉는다. *오버플로 발생!!!*"
   ]
  },
  {
   "cell_type": "code",
   "execution_count": 39,
   "metadata": {},
   "outputs": [
    {
     "name": "stdout",
     "output_type": "stream",
     "text": [
      "[   0 -910  -20]\n",
      "[9.99999998e-01 0.00000000e+00 2.06115362e-09]\n"
     ]
    },
    {
     "name": "stderr",
     "output_type": "stream",
     "text": [
      "C:\\Users\\SAMSUNG\\AppData\\Local\\Temp\\ipykernel_129232\\1369726986.py:3: RuntimeWarning: overflow encountered in exp\n",
      "  np.exp(a) / np.sum(np.exp(a))                #오버플로 발생***!!!!\n",
      "C:\\Users\\SAMSUNG\\AppData\\Local\\Temp\\ipykernel_129232\\1369726986.py:3: RuntimeWarning: invalid value encountered in true_divide\n",
      "  np.exp(a) / np.sum(np.exp(a))                #오버플로 발생***!!!!\n"
     ]
    }
   ],
   "source": [
    "#소프트맥스 함수 구현-2   (해결-1)\n",
    "a = np.array([1010, 100, 990])\n",
    "np.exp(a) / np.sum(np.exp(a))                #오버플로 발생***!!!!\n",
    "\n",
    "c = np.max(a)\n",
    "print(a - c)\n",
    "\n",
    "print(np.exp(a-c) / np.sum(np.exp(a-c)))"
   ]
  },
  {
   "cell_type": "code",
   "execution_count": 29,
   "metadata": {},
   "outputs": [],
   "source": [
    "#소프트맥스 함수 구현 최종\n",
    "def softmax(a):\n",
    "    c = np.max(a)\n",
    "    exp_a = np.exp(a-c)\n",
    "    sum_exp_a = np.sum(exp_a)\n",
    "    y = exp_a/sum_exp_a\n",
    "    \n",
    "    return y\n",
    "    \n",
    "    "
   ]
  },
  {
   "cell_type": "code",
   "execution_count": 30,
   "metadata": {},
   "outputs": [
    {
     "name": "stdout",
     "output_type": "stream",
     "text": [
      "[0.01821127 0.24519181 0.73659691]\n"
     ]
    },
    {
     "data": {
      "text/plain": [
       "1.0"
      ]
     },
     "execution_count": 30,
     "metadata": {},
     "output_type": "execute_result"
    }
   ],
   "source": [
    "#소프트맥스 함수의 특징\n",
    "a = np.array([0.3, 2.9, 4.0])\n",
    "y = softmax(a)\n",
    "print(y)\n",
    "np.sum(y)"
   ]
  },
  {
   "cell_type": "markdown",
   "metadata": {},
   "source": [
    "소프트맥스 함수는 출력값의 총합이 1이다!\n",
    "함수의 출력은 0~1.0 사이의 실수이다.\n",
    "***굉장히 중요한 성질***"
   ]
  },
  {
   "cell_type": "markdown",
   "metadata": {},
   "source": [
    "소프트맥스 함수를 거치기 전과 후 그 수들의 대소관계는 변하지 않음. 따라서 출력층에 활성화함수안써도 오키도퀴"
   ]
  },
  {
   "cell_type": "code",
   "execution_count": 2,
   "metadata": {},
   "outputs": [
    {
     "name": "stdout",
     "output_type": "stream",
     "text": [
      "(60000, 784)\n",
      "(60000,)\n",
      "(10000, 784)\n",
      "(10000,)\n"
     ]
    }
   ],
   "source": [
    "#3.6 손글씨 숫자 인식 (MNIST data이용)\n",
    "import sys, os                           #경로관리\n",
    "sys.path.append(os.pardir)               #책: 부모 디렉터리의 파일을 가져올 수 있도록 설정\n",
    "from dataset.mnist import load_mnist     #부모디렉토리 파일을 가져올 수 있도록 dataset에서 load_ 가져옴\n",
    "\n",
    "#책: 처음 한 번은 몇 분 정도 걸립니다. : 완~~전 오래걸림 \n",
    "(x_train, t_train), (x_test, t_test) = load_mnist(flatten=True, normalize=False)         #flatten : 평탄하게 (1차원배열로) normalize 0~1까지로 one_hot_lable 맞는거만 1로 나머지 0\n",
    "                                                                      #mnist함수를 이용하여 가져옴\n",
    "#책: 각 데이터의 형상 출력\n",
    "print(x_train.shape)       \n",
    "print(t_train.shape)\n",
    "print(x_test.shape)\n",
    "print(t_test.shape)"
   ]
  },
  {
   "cell_type": "code",
   "execution_count": 5,
   "metadata": {},
   "outputs": [
    {
     "name": "stdout",
     "output_type": "stream",
     "text": [
      "5\n",
      "(784,)\n",
      "(28, 28)\n"
     ]
    }
   ],
   "source": [
    "#이미지 보기\n",
    "import sys, os\n",
    "sys.path.append(os.pardir)                  \n",
    "import numpy as np\n",
    "from dataset.mnist import load_mnist\n",
    "from PIL import Image                                      #이미지 보여줄 수 있도록\n",
    "\n",
    "def img_show(img):\n",
    "    pil_img = Image.fromarray(np.uint8(img))               #이미지 보여주는 명령어(어레이를 이미지로)\n",
    "    pil_img.show()\n",
    "    \n",
    "(x_train, t_train), (x_test, t_test) = load_mnist(flatten=True, normalize=False)\n",
    "\n",
    "img = x_train[0]                                           #첫번째 이미지\n",
    "label = t_train[0]                                         \n",
    "print(label) \n",
    "\n",
    "print(img.shape)\n",
    "img = img.reshape(28,28)                                   #크기 복원\n",
    "print(img.shape)\n",
    "\n",
    "img_show(img)"
   ]
  },
  {
   "cell_type": "code",
   "execution_count": 26,
   "metadata": {},
   "outputs": [],
   "source": [
    "#신경망의 추론처리 위의 코드 신경망으로 구현하기\n",
    "import pickle\n",
    "\n",
    "def get_data():                                                               #mnist 받기\n",
    "    (x_train, t_train), (x_test, t_test) = \\\n",
    "        load_mnist(normalize = True, flatten = True, one_hot_label =False)    #\\다음줄이랑 연결한다는 뜻으로 그 사이에는 주석을 못쓴다\n",
    "    return x_test, t_test                                                                                                \n",
    "\n",
    "def init_network():                                                           #파일 가져오기: 딕셔너리 변수로 저장된 학습된 가중치 매개변수 \n",
    "    with open(\"sample_weight.pkl\", 'rb') as f:                                #파일 열기\n",
    "        network = pickle.load(f)\n",
    "        \n",
    "    return network\n",
    "\n",
    "def predict(network, x):                                                     #추론하기 \n",
    "    W1, W2, W3 = network['W1'], network['W2'], network['W3']\n",
    "    b1, b2, b3 = network['b1'], network['b2'], network['b3']\n",
    "    \n",
    "    a1 = np.dot(x,W1)+b1\n",
    "    z1 = sigmoid(a1)\n",
    "    a2 = np.dot(z1,W2)+b2\n",
    "    z2 = sigmoid(a2)\n",
    "    a3 = np.dot(z2, W3)+b3\n",
    "    y = softmax(a3)\n",
    "    \n",
    "    return y"
   ]
  },
  {
   "cell_type": "code",
   "execution_count": 33,
   "metadata": {},
   "outputs": [
    {
     "name": "stdout",
     "output_type": "stream",
     "text": [
      "Accuracy:0.9352\n"
     ]
    }
   ],
   "source": [
    "#추론의 정확도 알아보기\n",
    "x, t = get_data()                                           #파일 데이터 받기\n",
    "network = init_network()                                    #네트워크로 가중치 받기\n",
    "\n",
    "accuracy_cnt = 0 \n",
    "for i in range(len(x)):                                     #for문으로 한장씩 꺼냄\n",
    "    y = predict(network, x[i])                              #predict()로 분류\n",
    "    p = np.argmax(y)                                        #책: 확률이 가장 높은 원소의 인덱스를 얻는다.\n",
    "    if p == t[i]:                                           #예측한것이 맞으면\n",
    "        accuracy_cnt += 1                                   # +1\n",
    "        \n",
    "print(\"Accuracy:\" +str(float(accuracy_cnt) / len(x)))      #예측한 정답 갯수 / 전체 정답 레이블 => 정확도 구하기"
   ]
  },
  {
   "cell_type": "markdown",
   "metadata": {},
   "source": [
    "normalize = True\n",
    "정규화로 전처리과정을 거침.\n",
    "이 장에서는 255로 나누는 간단한 전처리를 했지만 현업에서는 다양한 전처리과정이 있음"
   ]
  },
  {
   "cell_type": "code",
   "execution_count": 49,
   "metadata": {},
   "outputs": [
    {
     "name": "stdout",
     "output_type": "stream",
     "text": [
      "(10000, 784)\n",
      "(784,)\n",
      "(784, 50)\n",
      "(50, 100)\n",
      "(100, 10)\n"
     ]
    }
   ],
   "source": [
    "#3.6.3 배치 처리\n",
    "x, _ = get_data()\n",
    "network = init_network()\n",
    "W1, W2, W3 = network['W1'], network['W2'], network['W3']\n",
    "\n",
    "print(x.shape)\n",
    "print(x[0].shape)\n",
    "print(W1.shape)\n",
    "print(W2.shape)\n",
    "print(W3.shape)"
   ]
  },
  {
   "cell_type": "code",
   "execution_count": 41,
   "metadata": {},
   "outputs": [
    {
     "name": "stdout",
     "output_type": "stream",
     "text": [
      "Accuracy:0.9352\n"
     ]
    }
   ],
   "source": [
    "#배치 처리 구현\n",
    "x, t = get_data()\n",
    "network = init_network()\n",
    "\n",
    "batch_size = 100                                                 #100짜리 배치 \n",
    "accuracy_cnt = 0\n",
    "\n",
    "for i in range(0, len(x), batch_size):                           #총만장을 백장씩 끊어서 한다\n",
    "    x_batch = x[i:i+batch_size]                                  #i번째부터 i+배치사이즈 만큼 가져옴\n",
    "    y_batch = predict(network, x_batch)                          #예측하는거\n",
    "    p = np.argmax(y_batch, axis=1)                               #제일 큰 값 : axis = 1 1차원 axis = 0 0차원   \n",
    "    accuracy_cnt += np.sum(p == t[i:i+batch_size])               #0또는 1값을 가진 데이터들의 합을 cnt에 더해준다.\n",
    "    \n",
    "print(\"Accuracy:\" + str(float(accuracy_cnt) /len(x)))"
   ]
  },
  {
   "cell_type": "code",
   "execution_count": 45,
   "metadata": {},
   "outputs": [
    {
     "name": "stdout",
     "output_type": "stream",
     "text": [
      "[0, 1, 2, 3, 4, 5, 6, 7, 8, 9]\n",
      "[0, 3, 6, 9]\n"
     ]
    }
   ],
   "source": [
    "#리스트 부가 설명\n",
    "print(list(range(0,10)))                             #2개 작성하면 어디부터 어디 전까지\n",
    "print(list(range(0,10,3)))                           #3개 작성하면 어디부터 어디 전까지 몇차이씩"
   ]
  },
  {
   "cell_type": "code",
   "execution_count": 46,
   "metadata": {},
   "outputs": [
    {
     "name": "stdout",
     "output_type": "stream",
     "text": [
      "[1 2 1 0]\n"
     ]
    }
   ],
   "source": [
    "#argmax 부가 설명\n",
    "x = np.array([[0.1, 0.8, 0.1],[0.3, 0.1, 0.6],[0.2, 0.5, 0.3],[0.8, 0.1, 0.1]])\n",
    "y = np.argmax(x, axis=1)                                #axis = 1에 주의하자 1번째 차원을 축으로 axis = 0은 0번째 차원이 가장 처음의 차원 \n",
    "print(y) "
   ]
  },
  {
   "cell_type": "code",
   "execution_count": 48,
   "metadata": {},
   "outputs": [
    {
     "name": "stdout",
     "output_type": "stream",
     "text": [
      "[ True  True False  True]\n",
      "3\n"
     ]
    }
   ],
   "source": [
    "y = np.array([1,2,1,0])\n",
    "t = np.array([1,2,0,0])\n",
    "print(y==t)                              #bool형을 반환\n",
    "print(np.sum(y==t))                      #참이 3개이므로 1+1+1은 3"
   ]
  }
 ],
 "metadata": {
  "kernelspec": {
   "display_name": "Python 3.9.12 ('base')",
   "language": "python",
   "name": "python3"
  },
  "language_info": {
   "codemirror_mode": {
    "name": "ipython",
    "version": 3
   },
   "file_extension": ".py",
   "mimetype": "text/x-python",
   "name": "python",
   "nbconvert_exporter": "python",
   "pygments_lexer": "ipython3",
   "version": "3.9.12"
  },
  "orig_nbformat": 4,
  "vscode": {
   "interpreter": {
    "hash": "604d36363eafd9e67c1f556089da69fa54f9731189d50fdd5ef0c173bfd24ffb"
   }
  }
 },
 "nbformat": 4,
 "nbformat_minor": 2
}
