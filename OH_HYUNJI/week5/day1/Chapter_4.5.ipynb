{
 "cells": [
  {
   "cell_type": "markdown",
   "metadata": {},
   "source": [
    "#4.5 학습 알고리즘 구현하기    \n",
    "[신경망 학습의 4단계]\n",
    "1단계 : 데이터 중 일부를 무작위로 가져와 미니배치를 만든다.\n",
    "2단계 : 손실함수를 최소로 하기 위하여 기울기를 구한다.\n",
    "3단계 : 기울기에 따라 가중치를 조금씩 갱신한다.\n",
    "4단계 : 1~3단계 반복\n",
    "\n",
    "=>확률적 경사 하강법(SDG)"
   ]
  },
  {
   "cell_type": "code",
   "execution_count": 1,
   "metadata": {},
   "outputs": [],
   "source": [
    "#4.5.1 2층 신경망 클래스 구현\n",
    "import sys, os\n",
    "import numpy as np\n",
    "sys.path.append(os.path.abspath('../../../'))\n",
    "from common.functions import *\n",
    "from common.gradient import numerical_gradient\n",
    "\n",
    "class TwoLayerNet:  #클래스 생성\n",
    "    def __init__(self, input_size, hidden_size, output_size, weight_init_std=0.01): #입력층의 뉴런 수 / 은닉층의 뉴런 수 / 출력층의 뉴런 수 / \n",
    "        #1/100로 나누어 정규화st   Q)<- 저걸 왜 해주는거지? 일단은 0으로 초기화했음 이것이 나중에 신경망 학습의 성공을 좌지우지 할수도,,,\n",
    "        #B.가중치 초기화\n",
    "        self.params = {}    #신경망 매개변수 보관하는 딕셔너리 변수(인스턴스 변수) ['W1']=1번층의 가중치 params['b1]=1번층의 편향\n",
    "        self.params['W1'] = weight_init_std * \\\n",
    "                            np.random.randn(input_size, hidden_size)    #input_size와 hidden_size로 하는 이차원 배열에 임의의 값을 넣어준다. =>가중치 초기화                                                                                                                                                                                                                                                                                                                                                                            \n",
    "        self.params['b1'] = np.zeros(hidden_size)   \n",
    "        self.params['W2'] = weight_init_std * \\\n",
    "                            np.random.randn(hidden_size, output_size)\n",
    "        self.params['b2'] = np.zeros(output_size)\n",
    "                                              \n",
    "    def predict(self, x):  #예측(추론), x는 이미지 데이터\n",
    "        W1, W2 = self.params['W1'], self.params['W2']\n",
    "        b1, b2 = self.params['b1'], self.params['b2']\n",
    "        \n",
    "        a1 = np.dot(x, W1) + b1\n",
    "        z1 = sigmoid(a1)\n",
    "        a2 = np.dot(z1, W2) + b2\n",
    "        y = softmax(a2)\n",
    "        return y\n",
    "\n",
    "    #x : 입력데이터, t : 정답 레이블\n",
    "    def loss(self, x, t):   #손실함수, x는 이미지 데이터 / t는 정답 레이블\n",
    "        y = self.predict(x)\n",
    "        \n",
    "        return cross_entropy_error(y,t) #교차 엔트로피 오차를 이용하였음 \n",
    "    \n",
    "    def accuracy(self, x, t):   #정확도구하기      \n",
    "         \n",
    "        y = self.predict(x)\n",
    "        y = np.argmax(y, axis=1)\n",
    "        t = np.argmax(t, axis=1)\n",
    "        \n",
    "        accuracy = np.sum(y==t) / float(x.shape[0])\n",
    "        return accuracy\n",
    "    \n",
    "    #x : 입력 데이터, t : 정답 레이블\n",
    "    def numerical_gradient(self, x, t):\n",
    "        loss_W = lambda W:self.loss(x,t)\n",
    "        \n",
    "        grads = {}  #기울기 보관 딕셔너리 변수 \n",
    "        grads['W1'] = numerical_gradient(loss_W, self.params['W1']) #grads['W1']=1번층의 가중치의 기울기 => 가중치로 미분했다.\n",
    "        grads['b1'] = numerical_gradient(loss_W, self.params['b1']) #grads['b1']=1번층의 편향의 기울기 => 편향으로 미분했다.\n",
    "        grads['W2'] = numerical_gradient(loss_W, self.params['W2'])\n",
    "        grads['b2'] = numerical_gradient(loss_W, self.params['b2'])\n",
    "        \n",
    "        return grads"
   ]
  },
  {
   "cell_type": "markdown",
   "metadata": {},
   "source": [
    "+\n",
    "Q)class의 self의 의미는 무엇인가?   \n",
    "A)말그대로 자기 자신이라는 뜻이다. 실제로 class를 선언 후 사용하게 될 때 self부분에 선언한 변수를 써주면 된다.\n",
    "E)def class:"
   ]
  },
  {
   "cell_type": "code",
   "execution_count": 4,
   "metadata": {},
   "outputs": [
    {
     "name": "stdout",
     "output_type": "stream",
     "text": [
      "(784, 100)\n",
      "(100,)\n",
      "(100, 10)\n",
      "(10,)\n"
     ]
    }
   ],
   "source": [
    "#params => 가중치 매개변수를 저장해둔 딕셔너리이다.\n",
    "    # def __init__(self, input_size, hidden_size, output_size, weight_init_std=0.01):\n",
    "    #     #B.가중치 초기화\n",
    "    #     self.params = {}    #신경망 매개변수 보관하는 딕셔너리 변수(인스턴스 변수)\n",
    "    #     self.params['W1'] = weight_init_std * \\\n",
    "    #                         np.random.randn(input_size, hidden_size)    #랜덤으로 input사이즈에서 hidden사이즈 만큼 뽑아온다.                                                                                                                                                                                                                                                                                                                                                                               \n",
    "    #     self.params['b1'] = np.zeros(hidden_size)\n",
    "    #     self.params['W2'] = weight_init_std * \\\n",
    "    #                         np.random.randn(hidden_size, output_size)\n",
    "    #     self.params['b2'] = np.zeros(output_size)\n",
    "                                              \n",
    "\n",
    "\n",
    "net = TwoLayerNet(input_size=784, hidden_size=100, output_size=10)\n",
    "print(net.params['W1'].shape)\n",
    "print(net.params['b1'].shape)\n",
    "print(net.params['W2'].shape)\n",
    "print(net.params['b2'].shape)"
   ]
  },
  {
   "cell_type": "code",
   "execution_count": null,
   "metadata": {},
   "outputs": [],
   "source": [
    "#예측처리 실행하기\n",
    "x = np.random.rand(100, 784)    #더미 입력 데이터(100장 분량), =>의미를 그대로 받아들이면 100,784만큼의 배열을 만들어준다.\n",
    "y = net.predict(x)  "
   ]
  },
  {
   "cell_type": "code",
   "execution_count": 6,
   "metadata": {},
   "outputs": [
    {
     "name": "stdout",
     "output_type": "stream",
     "text": [
      "(784, 100)\n",
      "(100,)\n",
      "(100, 10)\n",
      "(10,)\n"
     ]
    }
   ],
   "source": [
    "#grads => 기울이 저장 딕셔너리 변수\n",
    "x = np.random.rand(100, 784)    #B.더미 입력 데이터 (100장 분량)\n",
    "t = np.random.rand(100, 10)     #B.더미 정답 레이블 (100장 분량)\n",
    "\n",
    "grads = net.numerical_gradient(x, t)    #기울기 계산 \n",
    "\n",
    "print(grads['W1'].shape)\n",
    "print(grads['b1'].shape)\n",
    "print(grads['W2'].shape)\n",
    "print(grads['b2'].shape)"
   ]
  },
  {
   "cell_type": "code",
   "execution_count": 10,
   "metadata": {},
   "outputs": [
    {
     "ename": "ModuleNotFoundError",
     "evalue": "No module named 'two_layer_net'",
     "output_type": "error",
     "traceback": [
      "\u001b[1;31m---------------------------------------------------------------------------\u001b[0m",
      "\u001b[1;31mModuleNotFoundError\u001b[0m                       Traceback (most recent call last)",
      "\u001b[1;32mc:\\Users\\SAMSUNG\\Desktop\\dl\\OH_HYUNJI\\week5\\day1\\4.5장.ipynb 셀 7\u001b[0m in \u001b[0;36m<cell line: 4>\u001b[1;34m()\u001b[0m\n\u001b[0;32m      <a href='vscode-notebook-cell:/c%3A/Users/SAMSUNG/Desktop/dl/OH_HYUNJI/week5/day1/4.5%EC%9E%A5.ipynb#ch0000006?line=1'>2</a>\u001b[0m \u001b[39mimport\u001b[39;00m \u001b[39mnumpy\u001b[39;00m \u001b[39mas\u001b[39;00m \u001b[39mnp\u001b[39;00m\n\u001b[0;32m      <a href='vscode-notebook-cell:/c%3A/Users/SAMSUNG/Desktop/dl/OH_HYUNJI/week5/day1/4.5%EC%9E%A5.ipynb#ch0000006?line=2'>3</a>\u001b[0m \u001b[39mfrom\u001b[39;00m \u001b[39mdataset\u001b[39;00m\u001b[39m.\u001b[39;00m\u001b[39mmnist\u001b[39;00m \u001b[39mimport\u001b[39;00m load_mnist\n\u001b[1;32m----> <a href='vscode-notebook-cell:/c%3A/Users/SAMSUNG/Desktop/dl/OH_HYUNJI/week5/day1/4.5%EC%9E%A5.ipynb#ch0000006?line=3'>4</a>\u001b[0m \u001b[39mfrom\u001b[39;00m \u001b[39mtwo_layer_net\u001b[39;00m \u001b[39mimport\u001b[39;00m TwoLayerNet\n\u001b[0;32m      <a href='vscode-notebook-cell:/c%3A/Users/SAMSUNG/Desktop/dl/OH_HYUNJI/week5/day1/4.5%EC%9E%A5.ipynb#ch0000006?line=5'>6</a>\u001b[0m (x_train, t_train), (x_test, t_test) \u001b[39m=\u001b[39m \\\n\u001b[0;32m      <a href='vscode-notebook-cell:/c%3A/Users/SAMSUNG/Desktop/dl/OH_HYUNJI/week5/day1/4.5%EC%9E%A5.ipynb#ch0000006?line=6'>7</a>\u001b[0m     load_mnist(normalize \u001b[39m=\u001b[39m \u001b[39mTrue\u001b[39;00m, one_hot_label\u001b[39m=\u001b[39m\u001b[39mTrue\u001b[39;00m)    \u001b[39m#(이미지 데이터, 정답 레이블 데이터)\u001b[39;00m\n\u001b[0;32m      <a href='vscode-notebook-cell:/c%3A/Users/SAMSUNG/Desktop/dl/OH_HYUNJI/week5/day1/4.5%EC%9E%A5.ipynb#ch0000006?line=7'>8</a>\u001b[0m                                                         \u001b[39m#정규화(255로 나누기) 해주고 원핫 인코딩 해줌\u001b[39;00m\n",
      "\u001b[1;31mModuleNotFoundError\u001b[0m: No module named 'two_layer_net'"
     ]
    }
   ],
   "source": [
    "#4.5.2 미니배치 학습 구현\n",
    "import numpy as np\n",
    "from dataset.mnist import load_mnist\n",
    "from two_layer_net import TwoLayerNet\n",
    "\n",
    "(x_train, t_train), (x_test, t_test) = \\\n",
    "    load_mnist(normalize = True, one_hot_label=True)    #(이미지 데이터, 정답 레이블 데이터)\n",
    "                                                        #정규화(255로 나누기) 해주고 원핫 인코딩 해줌\n",
    "train_loss_list = []    #손실함수 리스트 ??\n",
    "\n",
    "#하이퍼파라미터 => 컴퓨터가 알아서 학습하도록 인간이 정해주는 값\n",
    "iters_num = 10000   #반복 횟수\n",
    "train_size = x_train.shape[0]   #이미지 데이터가 몇장인지\n",
    "batch_size = 100    #미니배치 크기\n",
    "learning_rate = 0.1 #학습률\n",
    "network = TwoLayerNet(input_size = 784, hidden_size = 50, output_size = 10)\n",
    "\n",
    "for i in range(iters_num):\n",
    "    #미니배치 획득\n",
    "    batch_mask = np.random.choice(train_size, batch_size)       #choice train_size(0~9999)숫자에서 batch_size(100개)개만큼의 임의의 숫자를 뽑아온다.\n",
    "    x_batch = x_train[batch_mask]                               #batch_mask => 걸려서 본다는 느낌 st\n",
    "    t_batch = t_train[batch_mask]\n",
    "    \n",
    "    #기울기 계산\n",
    "    grad = network.numerical_gradient(x_batch, t_batch)\n",
    "    #grad = network.gradient(x_batch, t_batch)  #성능 개선판 => 나중에 알려준다!\n",
    "    \n",
    "    #매개변수 갱신\n",
    "    for key in ('W1', 'b1', 'W2', 'b2'):\n",
    "        network.params[key] -= learning_rate * grad[key]    #원래 매개변수 값에서 학습률*기울기를 빼준다. \n",
    "        \n",
    "    #학습 경과 기록\n",
    "    loss = network.loss(x_batch, t_batch)   #오차 값을 기록해준다.\n",
    "    train_loss_list.append(loss)            #오차 값을 리스트로 추가해주어서 학습 과정을 볼 수 있다.\n",
    "    "
   ]
  },
  {
   "cell_type": "markdown",
   "metadata": {},
   "source": [
    "[[질문]]      \n",
    "책에서       \n",
    "배치는 일일히 모든 데이터를 관찰해야한다.        \n",
    "따라서 데이터가 너무 클 경우 미치배치를 활용하면    \n",
    "다 보지도 않고 학습할 수 있음     \n",
    "근데 이 코드에서는 미니배치를 이용하여 반복하고 있음     \n",
    "이유가 뭘까?"
   ]
  },
  {
   "cell_type": "code",
   "execution_count": 8,
   "metadata": {},
   "outputs": [],
   "source": [
    "#4.5.3 시험 데이터로 평가하기"
   ]
  },
  {
   "cell_type": "markdown",
   "metadata": {},
   "source": [
    "위의 코드로 학습경과 기록 그래프를 살펴보면      \n",
    "잘 학습하고 있음을 알 수 있음      \n",
    "(왜냐 반복 횟수가 늘어날수록 손실함수 값이 줄어들으니)    \n",
    "하지만 오버피팅이 되었는지는 확인 X 따라서 시험 데이터로 평가해보자 "
   ]
  },
  {
   "cell_type": "markdown",
   "metadata": {},
   "source": [
    "***에폭***:   \n",
    "단위이다. 훈련 데이터를 모두 소진했을 때의 횟수에 해당.   \n",
    "ex) 10,000개의 데이터를 100개의 미니배치로 학습 시 100회가 1에폭이 된다."
   ]
  },
  {
   "cell_type": "code",
   "execution_count": 15,
   "metadata": {},
   "outputs": [
    {
     "name": "stdout",
     "output_type": "stream",
     "text": [
      "train acc, test acc | 0.10441666666666667,0.1028\n"
     ]
    },
    {
     "ename": "KeyboardInterrupt",
     "evalue": "",
     "output_type": "error",
     "traceback": [
      "\u001b[1;31m---------------------------------------------------------------------------\u001b[0m",
      "\u001b[1;31mKeyboardInterrupt\u001b[0m                         Traceback (most recent call last)",
      "\u001b[1;32mc:\\Users\\SAMSUNG\\Desktop\\dl\\OH_HYUNJI\\week5\\day1\\4.5장.ipynb 셀 12\u001b[0m in \u001b[0;36m<cell line: 24>\u001b[1;34m()\u001b[0m\n\u001b[0;32m     <a href='vscode-notebook-cell:/c%3A/Users/SAMSUNG/Desktop/dl/OH_HYUNJI/week5/day1/4.5%EC%9E%A5.ipynb#ch0000012?line=27'>28</a>\u001b[0m t_batch \u001b[39m=\u001b[39m t_train[batch_mask]\n\u001b[0;32m     <a href='vscode-notebook-cell:/c%3A/Users/SAMSUNG/Desktop/dl/OH_HYUNJI/week5/day1/4.5%EC%9E%A5.ipynb#ch0000012?line=29'>30</a>\u001b[0m \u001b[39m#기울기 계산\u001b[39;00m\n\u001b[1;32m---> <a href='vscode-notebook-cell:/c%3A/Users/SAMSUNG/Desktop/dl/OH_HYUNJI/week5/day1/4.5%EC%9E%A5.ipynb#ch0000012?line=30'>31</a>\u001b[0m grad \u001b[39m=\u001b[39m network\u001b[39m.\u001b[39;49mnumerical_gradient(x_batch, t_batch)\n\u001b[0;32m     <a href='vscode-notebook-cell:/c%3A/Users/SAMSUNG/Desktop/dl/OH_HYUNJI/week5/day1/4.5%EC%9E%A5.ipynb#ch0000012?line=31'>32</a>\u001b[0m \u001b[39m#grad = network.gradient(x_batch, t_batch)  #성능 개선판 => 나중에 알려준다!\u001b[39;00m\n\u001b[0;32m     <a href='vscode-notebook-cell:/c%3A/Users/SAMSUNG/Desktop/dl/OH_HYUNJI/week5/day1/4.5%EC%9E%A5.ipynb#ch0000012?line=32'>33</a>\u001b[0m \n\u001b[0;32m     <a href='vscode-notebook-cell:/c%3A/Users/SAMSUNG/Desktop/dl/OH_HYUNJI/week5/day1/4.5%EC%9E%A5.ipynb#ch0000012?line=33'>34</a>\u001b[0m \u001b[39m#매개변수 갱신\u001b[39;00m\n\u001b[0;32m     <a href='vscode-notebook-cell:/c%3A/Users/SAMSUNG/Desktop/dl/OH_HYUNJI/week5/day1/4.5%EC%9E%A5.ipynb#ch0000012?line=34'>35</a>\u001b[0m \u001b[39mfor\u001b[39;00m key \u001b[39min\u001b[39;00m (\u001b[39m'\u001b[39m\u001b[39mW1\u001b[39m\u001b[39m'\u001b[39m, \u001b[39m'\u001b[39m\u001b[39mb1\u001b[39m\u001b[39m'\u001b[39m, \u001b[39m'\u001b[39m\u001b[39mW2\u001b[39m\u001b[39m'\u001b[39m, \u001b[39m'\u001b[39m\u001b[39mb2\u001b[39m\u001b[39m'\u001b[39m):\n",
      "\u001b[1;32mc:\\Users\\SAMSUNG\\Desktop\\dl\\OH_HYUNJI\\week5\\day1\\4.5장.ipynb 셀 12\u001b[0m in \u001b[0;36mTwoLayerNet.numerical_gradient\u001b[1;34m(self, x, t)\u001b[0m\n\u001b[0;32m     <a href='vscode-notebook-cell:/c%3A/Users/SAMSUNG/Desktop/dl/OH_HYUNJI/week5/day1/4.5%EC%9E%A5.ipynb#ch0000012?line=46'>47</a>\u001b[0m loss_W \u001b[39m=\u001b[39m \u001b[39mlambda\u001b[39;00m W:\u001b[39mself\u001b[39m\u001b[39m.\u001b[39mloss(x,t)\n\u001b[0;32m     <a href='vscode-notebook-cell:/c%3A/Users/SAMSUNG/Desktop/dl/OH_HYUNJI/week5/day1/4.5%EC%9E%A5.ipynb#ch0000012?line=48'>49</a>\u001b[0m grads \u001b[39m=\u001b[39m {}  \u001b[39m#기울기 보관 딕셔너리 변수 \u001b[39;00m\n\u001b[1;32m---> <a href='vscode-notebook-cell:/c%3A/Users/SAMSUNG/Desktop/dl/OH_HYUNJI/week5/day1/4.5%EC%9E%A5.ipynb#ch0000012?line=49'>50</a>\u001b[0m grads[\u001b[39m'\u001b[39m\u001b[39mW1\u001b[39m\u001b[39m'\u001b[39m] \u001b[39m=\u001b[39m numerical_gradient(loss_W, \u001b[39mself\u001b[39;49m\u001b[39m.\u001b[39;49mparams[\u001b[39m'\u001b[39;49m\u001b[39mW1\u001b[39;49m\u001b[39m'\u001b[39;49m]) \u001b[39m#grads['W1']=1번층의 가중치의 기울기 => 가중치로 미분했다.\u001b[39;00m\n\u001b[0;32m     <a href='vscode-notebook-cell:/c%3A/Users/SAMSUNG/Desktop/dl/OH_HYUNJI/week5/day1/4.5%EC%9E%A5.ipynb#ch0000012?line=50'>51</a>\u001b[0m grads[\u001b[39m'\u001b[39m\u001b[39mb1\u001b[39m\u001b[39m'\u001b[39m] \u001b[39m=\u001b[39m numerical_gradient(loss_W, \u001b[39mself\u001b[39m\u001b[39m.\u001b[39mparams[\u001b[39m'\u001b[39m\u001b[39mb1\u001b[39m\u001b[39m'\u001b[39m]) \u001b[39m#grads['b1']=1번층의 편향의 기울기 => 편향으로 미분했다.\u001b[39;00m\n\u001b[0;32m     <a href='vscode-notebook-cell:/c%3A/Users/SAMSUNG/Desktop/dl/OH_HYUNJI/week5/day1/4.5%EC%9E%A5.ipynb#ch0000012?line=51'>52</a>\u001b[0m grads[\u001b[39m'\u001b[39m\u001b[39mW2\u001b[39m\u001b[39m'\u001b[39m] \u001b[39m=\u001b[39m numerical_gradient(loss_W, \u001b[39mself\u001b[39m\u001b[39m.\u001b[39mparams[\u001b[39m'\u001b[39m\u001b[39mW2\u001b[39m\u001b[39m'\u001b[39m])\n",
      "File \u001b[1;32mc:\\Users\\SAMSUNG\\Desktop\\dl\\common\\gradient.py:43\u001b[0m, in \u001b[0;36mnumerical_gradient\u001b[1;34m(f, x)\u001b[0m\n\u001b[0;32m     41\u001b[0m tmp_val \u001b[39m=\u001b[39m x[idx]\n\u001b[0;32m     42\u001b[0m x[idx] \u001b[39m=\u001b[39m \u001b[39mfloat\u001b[39m(tmp_val) \u001b[39m+\u001b[39m h\n\u001b[1;32m---> 43\u001b[0m fxh1 \u001b[39m=\u001b[39m f(x) \u001b[39m# f(x+h)\u001b[39;00m\n\u001b[0;32m     45\u001b[0m x[idx] \u001b[39m=\u001b[39m tmp_val \u001b[39m-\u001b[39m h \n\u001b[0;32m     46\u001b[0m fxh2 \u001b[39m=\u001b[39m f(x) \u001b[39m# f(x-h)\u001b[39;00m\n",
      "\u001b[1;32mc:\\Users\\SAMSUNG\\Desktop\\dl\\OH_HYUNJI\\week5\\day1\\4.5장.ipynb 셀 12\u001b[0m in \u001b[0;36mTwoLayerNet.numerical_gradient.<locals>.<lambda>\u001b[1;34m(W)\u001b[0m\n\u001b[0;32m     <a href='vscode-notebook-cell:/c%3A/Users/SAMSUNG/Desktop/dl/OH_HYUNJI/week5/day1/4.5%EC%9E%A5.ipynb#ch0000012?line=45'>46</a>\u001b[0m \u001b[39mdef\u001b[39;00m \u001b[39mnumerical_gradient\u001b[39m(\u001b[39mself\u001b[39m, x, t):\n\u001b[1;32m---> <a href='vscode-notebook-cell:/c%3A/Users/SAMSUNG/Desktop/dl/OH_HYUNJI/week5/day1/4.5%EC%9E%A5.ipynb#ch0000012?line=46'>47</a>\u001b[0m     loss_W \u001b[39m=\u001b[39m \u001b[39mlambda\u001b[39;00m W:\u001b[39mself\u001b[39;49m\u001b[39m.\u001b[39;49mloss(x,t)\n\u001b[0;32m     <a href='vscode-notebook-cell:/c%3A/Users/SAMSUNG/Desktop/dl/OH_HYUNJI/week5/day1/4.5%EC%9E%A5.ipynb#ch0000012?line=48'>49</a>\u001b[0m     grads \u001b[39m=\u001b[39m {}  \u001b[39m#기울기 보관 딕셔너리 변수 \u001b[39;00m\n\u001b[0;32m     <a href='vscode-notebook-cell:/c%3A/Users/SAMSUNG/Desktop/dl/OH_HYUNJI/week5/day1/4.5%EC%9E%A5.ipynb#ch0000012?line=49'>50</a>\u001b[0m     grads[\u001b[39m'\u001b[39m\u001b[39mW1\u001b[39m\u001b[39m'\u001b[39m] \u001b[39m=\u001b[39m numerical_gradient(loss_W, \u001b[39mself\u001b[39m\u001b[39m.\u001b[39mparams[\u001b[39m'\u001b[39m\u001b[39mW1\u001b[39m\u001b[39m'\u001b[39m]) \u001b[39m#grads['W1']=1번층의 가중치의 기울기 => 가중치로 미분했다.\u001b[39;00m\n",
      "\u001b[1;32mc:\\Users\\SAMSUNG\\Desktop\\dl\\OH_HYUNJI\\week5\\day1\\4.5장.ipynb 셀 12\u001b[0m in \u001b[0;36mTwoLayerNet.loss\u001b[1;34m(self, x, t)\u001b[0m\n\u001b[0;32m     <a href='vscode-notebook-cell:/c%3A/Users/SAMSUNG/Desktop/dl/OH_HYUNJI/week5/day1/4.5%EC%9E%A5.ipynb#ch0000012?line=30'>31</a>\u001b[0m \u001b[39mdef\u001b[39;00m \u001b[39mloss\u001b[39m(\u001b[39mself\u001b[39m, x, t):   \u001b[39m#손실함수, x는 이미지 데이터 / t는 정답 레이블\u001b[39;00m\n\u001b[0;32m     <a href='vscode-notebook-cell:/c%3A/Users/SAMSUNG/Desktop/dl/OH_HYUNJI/week5/day1/4.5%EC%9E%A5.ipynb#ch0000012?line=31'>32</a>\u001b[0m     y \u001b[39m=\u001b[39m \u001b[39mself\u001b[39m\u001b[39m.\u001b[39mpredict(x)\n\u001b[1;32m---> <a href='vscode-notebook-cell:/c%3A/Users/SAMSUNG/Desktop/dl/OH_HYUNJI/week5/day1/4.5%EC%9E%A5.ipynb#ch0000012?line=33'>34</a>\u001b[0m     \u001b[39mreturn\u001b[39;00m cross_entropy_error(y,t)\n",
      "File \u001b[1;32mc:\\Users\\SAMSUNG\\Desktop\\dl\\common\\functions.py:56\u001b[0m, in \u001b[0;36mcross_entropy_error\u001b[1;34m(y, t)\u001b[0m\n\u001b[0;32m     53\u001b[0m     t \u001b[39m=\u001b[39m t\u001b[39m.\u001b[39margmax(axis\u001b[39m=\u001b[39m\u001b[39m1\u001b[39m)\n\u001b[0;32m     55\u001b[0m batch_size \u001b[39m=\u001b[39m y\u001b[39m.\u001b[39mshape[\u001b[39m0\u001b[39m]\n\u001b[1;32m---> 56\u001b[0m \u001b[39mreturn\u001b[39;00m \u001b[39m-\u001b[39mnp\u001b[39m.\u001b[39msum(np\u001b[39m.\u001b[39mlog(y[np\u001b[39m.\u001b[39;49marange(batch_size), t] \u001b[39m+\u001b[39m \u001b[39m1e-7\u001b[39m)) \u001b[39m/\u001b[39m batch_size\n",
      "\u001b[1;31mKeyboardInterrupt\u001b[0m: "
     ]
    }
   ],
   "source": [
    "#4.5.2 미니배치 학습 구현\n",
    "import numpy as np\n",
    "from dataset.mnist import load_mnist\n",
    "\n",
    "\n",
    "(x_train, t_train), (x_test, t_test) = \\\n",
    "    load_mnist(normalize = True, one_hot_label=True)    #(이미지 데이터, 정답 레이블 데이터)\n",
    "                                                        #정규화(255로 나누기) 해주고 원핫 인코딩 해줌\n",
    "\n",
    "#하이퍼파라미터 => 컴퓨터가 알아서 학습하도록 인간이 정해주는 값\n",
    "iters_num = 10000   #반복 횟수\n",
    "train_size = x_train.shape[0]   #이미지 데이터가 몇장인지\n",
    "batch_size = 100    #미니배치 크기\n",
    "learning_rate = 0.1 #학습률\n",
    "\n",
    "network = TwoLayerNet(input_size = 784, hidden_size = 50, output_size = 10)\n",
    "\n",
    "train_loss_list = []    #밑에 손실함수 값을 리스트로 만들것이기 때문에 선언 \n",
    "train_acc_list = []     #정확도 측정 리스트\n",
    "test_acc_list = []      #??\n",
    "\n",
    "iter_per_epoch = max(train_size / batch_size, 1)   #1이 의미하는것이 뭘까? 둘중에 큰값을 고르라고 한것 batch_size가 train_size보다 밑에 큰 경우 나눗셈을 하기 위함\n",
    "\n",
    "for i in range(iters_num):\n",
    "    #미니배치 획득\n",
    "    batch_mask = np.random.choice(train_size, batch_size)       #choice train_size(0~9999)숫자에서 batch_size(100개)개만큼의 임의의 숫자를 뽑아온다.\n",
    "    x_batch = x_train[batch_mask]                               #batch_mask => 걸려서 본다는 느낌 st\n",
    "    t_batch = t_train[batch_mask]\n",
    "    \n",
    "    #기울기 계산\n",
    "    grad = network.numerical_gradient(x_batch, t_batch)\n",
    "    #grad = network.gradient(x_batch, t_batch)  #성능 개선판 => 나중에 알려준다!\n",
    "    \n",
    "    #매개변수 갱신\n",
    "    for key in ('W1', 'b1', 'W2', 'b2'):\n",
    "        network.params[key] -= learning_rate * grad[key]    #원래 매개변수 값에서 학습률*기울기를 빼준다. \n",
    "        \n",
    "    #학습 경과 기록\n",
    "    loss = network.loss(x_batch, t_batch)   #오차 값을 기록해준다.\n",
    "    train_loss_list.append(loss)            #오차 값을 리스트로 추가해주어서 학습 과정을 볼 수 있다.\n",
    "    \n",
    "    # 1에폭당 정확도 계산 (오버피팅 되었나 안되었나 확인)\n",
    "    if i % iter_per_epoch == 0:     #왜 1에폭당일까? => i를 1에폭당 나눈것이면 데이터 전체를 1회 보게 되는 것이므로\n",
    "        train_acc = network.accuracy(x_train, t_train)  #학습한 데이터에 대한 정확도\n",
    "        test_acc = network.accuracy(x_test, t_test)     #새로운 데이터에 대한 정확도\n",
    "        train_acc_list.append(train_acc)\n",
    "        test_acc_list.append(test_acc)\n",
    "        print(\"train acc, test acc | \"+ str(train_acc)+\",\"+str(test_acc))   "
   ]
  },
  {
   "cell_type": "code",
   "execution_count": null,
   "metadata": {},
   "outputs": [],
   "source": []
  }
 ],
 "metadata": {
  "kernelspec": {
   "display_name": "Python 3.9.12 ('base')",
   "language": "python",
   "name": "python3"
  },
  "language_info": {
   "codemirror_mode": {
    "name": "ipython",
    "version": 3
   },
   "file_extension": ".py",
   "mimetype": "text/x-python",
   "name": "python",
   "nbconvert_exporter": "python",
   "pygments_lexer": "ipython3",
   "version": "3.9.12"
  },
  "orig_nbformat": 4,
  "vscode": {
   "interpreter": {
    "hash": "604d36363eafd9e67c1f556089da69fa54f9731189d50fdd5ef0c173bfd24ffb"
   }
  }
 },
 "nbformat": 4,
 "nbformat_minor": 2
}
