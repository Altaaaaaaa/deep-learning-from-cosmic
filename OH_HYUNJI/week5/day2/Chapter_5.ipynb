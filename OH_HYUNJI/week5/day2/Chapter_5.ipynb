{
 "cells": [
  {
   "cell_type": "code",
   "execution_count": 1,
   "metadata": {},
   "outputs": [],
   "source": [
    "#5.4.1. 곱셈계층 구현 \n",
    "class MulLayer:\n",
    "    def __init__(self):\n",
    "        self.x = None\n",
    "        self.y = None\n",
    "        \n",
    "    def forward(self, x, y):        #순방향 \n",
    "        self.x = x\n",
    "        self.y = y\n",
    "        out = x * y\n",
    "        \n",
    "        return out        \n",
    "    \n",
    "    def backward(self, dout):       #역방향\n",
    "        dx = dout * self.y  #x와 y를 바꾼다. \n",
    "        dy = dout * self.x  #dout은 전에 계산해온 값들을 의미\n",
    "        \n",
    "        return dx, dy"
   ]
  },
  {
   "cell_type": "code",
   "execution_count": 8,
   "metadata": {},
   "outputs": [
    {
     "name": "stdout",
     "output_type": "stream",
     "text": [
      "220.00000000000003\n"
     ]
    }
   ],
   "source": [
    "#사과 쇼핑 코드 구현\n",
    "\n",
    "apple = 100         #개당 사과 가격\n",
    "apple_num = 2       #사과 갯수  \n",
    "tax =1.1            #사과 세금\n",
    "\n",
    "#계층들                              #계층마다 값을 저장하기 위하여 클래스를 선언함\n",
    "mul_apple_layer = MulLayer()        #사과 층\n",
    "mul_tax_layer = MulLayer()          #세금 층\n",
    "#순전파\n",
    "apple_price = mul_apple_layer.forward(apple, apple_num)         #사과 층 ((사과 가격*사과 갯수=사과 가격)를 반환)\n",
    "price = mul_tax_layer.forward(apple_price, tax)                 #세금 층 ((사과 가격*세금 = 총 가격)을 반환)\n",
    "\n",
    "print(price)    #220"
   ]
  },
  {
   "cell_type": "code",
   "execution_count": 9,
   "metadata": {},
   "outputs": [
    {
     "name": "stdout",
     "output_type": "stream",
     "text": [
      "2.2 110.00000000000001 200\n"
     ]
    }
   ],
   "source": [
    "#역전파\n",
    "dprice = 1                  #d총가격/d총가격\n",
    "dapple_price, dtax = mul_tax_layer.backward(dprice)         #역전 가격, 역전 세금\n",
    "dapple, dapple_num = mul_apple_layer.backward(dapple_price) #역전, 역전 갯수\n",
    "\n",
    "print(dapple, dapple_num, dtax)    #2.2 110 200"
   ]
  },
  {
   "cell_type": "code",
   "execution_count": 12,
   "metadata": {},
   "outputs": [],
   "source": [
    "#5.4.2. 덧셈 계층\n",
    "class AddLayer:\n",
    "    def __init__(self):\n",
    "        pass                        #왜 초기화를 패쓰할까? => 어차피 1만 나와서 저장할 필요가 없기 때문이다.\n",
    "    def forward(self, x, y):        #순방향\n",
    "        out = x+y\n",
    "        return out                  #더한 값을 반환한다.\n",
    "    def backward(self, dout):       #역방향\n",
    "        dx = dout *1                #dout값을 반환\n",
    "        dy = dout *1\n",
    "        return dx, dy"
   ]
  },
  {
   "cell_type": "code",
   "execution_count": 18,
   "metadata": {},
   "outputs": [
    {
     "name": "stdout",
     "output_type": "stream",
     "text": [
      "715.0000000000001\n",
      "110.00000000000001 2.2 3.3000000000000003 165.0 650\n"
     ]
    }
   ],
   "source": [
    "#사과 2개와 귤 3개\n",
    "apple = 100\n",
    "apple_num = 2\n",
    "orange = 150\n",
    "orange_num = 3\n",
    "tax = 1.1\n",
    "\n",
    "#계층들\n",
    "mul_apple_layer = MulLayer()\n",
    "mul_orange_layer = MulLayer()\n",
    "add_apple_orange_layer = AddLayer()\n",
    "mul_tax_layer = MulLayer()\n",
    "\n",
    "#순전파\n",
    "apple_price = mul_apple_layer.forward(apple, apple_num)         #(1)\n",
    "orange_price = mul_orange_layer.forward(orange, orange_num)     #(2)\n",
    "all_price = add_apple_orange_layer.forward(apple_price, orange_price)       #(3)\n",
    "price = mul_tax_layer.forward(all_price, tax)   #(4)\n",
    "\n",
    "#역전파\n",
    "dprice=1\n",
    "dall_price, dtax=mul_tax_layer.backward(dprice)     #(4)\n",
    "dapple_price, dorange_prcie = add_apple_orange_layer.backward(dall_price)   #(3)\n",
    "dorange, dorange_num = mul_orange_layer.backward(dorange_prcie)     #(2)\n",
    "dapple, dapple_num = mul_apple_layer.backward(dapple_price)     #(1)\n",
    "\n",
    "print(price)\n",
    "print(dapple_num, dapple, dorange, dorange_num, dtax)\n"
   ]
  }
 ],
 "metadata": {
  "kernelspec": {
   "display_name": "Python 3.9.12 ('base')",
   "language": "python",
   "name": "python3"
  },
  "language_info": {
   "codemirror_mode": {
    "name": "ipython",
    "version": 3
   },
   "file_extension": ".py",
   "mimetype": "text/x-python",
   "name": "python",
   "nbconvert_exporter": "python",
   "pygments_lexer": "ipython3",
   "version": "3.9.12"
  },
  "orig_nbformat": 4,
  "vscode": {
   "interpreter": {
    "hash": "604d36363eafd9e67c1f556089da69fa54f9731189d50fdd5ef0c173bfd24ffb"
   }
  }
 },
 "nbformat": 4,
 "nbformat_minor": 2
}
