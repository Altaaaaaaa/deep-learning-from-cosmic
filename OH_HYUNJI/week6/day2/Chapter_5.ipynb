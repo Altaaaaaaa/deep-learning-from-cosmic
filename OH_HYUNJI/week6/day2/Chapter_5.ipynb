{
 "cells": [
  {
   "cell_type": "code",
   "execution_count": 3,
   "metadata": {},
   "outputs": [],
   "source": [
    "import numpy as np"
   ]
  },
  {
   "cell_type": "code",
   "execution_count": 1,
   "metadata": {},
   "outputs": [],
   "source": [
    "#5.5활성화 함수 계층 구현하기\n",
    "class Relu:                     #렐루 클래스\n",
    "    def __init__(slef):         #초기화 \n",
    "        self.mask = None        #마스크 선언 -> 인스턴스 변수.mask로 쓸수있음\n",
    "        \n",
    "    def forward(self,x):        #순방향\n",
    "        self.mask = (x<=0)      #self.mask에 bool형태로 저장\n",
    "        out = x.copy()          #out에 x넘파이 배열을 복사\n",
    "        out[self.mask] = 0      #self.mask는 0과 1로 이루어진 배열임. out[self.mask] = 0으로 하니까 self.mask가 1인 애들만 0으로 변함\n",
    "        \n",
    "        return out              #0이하인 애들은 0이고 나머지는 y=x인 렐루함수 구현 완료☆\n",
    "    \n",
    "    def backward(self, dout):   #역방향\n",
    "        dout[self.mask] = 0     #dout은 흘러내려오는 값을 0이하인 애들만 0으로 만들기\n",
    "        dx = dout               \n",
    "        \n",
    "        return dx               #렐루 역방향 구현 완료☆\n"
   ]
  },
  {
   "cell_type": "code",
   "execution_count": 6,
   "metadata": {},
   "outputs": [
    {
     "name": "stdout",
     "output_type": "stream",
     "text": [
      "[[ 1.  -0.5]\n",
      " [-2.   3. ]]\n",
      "[[False  True]\n",
      " [ True False]]\n"
     ]
    }
   ],
   "source": [
    "#위코드 보충설명\n",
    "x = np.array ([[1.0, -0.5], [-2.0, 3.0]])\n",
    "print(x)\n",
    "\n",
    "mask = (x<=0)           #0보다 작은 값들은 False \n",
    "print(mask)"
   ]
  },
  {
   "cell_type": "code",
   "execution_count": 9,
   "metadata": {},
   "outputs": [],
   "source": [
    "#Sigmoid 계층 구현\n",
    "class Sigmoid:          \n",
    "    def __init__(self):\n",
    "        self.out = None\n",
    "        \n",
    "    def forward(self,x):            \n",
    "        out = 1/(1+np.exp(-x))\n",
    "        self.out = out              #Q. 그냥 self.out = 1/(1+np.exp(-x))로 하면 되는거 아닌가 왜 구지 out이라는 변수를 만들어서 ...\n",
    "                                    #A. 파이썬 언어는 포인터로 변수를 벼환하기 떄문\n",
    "        return out\n",
    "    \n",
    "    def backward(self, dout):       \n",
    "        dx = dout * (1.0 - self.out) * self.out     #시그모이드 함수 미분 결과를 반환\n",
    "        \n",
    "        return dx"
   ]
  },
  {
   "cell_type": "code",
   "execution_count": null,
   "metadata": {},
   "outputs": [],
   "source": [
    "#Affine 계층 보충설명\n",
    "X = np.random.rand(2)               #입력\n",
    "W = np.random.rand(2,3)             #가중치\n",
    "B = np.random.rand(3)               #편향\n",
    "\n",
    "X.shape\n",
    "W.shape\n",
    "B.shape\n",
    "\n",
    "Y = np.dot(X,W) + B"
   ]
  },
  {
   "cell_type": "code",
   "execution_count": 4,
   "metadata": {},
   "outputs": [
    {
     "data": {
      "text/plain": [
       "array([[ 1,  2,  3],\n",
       "       [11, 12, 13]])"
      ]
     },
     "execution_count": 4,
     "metadata": {},
     "output_type": "execute_result"
    }
   ],
   "source": [
    "X_dot_W = np.array([[0,0,0],[10,10,10]])\n",
    "B = np.array([1,2,3])\n",
    "\n",
    "X_dot_W\n",
    "\n",
    "X_dot_W + B"
   ]
  },
  {
   "cell_type": "code",
   "execution_count": 5,
   "metadata": {},
   "outputs": [
    {
     "name": "stdout",
     "output_type": "stream",
     "text": [
      "[[1 2 3]\n",
      " [4 5 6]]\n",
      "[5 7 9]\n"
     ]
    }
   ],
   "source": [
    "dY = np.array([[1,2,3],[4,5,6]])\n",
    "print(dY)\n",
    "\n",
    "dB = np.sum(dY, axis=0)\n",
    "print(dB)"
   ]
  },
  {
   "cell_type": "code",
   "execution_count": 21,
   "metadata": {},
   "outputs": [],
   "source": [
    "class Affine:\n",
    "    def __init__(self,W,b):\n",
    "        self.W = W\n",
    "        self.b = b\n",
    "        self.x = None\n",
    "        self.dW = None\n",
    "        self.db = None\n",
    "        \n",
    "    def forward(self, x):\n",
    "        self.x = x   #입력데이터를 받아온다\n",
    "        out = np.dot(x, self.W) + self.b    \n",
    "        \n",
    "        return out \n",
    "    \n",
    "    def backward(self, dout):\n",
    "        dx = np.dot(dout, self.W.T)\n",
    "        self.dW = np.dot(self.x.T, dout)\n",
    "        self.db = np.sum(dout, axis=0)\n",
    "        \n",
    "        return dx"
   ]
  },
  {
   "cell_type": "code",
   "execution_count": 17,
   "metadata": {},
   "outputs": [],
   "source": [
    "#Softmax-with-Loss 계층 구현\n",
    "import sys,os\n",
    "sys.path.append(os.path.abspath('../../../'))\n",
    "from common.functions import softmax, cross_entropy_error\n",
    "class SoftmaxWithloss:\n",
    "    def __init__(self):\n",
    "        self.loss = None\n",
    "        self.y = None\n",
    "        self.t = None\n",
    "        \n",
    "    def forward(self, x, t):\n",
    "        self.t = t\n",
    "        self.y = softmax(x)\n",
    "        self.loss = cross_entropy_error(self.y, self.t)\n",
    "        return self.loss\n",
    "    \n",
    "    def backward(self, dout=1):\n",
    "        batch_size = self.t.shape[0]\n",
    "        dx = (self.y - self.t) / batch_size\n",
    "        \n",
    "        return dx"
   ]
  },
  {
   "cell_type": "code",
   "execution_count": 22,
   "metadata": {},
   "outputs": [],
   "source": [
    "import sys, os\n",
    "sys.path.append(os.path.abspath('../../../'))\n",
    "import numpy as np\n",
    "from common.layers import *\n",
    "from common.gradient import numerical_gradient\n",
    "from collections import OrderedDict\n",
    "\n",
    "class TwoLayerNet:\n",
    "    \n",
    "    def __init__(self, input_size, hidden_size, output_size, weight_init_std = 0.01):\n",
    "        #가중치 초기화\n",
    "        self.params = {}\n",
    "        self.params['W1'] = weight_init_std * \\\n",
    "                            np.random.randn(input_size, hidden_size)\n",
    "        self.params['W2'] = weight_init_std * \\\n",
    "                            np.random.randn(hidden_size, output_size)\n",
    "        self.params['b1'] = np.zeros(hidden_size)\n",
    "        self.params['b2'] = np.zeros(output_size)\n",
    "        \n",
    "        #계층생성\n",
    "        self.layers = OrderedDict()\n",
    "        self.layers['Affine1'] = \\\n",
    "            Affine(self.params['W1'], self.params['b1'])\n",
    "        self.layers['Relu'] = Relu()\n",
    "        self.layers['Affine2'] = \\\n",
    "            Affine(self.params['W2'], self.params['b2'])\n",
    "            \n",
    "        self.lastLayer = SoftmaxWithloss()\n",
    "        \n",
    "    def predict(self, x):\n",
    "        for layer in self.layers.values():\n",
    "            x = layer.forward(x)\n",
    "            \n",
    "        return x\n",
    "    \n",
    "    #x : 입력 데이터, t : 정답 레이블\n",
    "    def loss(self, x, t):\n",
    "        y = self.predict(x)\n",
    "        y = np.argmax(y, axis=1)\n",
    "        if t.ndim != 1 : t = np.argmax(t, axis=1)\n",
    "        \n",
    "        accuracy = np.sum(y == t) / float(x.shape[0])\n",
    "        \n",
    "        return accuracy\n",
    "    \n",
    "    def numerical_gradient(self, x, t):\n",
    "        loss_W = lambda W: self.loss(x, t)\n",
    "        \n",
    "        grads = {}\n",
    "        grads['W1'] = numerical_gradient(loss_W, self.params['W1'])\n",
    "        grads['b1'] = numerical_gradient(loss_W, self.params['b1'])\n",
    "        grads['W2'] = numerical_gradient(loss_W, self.params['W2'])\n",
    "        grads['b2'] = numerical_gradient(loss_W, self.params['b2'])\n",
    "        return grads\n",
    "    \n",
    "    def gradient(self, x, t):\n",
    "        #순전파\n",
    "        self.loss(x,t)\n",
    "        \n",
    "        #역전파\n",
    "        dout = 1\n",
    "        dout = self.lastLayer.backward(dout)\n",
    "        \n",
    "        layers = list(self.layers.values())\n",
    "        layers.reverse()\n",
    "        for layer in layers:\n",
    "            dout = layer.backward(dout)\n",
    "\n",
    "        #결과 저장\n",
    "        grads = {}\n",
    "        grads['W1'] = self.layers['Affine1'].dW\n",
    "        grads['b1'] = self.layers['Affine1'].db\n",
    "        grads['W2'] = self.layers['Affine2'].dW\n",
    "        grads['b2'] = self.layers['Affine2'].db\n",
    "        \n",
    "        return grads         "
   ]
  },
  {
   "cell_type": "code",
   "execution_count": 23,
   "metadata": {},
   "outputs": [
    {
     "ename": "AttributeError",
     "evalue": "'NoneType' object has no attribute 'shape'",
     "output_type": "error",
     "traceback": [
      "\u001b[1;31m---------------------------------------------------------------------------\u001b[0m",
      "\u001b[1;31mAttributeError\u001b[0m                            Traceback (most recent call last)",
      "\u001b[1;32mc:\\Users\\SAMSUNG\\Desktop\\dl\\OH_HYUNJI\\week6\\day2\\Chapter_5.ipynb 셀 11\u001b[0m in \u001b[0;36m<cell line: 15>\u001b[1;34m()\u001b[0m\n\u001b[0;32m     <a href='vscode-notebook-cell:/c%3A/Users/SAMSUNG/Desktop/dl/OH_HYUNJI/week6/day2/Chapter_5.ipynb#ch0000010?line=11'>12</a>\u001b[0m t_batch \u001b[39m=\u001b[39m t_train[:\u001b[39m3\u001b[39m]\n\u001b[0;32m     <a href='vscode-notebook-cell:/c%3A/Users/SAMSUNG/Desktop/dl/OH_HYUNJI/week6/day2/Chapter_5.ipynb#ch0000010?line=13'>14</a>\u001b[0m grad_numerical \u001b[39m=\u001b[39m network\u001b[39m.\u001b[39mnumerical_gradient(x_batch, t_batch)\n\u001b[1;32m---> <a href='vscode-notebook-cell:/c%3A/Users/SAMSUNG/Desktop/dl/OH_HYUNJI/week6/day2/Chapter_5.ipynb#ch0000010?line=14'>15</a>\u001b[0m grad_backprop \u001b[39m=\u001b[39m network\u001b[39m.\u001b[39;49mgradient(x_batch, t_batch)\n\u001b[0;32m     <a href='vscode-notebook-cell:/c%3A/Users/SAMSUNG/Desktop/dl/OH_HYUNJI/week6/day2/Chapter_5.ipynb#ch0000010?line=16'>17</a>\u001b[0m \u001b[39mfor\u001b[39;00m key \u001b[39min\u001b[39;00m grad_numerical\u001b[39m.\u001b[39mkeys():\n\u001b[0;32m     <a href='vscode-notebook-cell:/c%3A/Users/SAMSUNG/Desktop/dl/OH_HYUNJI/week6/day2/Chapter_5.ipynb#ch0000010?line=17'>18</a>\u001b[0m     diff \u001b[39m=\u001b[39m np\u001b[39m.\u001b[39maverage(np\u001b[39m.\u001b[39mabs(grad_backprop[key] \u001b[39m-\u001b[39m grad_numerical[key]))\n",
      "\u001b[1;32mc:\\Users\\SAMSUNG\\Desktop\\dl\\OH_HYUNJI\\week6\\day2\\Chapter_5.ipynb 셀 11\u001b[0m in \u001b[0;36mTwoLayerNet.gradient\u001b[1;34m(self, x, t)\u001b[0m\n\u001b[0;32m     <a href='vscode-notebook-cell:/c%3A/Users/SAMSUNG/Desktop/dl/OH_HYUNJI/week6/day2/Chapter_5.ipynb#ch0000010?line=59'>60</a>\u001b[0m \u001b[39m#역전파\u001b[39;00m\n\u001b[0;32m     <a href='vscode-notebook-cell:/c%3A/Users/SAMSUNG/Desktop/dl/OH_HYUNJI/week6/day2/Chapter_5.ipynb#ch0000010?line=60'>61</a>\u001b[0m dout \u001b[39m=\u001b[39m \u001b[39m1\u001b[39m\n\u001b[1;32m---> <a href='vscode-notebook-cell:/c%3A/Users/SAMSUNG/Desktop/dl/OH_HYUNJI/week6/day2/Chapter_5.ipynb#ch0000010?line=61'>62</a>\u001b[0m dout \u001b[39m=\u001b[39m \u001b[39mself\u001b[39;49m\u001b[39m.\u001b[39;49mlastLayer\u001b[39m.\u001b[39;49mbackward(dout)\n\u001b[0;32m     <a href='vscode-notebook-cell:/c%3A/Users/SAMSUNG/Desktop/dl/OH_HYUNJI/week6/day2/Chapter_5.ipynb#ch0000010?line=63'>64</a>\u001b[0m layers \u001b[39m=\u001b[39m \u001b[39mlist\u001b[39m(\u001b[39mself\u001b[39m\u001b[39m.\u001b[39mlayers\u001b[39m.\u001b[39mvalues())\n\u001b[0;32m     <a href='vscode-notebook-cell:/c%3A/Users/SAMSUNG/Desktop/dl/OH_HYUNJI/week6/day2/Chapter_5.ipynb#ch0000010?line=64'>65</a>\u001b[0m layers\u001b[39m.\u001b[39mreverse()\n",
      "\u001b[1;32mc:\\Users\\SAMSUNG\\Desktop\\dl\\OH_HYUNJI\\week6\\day2\\Chapter_5.ipynb 셀 11\u001b[0m in \u001b[0;36mSoftmaxWithloss.backward\u001b[1;34m(self, dout)\u001b[0m\n\u001b[0;32m     <a href='vscode-notebook-cell:/c%3A/Users/SAMSUNG/Desktop/dl/OH_HYUNJI/week6/day2/Chapter_5.ipynb#ch0000010?line=16'>17</a>\u001b[0m \u001b[39mdef\u001b[39;00m \u001b[39mbackward\u001b[39m(\u001b[39mself\u001b[39m, dout\u001b[39m=\u001b[39m\u001b[39m1\u001b[39m):\n\u001b[1;32m---> <a href='vscode-notebook-cell:/c%3A/Users/SAMSUNG/Desktop/dl/OH_HYUNJI/week6/day2/Chapter_5.ipynb#ch0000010?line=17'>18</a>\u001b[0m     batch_size \u001b[39m=\u001b[39m \u001b[39mself\u001b[39;49m\u001b[39m.\u001b[39;49mt\u001b[39m.\u001b[39;49mshape[\u001b[39m0\u001b[39m]\n\u001b[0;32m     <a href='vscode-notebook-cell:/c%3A/Users/SAMSUNG/Desktop/dl/OH_HYUNJI/week6/day2/Chapter_5.ipynb#ch0000010?line=18'>19</a>\u001b[0m     dx \u001b[39m=\u001b[39m (\u001b[39mself\u001b[39m\u001b[39m.\u001b[39my \u001b[39m-\u001b[39m \u001b[39mself\u001b[39m\u001b[39m.\u001b[39mt) \u001b[39m/\u001b[39m batch_size\n\u001b[0;32m     <a href='vscode-notebook-cell:/c%3A/Users/SAMSUNG/Desktop/dl/OH_HYUNJI/week6/day2/Chapter_5.ipynb#ch0000010?line=20'>21</a>\u001b[0m     \u001b[39mreturn\u001b[39;00m dx\n",
      "\u001b[1;31mAttributeError\u001b[0m: 'NoneType' object has no attribute 'shape'"
     ]
    }
   ],
   "source": [
    "import sys, os\n",
    "sys.path.append(os.path.abspath('../../../'))\n",
    "import numpy as np\n",
    "from dataset.mnist import load_mnist\n",
    "\n",
    "(x_train, t_train), (x_test, t_test) =\\\n",
    "    load_mnist(normalize=True, one_hot_label=True)\n",
    "\n",
    "network = TwoLayerNet(input_size=784, hidden_size=50, output_size=10)\n",
    "\n",
    "x_batch = x_train[:3]\n",
    "t_batch = t_train[:3]\n",
    "\n",
    "grad_numerical = network.numerical_gradient(x_batch, t_batch)\n",
    "grad_backprop = network.gradient(x_batch, t_batch)\n",
    "\n",
    "for key in grad_numerical.keys():\n",
    "    diff = np.average(np.abs(grad_backprop[key] - grad_numerical[key]))\n",
    "    print(key + \":\" + str(diff))"
   ]
  },
  {
   "cell_type": "code",
   "execution_count": 14,
   "metadata": {},
   "outputs": [
    {
     "ename": "AttributeError",
     "evalue": "'numpy.ndarray' object has no attribute 'nidm'",
     "output_type": "error",
     "traceback": [
      "\u001b[1;31m---------------------------------------------------------------------------\u001b[0m",
      "\u001b[1;31mAttributeError\u001b[0m                            Traceback (most recent call last)",
      "\u001b[1;32mc:\\Users\\SAMSUNG\\Desktop\\dl\\OH_HYUNJI\\week6\\day2\\Chapter_5.ipynb 셀 12\u001b[0m in \u001b[0;36m<cell line: 21>\u001b[1;34m()\u001b[0m\n\u001b[0;32m     <a href='vscode-notebook-cell:/c%3A/Users/SAMSUNG/Desktop/dl/OH_HYUNJI/week6/day2/Chapter_5.ipynb#ch0000011?line=22'>23</a>\u001b[0m x_batch \u001b[39m=\u001b[39m x_train[batch_mask]\n\u001b[0;32m     <a href='vscode-notebook-cell:/c%3A/Users/SAMSUNG/Desktop/dl/OH_HYUNJI/week6/day2/Chapter_5.ipynb#ch0000011?line=23'>24</a>\u001b[0m t_batch \u001b[39m=\u001b[39m t_train[batch_mask]\n\u001b[1;32m---> <a href='vscode-notebook-cell:/c%3A/Users/SAMSUNG/Desktop/dl/OH_HYUNJI/week6/day2/Chapter_5.ipynb#ch0000011?line=25'>26</a>\u001b[0m grad \u001b[39m=\u001b[39m network\u001b[39m.\u001b[39;49mgradient(x_batch, t_batch)\n\u001b[0;32m     <a href='vscode-notebook-cell:/c%3A/Users/SAMSUNG/Desktop/dl/OH_HYUNJI/week6/day2/Chapter_5.ipynb#ch0000011?line=27'>28</a>\u001b[0m \u001b[39mfor\u001b[39;00m key \u001b[39min\u001b[39;00m (\u001b[39m'\u001b[39m\u001b[39mW1\u001b[39m\u001b[39m'\u001b[39m, \u001b[39m'\u001b[39m\u001b[39mb1\u001b[39m\u001b[39m'\u001b[39m, \u001b[39m'\u001b[39m\u001b[39mW2\u001b[39m\u001b[39m'\u001b[39m, \u001b[39m'\u001b[39m\u001b[39mb2\u001b[39m\u001b[39m'\u001b[39m):\n\u001b[0;32m     <a href='vscode-notebook-cell:/c%3A/Users/SAMSUNG/Desktop/dl/OH_HYUNJI/week6/day2/Chapter_5.ipynb#ch0000011?line=28'>29</a>\u001b[0m     network\u001b[39m.\u001b[39mparams[key] \u001b[39m-\u001b[39m\u001b[39m=\u001b[39m learning_rate \u001b[39m*\u001b[39m grad[key]\n",
      "\u001b[1;32mc:\\Users\\SAMSUNG\\Desktop\\dl\\OH_HYUNJI\\week6\\day2\\Chapter_5.ipynb 셀 12\u001b[0m in \u001b[0;36mTwoLayerNet.gradient\u001b[1;34m(self, x, t)\u001b[0m\n\u001b[0;32m     <a href='vscode-notebook-cell:/c%3A/Users/SAMSUNG/Desktop/dl/OH_HYUNJI/week6/day2/Chapter_5.ipynb#ch0000011?line=55'>56</a>\u001b[0m \u001b[39mdef\u001b[39;00m \u001b[39mgradient\u001b[39m(\u001b[39mself\u001b[39m, x, t):\n\u001b[0;32m     <a href='vscode-notebook-cell:/c%3A/Users/SAMSUNG/Desktop/dl/OH_HYUNJI/week6/day2/Chapter_5.ipynb#ch0000011?line=56'>57</a>\u001b[0m     \u001b[39m#순전파\u001b[39;00m\n\u001b[1;32m---> <a href='vscode-notebook-cell:/c%3A/Users/SAMSUNG/Desktop/dl/OH_HYUNJI/week6/day2/Chapter_5.ipynb#ch0000011?line=57'>58</a>\u001b[0m     \u001b[39mself\u001b[39;49m\u001b[39m.\u001b[39;49mloss(x,t)\n\u001b[0;32m     <a href='vscode-notebook-cell:/c%3A/Users/SAMSUNG/Desktop/dl/OH_HYUNJI/week6/day2/Chapter_5.ipynb#ch0000011?line=59'>60</a>\u001b[0m     \u001b[39m#역전파\u001b[39;00m\n\u001b[0;32m     <a href='vscode-notebook-cell:/c%3A/Users/SAMSUNG/Desktop/dl/OH_HYUNJI/week6/day2/Chapter_5.ipynb#ch0000011?line=60'>61</a>\u001b[0m     dout \u001b[39m=\u001b[39m \u001b[39m1\u001b[39m\n",
      "\u001b[1;32mc:\\Users\\SAMSUNG\\Desktop\\dl\\OH_HYUNJI\\week6\\day2\\Chapter_5.ipynb 셀 12\u001b[0m in \u001b[0;36mTwoLayerNet.loss\u001b[1;34m(self, x, t)\u001b[0m\n\u001b[0;32m     <a href='vscode-notebook-cell:/c%3A/Users/SAMSUNG/Desktop/dl/OH_HYUNJI/week6/day2/Chapter_5.ipynb#ch0000011?line=37'>38</a>\u001b[0m y \u001b[39m=\u001b[39m \u001b[39mself\u001b[39m\u001b[39m.\u001b[39mpredict(x)\n\u001b[0;32m     <a href='vscode-notebook-cell:/c%3A/Users/SAMSUNG/Desktop/dl/OH_HYUNJI/week6/day2/Chapter_5.ipynb#ch0000011?line=38'>39</a>\u001b[0m y \u001b[39m=\u001b[39m np\u001b[39m.\u001b[39margmax(y, axis\u001b[39m=\u001b[39m\u001b[39m1\u001b[39m)\n\u001b[1;32m---> <a href='vscode-notebook-cell:/c%3A/Users/SAMSUNG/Desktop/dl/OH_HYUNJI/week6/day2/Chapter_5.ipynb#ch0000011?line=39'>40</a>\u001b[0m \u001b[39mif\u001b[39;00m t\u001b[39m.\u001b[39;49mnidm \u001b[39m!=\u001b[39m \u001b[39m1\u001b[39m : t \u001b[39m=\u001b[39m np\u001b[39m.\u001b[39margmax(t, axis\u001b[39m=\u001b[39m\u001b[39m1\u001b[39m)\n\u001b[0;32m     <a href='vscode-notebook-cell:/c%3A/Users/SAMSUNG/Desktop/dl/OH_HYUNJI/week6/day2/Chapter_5.ipynb#ch0000011?line=41'>42</a>\u001b[0m accuracy \u001b[39m=\u001b[39m np\u001b[39m.\u001b[39msum(y \u001b[39m==\u001b[39m t) \u001b[39m/\u001b[39m \u001b[39mfloat\u001b[39m(x\u001b[39m.\u001b[39mshape[\u001b[39m0\u001b[39m])\n\u001b[0;32m     <a href='vscode-notebook-cell:/c%3A/Users/SAMSUNG/Desktop/dl/OH_HYUNJI/week6/day2/Chapter_5.ipynb#ch0000011?line=43'>44</a>\u001b[0m \u001b[39mreturn\u001b[39;00m accuracy\n",
      "\u001b[1;31mAttributeError\u001b[0m: 'numpy.ndarray' object has no attribute 'nidm'"
     ]
    }
   ],
   "source": [
    "import sys, os\n",
    "sys.path.append(os.path.abspath('../../../'))\n",
    "import numpy as np\n",
    "from dataset.mnist import load_mnist\n",
    "\n",
    "(x_train, t_train), (x_test, t_test) = \\\n",
    "    load_mnist(normalize=True, one_hot_label=True)\n",
    "network = TwoLayerNet(input_size=784, hidden_size=50, output_size=10)\n",
    "\n",
    "iters_num = 1000\n",
    "train_size = x_train.shape[0]\n",
    "batch_size= 100\n",
    "learning_rate = 0.1\n",
    "\n",
    "train_loss_list = []\n",
    "train_acc_list = []\n",
    "test_acc_list = []\n",
    "\n",
    "iter_per_epoch = max(train_size / batch_size, 1)\n",
    "\n",
    "for i in range(iters_num):\n",
    "    batch_mask = np.random.choice(train_size, batch_size)\n",
    "    x_batch = x_train[batch_mask]\n",
    "    t_batch = t_train[batch_mask]\n",
    "\n",
    "    grad = network.gradient(x_batch, t_batch)\n",
    "\n",
    "    for key in ('W1', 'b1', 'W2', 'b2'):\n",
    "        network.params[key] -= learning_rate * grad[key]\n",
    "    \n",
    "    loss = network.loss(x_batch, t_batch)\n",
    "    train_loss_list.append(loss)\n",
    "\n",
    "    if i % iter_per_epoch == 0:\n",
    "        train_acc = network.accuracy(x_train, t_train)\n",
    "        test_acc = network.accuracy(x_test, t_test)\n",
    "        train_acc_list.append(train_acc)\n",
    "        test_acc_list.append(test_acc)\n",
    "        print(train_acc, test_acc)"
   ]
  },
  {
   "cell_type": "code",
   "execution_count": null,
   "metadata": {},
   "outputs": [],
   "source": []
  }
 ],
 "metadata": {
  "kernelspec": {
   "display_name": "Python 3.9.12 ('base')",
   "language": "python",
   "name": "python3"
  },
  "language_info": {
   "codemirror_mode": {
    "name": "ipython",
    "version": 3
   },
   "file_extension": ".py",
   "mimetype": "text/x-python",
   "name": "python",
   "nbconvert_exporter": "python",
   "pygments_lexer": "ipython3",
   "version": "3.9.12"
  },
  "orig_nbformat": 4,
  "vscode": {
   "interpreter": {
    "hash": "604d36363eafd9e67c1f556089da69fa54f9731189d50fdd5ef0c173bfd24ffb"
   }
  }
 },
 "nbformat": 4,
 "nbformat_minor": 2
}
