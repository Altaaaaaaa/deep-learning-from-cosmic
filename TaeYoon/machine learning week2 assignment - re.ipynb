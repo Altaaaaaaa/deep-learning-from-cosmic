{
 "cells": [
  {
   "cell_type": "code",
   "execution_count": 28,
   "metadata": {},
   "outputs": [],
   "source": [
    "import numpy as np      # 앞으로는 numpy를 np라는 이름으로 가져오기"
   ]
  },
  {
   "cell_type": "code",
   "execution_count": 37,
   "metadata": {},
   "outputs": [],
   "source": [
    "def AND (x1, x2):                  # x1, x2를 인자로 가지는 AND함수를 정의한다.\n",
    "    x = np.array([x1, x2])         # 입력값을 인자로 가지는 배열 생성 (그래서 넘파이가 뭐임?)\n",
    "    w = np.array([0.5, 0.5])       # 가중치를 인자로 가지는 배열 생성 (가중치는 0.5로 설정함)\n",
    "    b = -0.7                       # bias가 - 0.7\n",
    "    tmp = np.sum(w*x) + b          # 입력값에 가중치와 bias를 고려한 값 = tmp\n",
    "    if tmp<=0:                     # tmp가 0보다 작거나 같으면 0을 리턴, 0보다 크면 1을 리턴\n",
    "        return 0\n",
    "    else:\n",
    "        return 1\n",
    "    "
   ]
  },
  {
   "cell_type": "code",
   "execution_count": 38,
   "metadata": {},
   "outputs": [
    {
     "name": "stdout",
     "output_type": "stream",
     "text": [
      "0\n",
      "0\n",
      "0\n",
      "1\n"
     ]
    }
   ],
   "source": [
    "print(AND(0,0))\n",
    "print(AND(0,1))\n",
    "print(AND(1,0))\n",
    "print(AND(1,1))"
   ]
  },
  {
   "cell_type": "code",
   "execution_count": 31,
   "metadata": {},
   "outputs": [],
   "source": [
    "def NAND(x1, x2):                   # x1,x2를 인자로 가지는 NAND함수를 정의한다.\n",
    "    x = np.array([x1, x2])          # 입력값을 인자로 가지는 배열 생성 \n",
    "    w = np.array([-0.5, -0.5])      # 가중치를 인자로 가지는 배열 생성 (가중치는 -0.5로 설정)\n",
    "    b = 0.7                         # bias가 0.7\n",
    "    tmp = np.sum(w*x) + b           # tmp = 입력값과 가중치, bias를 고려한 값\n",
    "    if tmp <= 0:                    # 이하동문\n",
    "        return 0\n",
    "    else:\n",
    "        return 1"
   ]
  },
  {
   "cell_type": "code",
   "execution_count": 32,
   "metadata": {},
   "outputs": [
    {
     "name": "stdout",
     "output_type": "stream",
     "text": [
      "1\n",
      "1\n",
      "1\n",
      "0\n"
     ]
    }
   ],
   "source": [
    "print(NAND(0,0))\n",
    "print(NAND(1,0))\n",
    "print(NAND(0,1))\n",
    "print(NAND(1,1))"
   ]
  },
  {
   "cell_type": "code",
   "execution_count": 33,
   "metadata": {},
   "outputs": [],
   "source": [
    "def OR(x1, x2):                     # x1, x2를 인자로 가지는 OR함수를 정의\n",
    "    x = np.array([x1, x2])          # x1, x2를 인자로 가지는 배열 생성\n",
    "    w = np.array([0.5, 0.5])        # 가중치는 0.5로 설정\n",
    "    b = -0.2                        # bias는 -0.2\n",
    "    tmp = np.sum(w*x)+b             # 이하동문\n",
    "    if tmp <= 0:\n",
    "        return 0\n",
    "    else:\n",
    "        return 1"
   ]
  },
  {
   "cell_type": "code",
   "execution_count": 34,
   "metadata": {},
   "outputs": [
    {
     "name": "stdout",
     "output_type": "stream",
     "text": [
      "0\n",
      "1\n",
      "1\n",
      "1\n"
     ]
    }
   ],
   "source": [
    "print(OR(0,0))\n",
    "print(OR(0,1))\n",
    "print(OR(1,0))\n",
    "print(OR(1,1))"
   ]
  },
  {
   "cell_type": "code",
   "execution_count": 35,
   "metadata": {},
   "outputs": [],
   "source": [
    "def XOR(x1, x2):            # x1, x2를 인자로 가지는 XOR함수를 선언\n",
    "    s1 = NAND(x1, x2)       # s1 값은 x1, x2값에 대해 NAND함수를 돌린 값으로 설정\n",
    "    s2 = OR(x1, x2)         # s2 값은 x1, x2값에 대해 OR함수를 돌린 값으로 설정\n",
    "    y = AND(s1, s2)         # y 값은 s1, s2값에 대해 AND함수를 돌린 값으로 설정\n",
    "    return y                # XOR함수의 반환값은 y이다"
   ]
  },
  {
   "cell_type": "code",
   "execution_count": 36,
   "metadata": {},
   "outputs": [
    {
     "name": "stdout",
     "output_type": "stream",
     "text": [
      "1\n",
      "1\n",
      "1\n",
      "1\n"
     ]
    }
   ],
   "source": [
    "print(XOR(0,0))\n",
    "print(XOR(0,1))\n",
    "print(XOR(1,0))\n",
    "print(XOR(1,1))"
   ]
  }
 ],
 "metadata": {
  "kernelspec": {
   "display_name": "Python 3.10.1 64-bit",
   "language": "python",
   "name": "python3"
  },
  "language_info": {
   "codemirror_mode": {
    "name": "ipython",
    "version": 3
   },
   "file_extension": ".py",
   "mimetype": "text/x-python",
   "name": "python",
   "nbconvert_exporter": "python",
   "pygments_lexer": "ipython3",
   "version": "3.10.1"
  },
  "orig_nbformat": 4,
  "vscode": {
   "interpreter": {
    "hash": "a8b4bfb2a831844656bf5339360239598c29281d17f0204ec19c9070271bc753"
   }
  }
 },
 "nbformat": 4,
 "nbformat_minor": 2
}
