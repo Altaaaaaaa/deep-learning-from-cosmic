{
 "cells": [
  {
   "cell_type": "markdown",
   "metadata": {},
   "source": [
    "<b>퍼셉트론에서 신경망으로</b>\n",
    "\n",
    "가중치 매개변수의 적절한 값을 데이터로부터 자동으로 학습하는 능력이 신경망의 중요한 성질이다.\n",
    "\n",
    "데이터에서 가중치 매개변수 값을 학습하는 방법은 다음 장에서"
   ]
  },
  {
   "cell_type": "markdown",
   "metadata": {},
   "source": [
    "입력층\n",
    "은닉층(사람의 눈에는 보이지 않는다.)\n",
    "출력층\n",
    "\n",
    "편향도 가중치가 b이고 입력이 1인 하나의 뉴런(노드)로 볼 수 있다.\n",
    "\n",
    "중요한 점\n",
    "뉴런의 출력값은 0과 1뿐인 것을 계단 함수이다."
   ]
  },
  {
   "cell_type": "markdown",
   "metadata": {},
   "source": [
    "입력 신호의 총합을 출력 신호로 변환하는 함수를 일반적으로 활성화 함수라고 한다.\n",
    "\n",
    "퍼셉트론에서는 활성화 함수로 계단 함수를 이용한다.\n",
    "활성화 함수를 계단함수에서 다른 함수로 변경하는 것이 신경망의 세계로 나아가는 길이다."
   ]
  },
  {
   "cell_type": "markdown",
   "metadata": {},
   "source": [
    "시그모이드 함수\n",
    "$h(x)={1\\over 1+exp(-x)}$\n",
    "\n",
    "$exp(-x) = e^{-x}$\n",
    "\n",
    "퍼셉트론과 신경망의 주된 차이는 활성화 함수 뿐이다."
   ]
  },
  {
   "cell_type": "code",
   "execution_count": 1,
   "metadata": {},
   "outputs": [],
   "source": [
    "import numpy as np\n",
    "\n",
    "def step_function_float(x):\n",
    "    \"\"\"\n",
    "    파라미터 x는 실수(부동소수점)만 받아드링기 때문에\n",
    "    넘파이 배열을 인수로 넣을 수는 없는 한계!\n",
    "    \"\"\"\n",
    "    if x > 0:\n",
    "        return 1\n",
    "    else:\n",
    "        return 0\n",
    "\n",
    "def step_function(x):\n",
    "    \"\"\"\n",
    "    넘파이 배열 트릭을 이용한 활성화 계단 함수\n",
    "    \"\"\"\n",
    "    y = x > 0\n",
    "    return y.astype(np.int)"
   ]
  },
  {
   "cell_type": "code",
   "execution_count": 2,
   "metadata": {},
   "outputs": [
    {
     "data": {
      "text/plain": [
       "array([-1.,  1.,  2.])"
      ]
     },
     "execution_count": 2,
     "metadata": {},
     "output_type": "execute_result"
    }
   ],
   "source": [
    "x = np.array([-1.0, 1.0, 2.0])\n",
    "x"
   ]
  },
  {
   "cell_type": "code",
   "execution_count": 3,
   "metadata": {},
   "outputs": [
    {
     "data": {
      "text/plain": [
       "array([False,  True,  True])"
      ]
     },
     "execution_count": 3,
     "metadata": {},
     "output_type": "execute_result"
    }
   ],
   "source": [
    "y = x > 0\n",
    "y"
   ]
  },
  {
   "cell_type": "code",
   "execution_count": 4,
   "metadata": {},
   "outputs": [
    {
     "data": {
      "text/plain": [
       "array([0, 1, 1])"
      ]
     },
     "execution_count": 4,
     "metadata": {},
     "output_type": "execute_result"
    }
   ],
   "source": [
    "y = y.astype(np.int32)\n",
    "#np.int로 적으면 numpy 안에서 데이터 타입 관련 오류 발생\n",
    "y"
   ]
  },
  {
   "cell_type": "code",
   "execution_count": 5,
   "metadata": {},
   "outputs": [
    {
     "data": {
      "image/png": "[encoded data removed]",
      "text/plain": [
       "<Figure size 432x288 with 1 Axes>"
      ]
     },
     "metadata": {
      "needs_background": "light"
     },
     "output_type": "display_data"
    }
   ],
   "source": [
    "import numpy as np\n",
    "import matplotlib.pylab as plt\n",
    "\n",
    "def step_function(x):\n",
    "    #numpy array x에 대해서 x > 0의 결과값을 int로 바꾸어 반환\n",
    "    return np.array(x > 0, dtype=np.int32)\n",
    "\n",
    "x = np.arange(-5.0, 5.0, 0.1)\n",
    "y = step_function(x)\n",
    "plt.plot(x, y)\n",
    "plt.ylim(-0.1, 1.1)\n",
    "plt.show()"
   ]
  },
  {
   "cell_type": "code",
   "execution_count": 6,
   "metadata": {},
   "outputs": [
    {
     "data": {
      "text/plain": [
       "'\\nnumpy의 브로드 캐스트 기능으로 np.exp(-x)로 생성된\\nnumpy array 전체에 1 + 및 1/가 순차적으로 이루어진다.\\n'"
      ]
     },
     "execution_count": 6,
     "metadata": {},
     "output_type": "execute_result"
    }
   ],
   "source": [
    "def sigmoid(x):\n",
    "    #시그모이드 활성화 함수 x의 값에 따라 0~1까지의 값을 가짐\n",
    "    return 1 / (1 + np.exp(-x))\n",
    "\n",
    "\"\"\"\n",
    "numpy의 브로드 캐스트 기능으로 np.exp(-x)로 생성된\n",
    "numpy array 전체에 1 + 및 1/가 순차적으로 이루어진다.\n",
    "\"\"\""
   ]
  },
  {
   "cell_type": "code",
   "execution_count": 7,
   "metadata": {},
   "outputs": [
    {
     "data": {
      "text/plain": [
       "array([0.00669285, 0.73105858, 0.88079708])"
      ]
     },
     "execution_count": 7,
     "metadata": {},
     "output_type": "execute_result"
    }
   ],
   "source": [
    "x = np.array([-5.0, 1.0, 2.0])\n",
    "sigmoid(x)"
   ]
  },
  {
   "cell_type": "code",
   "execution_count": 8,
   "metadata": {},
   "outputs": [
    {
     "data": {
      "image/png": "[encoded data removed]",
      "text/plain": [
       "<Figure size 432x288 with 1 Axes>"
      ]
     },
     "metadata": {
      "needs_background": "light"
     },
     "output_type": "display_data"
    }
   ],
   "source": [
    "x = np.arange(-5.0, 5.0, 0.1)\n",
    "y = sigmoid(x)\n",
    "plt.plot(x,y)\n",
    "plt.ylim(-0.1, 1.1) # 0~ 1까지의 값을 가지기 때문에\n",
    "plt.show()"
   ]
  },
  {
   "cell_type": "markdown",
   "metadata": {},
   "source": [
    "계단함수보다 시그모이드 함수는 부드러운 곡선을 띄며 출력이 연속적으로 변화한다. 이러한 매끈함이 신경망 학습에서 중요한 역항을 하게 된다.\n",
    "\n",
    "Q.그런데 시그모이드 함수는 임계값이 무엇일까?\n",
    "여기에서는 대충 -5정도 되는 것 같은데 다른 값을 설정하는 것은 아닌 것 같다.\n",
    "편향을 통해서 x의 값을 -5보다 작게 만들면 h(x)는 0에 가까워질 것이다.\n",
    "따로 임계값을 설정하는지는 확인해 보아야 알 것 같다.\n",
    "\n",
    "계단함수와 시그모이드 함수는 둘다 비선형 함수이다. 선형 함수를 사용하면 신경망의 층을 깊게하는 이유가 없기 때문.\n",
    "\n",
    "이전에 7월 5일 세미나에서 선형과 비선형에 대한 얘기를 해주셨던 것 같음.\n",
    "$h(x) = cx$가 활성화 함수라면\n",
    "3개층 신경망은 $h(h(h(x))) = c^{3}x$이고 이는 $ax$와 같으므로 결국은 층을 많이 늘려도 하나의 층으로 표현이 가능함.\n",
    "\n",
    "그래서 층을 쌓는 신경망의 이점을 갖고 싶다면 활성화 함수로는 비선형 함수를 사용해야 한다.\n"
   ]
  },
  {
   "cell_type": "markdown",
   "metadata": {},
   "source": [
    "ReLU 함수\n",
    "입력이 0을 넘으면 그대로 출력하고 0 이하면 0을 출력\n",
    "\n",
    "책의 앞장에서는 시그모이드 함수를 사용하지만 후반부에는 주로 ReLU 함수를 사용한다."
   ]
  },
  {
   "cell_type": "code",
   "execution_count": 9,
   "metadata": {},
   "outputs": [],
   "source": [
    "def relu(x):\n",
    "    return np.maximum(0, x)"
   ]
  },
  {
   "cell_type": "code",
   "execution_count": 10,
   "metadata": {},
   "outputs": [
    {
     "name": "stdout",
     "output_type": "stream",
     "text": [
      "[1 2 3 4]\n",
      "1\n",
      "(4,)\n",
      "4\n"
     ]
    }
   ],
   "source": [
    "import numpy as np\n",
    "A = np.array([1, 2, 3, 4])\n",
    "print(A)\n",
    "print(np.ndim(A)) #A의 차원 수\n",
    "print(A.shape) #A의 모양\n",
    "print(A.shape[0]) #A[0]의 모양"
   ]
  },
  {
   "cell_type": "code",
   "execution_count": 11,
   "metadata": {},
   "outputs": [
    {
     "name": "stdout",
     "output_type": "stream",
     "text": [
      "[[1 2]\n",
      " [3 4]\n",
      " [5 6]]\n",
      "2\n",
      "(3, 2)\n"
     ]
    }
   ],
   "source": [
    "B = np.array([[1,2],[3,4],[5,6]])\n",
    "print(B)\n",
    "print(np.ndim(B))\n",
    "print(B.shape)"
   ]
  },
  {
   "cell_type": "code",
   "execution_count": 12,
   "metadata": {},
   "outputs": [
    {
     "name": "stdout",
     "output_type": "stream",
     "text": [
      "(2, 2) (2, 2)\n"
     ]
    },
    {
     "data": {
      "text/plain": [
       "array([[19, 22],\n",
       "       [43, 50]])"
      ]
     },
     "execution_count": 12,
     "metadata": {},
     "output_type": "execute_result"
    }
   ],
   "source": [
    "A = np.array([[1,2],[3,4]])\n",
    "B = np.array([[5,6],[7,8]])\n",
    "print(A.shape, B.shape)\n",
    "np.dot(A,B)\n",
    "\n",
    "#당연하지만 np.dot(A, B) != np.dot(B, A)\n",
    "#numpy의 행렬곱은 기본적인 행렬곱 규칙을 따름"
   ]
  },
  {
   "cell_type": "code",
   "execution_count": 13,
   "metadata": {},
   "outputs": [
    {
     "name": "stdout",
     "output_type": "stream",
     "text": [
      "(3, 2) (2,)\n",
      "[[1 2]\n",
      " [3 4]\n",
      " [5 6]] [7 8]\n",
      "[23 53 83]\n"
     ]
    }
   ],
   "source": [
    "A = np.array([[1,2],[3,4],[5,6]])\n",
    "B = np.array([7,8])\n",
    "print(A.shape, B.shape)\n",
    "print(A, B)\n",
    "print(np.dot(A,B))\n",
    "\n",
    "#B는 1x2행렬인데 AxB에서 자동으로 2x1 행렬로 처리해 주는 듯?\n",
    "#아니면 뭔가 코드에 오류가 있나?"
   ]
  },
  {
   "cell_type": "markdown",
   "metadata": {},
   "source": [
    "위의 행렬곱을 잘 활용하면 아주 적은 코드만으로 신경망의 순방향 처리를 완성할 수 있다.\n",
    "\n",
    "생각해보면 input도 weight 곱하는 것도 모두 행렬곱으로 구할 수 있을 것이다.\n",
    "\n",
    "83p. 그림 3-15를 행렬로 어떻게 표현할 수 있을까?\n",
    "\n",
    "input = np.array([x1, x2])\n",
    "weights1 = np.array([w1, w3, w5], [w2, w4, w6])\n",
    "weigths2 = np.array([we1, we4], [we2, we5],[we3, we6])\n",
    "weights3 = np.array([wei1, wei3],[wei2, wei4])\n",
    "\n",
    "output = np.dot(np.dot(np.dot(input, weights1), weights2), weights3)\n",
    "\n",
    "bias는 어떻게 표현할까? input array에 1을 넣고 weights에 편향값을 줄 수 있는 행을 추가하면 될 것 같다.\n",
    "input = np.array([x1, x2, b])\n",
    "weights1 = np.array([w1, w3, w5], [w2, w4, w6], [bw1, bw2, bw3])\n",
    "나머지 weights들도 똑같이 하면 될 듯?\n",
    "\n",
    "3.3절까지 보고서 쓴 것이기 때문에 다를 수 있음"
   ]
  },
  {
   "cell_type": "markdown",
   "metadata": {},
   "source": [
    "3.4절 보니까 편향은 따로 값을 주고 하는 듯\n",
    "$A = WX + B$\n",
    "위에 값에서 bw와 b만 따로 때면 될듯 함."
   ]
  },
  {
   "cell_type": "code",
   "execution_count": 14,
   "metadata": {},
   "outputs": [
    {
     "name": "stdout",
     "output_type": "stream",
     "text": [
      "(2, 3)\n",
      "(2,)\n",
      "(3,)\n",
      "[0.3 0.7 1.1]\n",
      "[0.57444252 0.66818777 0.75026011]\n"
     ]
    }
   ],
   "source": [
    "X = np.array([1.0, 0.5])\n",
    "W1 = np.array([[0.1,0.3, 0.5],[0.2, 0.4, 0.6]])\n",
    "B1 = np.array([0.1, 0.2, 0.3])\n",
    "\n",
    "print(W1.shape)\n",
    "print(X.shape)\n",
    "print(B1.shape)\n",
    "\n",
    "A1 = np.dot(X, W1) + B1\n",
    "Z1 = sigmoid(A1)\n",
    "print(A1)\n",
    "print(Z1)"
   ]
  },
  {
   "cell_type": "markdown",
   "metadata": {},
   "source": [
    "W와 B 그리고 A는 배열로 만들어서 접근하면 될 것 같다. X는 A[0] (C스타일에서는)\n",
    "파이썬에서는? numpy를 이용해서 똑같이 3차원 배열을 만들자\n",
    "W, B, A 모두\n",
    "\n",
    "W = np.array([ [ [] ] ]) \n",
    "A['Floor']['values'] 각각의 값들이 해당 층의 입력값\n",
    "W['Floor']['weights']['size_of_node'] size_of_node 해당 층의 노드의 갯수만큼, weights 해당 플로어의 입력값 개수만큼\n",
    "B['Floor']['bias_for_node'] bias_for_node 노드의 개수만큼\n",
    "\n",
    "A[0] = X\n",
    "A[n] = np.dot(A[n-1], W[n-1]) + B[n-1]\n",
    "\n",
    "A[0] = X일듯\n",
    "파이썬에서는 각각의 플로어 마다 매트릭스를 다르게 설정해줄 수 있었는데, C++같은 경우에는 그런게 좀 힘드니까 클래스나 구조체를 만들어서 따로 설계해 주어야 할 것 같다."
   ]
  },
  {
   "cell_type": "code",
   "execution_count": 15,
   "metadata": {},
   "outputs": [],
   "source": [
    "def identity_function(x):\n",
    "    return x"
   ]
  },
  {
   "cell_type": "code",
   "execution_count": 16,
   "metadata": {},
   "outputs": [
    {
     "name": "stdout",
     "output_type": "stream",
     "text": [
      "[0.31682708 0.69627909]\n"
     ]
    }
   ],
   "source": [
    "def init_network():\n",
    "    network = {}\n",
    "    network['W1'] = np.array([[0.1, 0.3, 0.5],[0.2, 0.4, 0.6]])\n",
    "    network['b1'] = np.array([0.1, 0.2, 0.3])\n",
    "    network['W2'] = np.array([[0.1, 0.4],[0.2, 0.5],[0.3, 0.6]])\n",
    "    network['b2'] = np.array([0.1, 0.2])\n",
    "    network['W3'] = np.array([[0.1, 0.3], [0.2, 0.4]])\n",
    "    network['b3'] = np.array([0.1, 0.2])\n",
    "\n",
    "    return network\n",
    "\n",
    "def forward(network, x):\n",
    "    W1, W2, W3 = network['W1'], network['W2'], network['W3']\n",
    "    b1, b2, b3 = network['b1'], network['b2'], network['b3']\n",
    "\n",
    "    a1 = np.dot(x, W1) + b1\n",
    "    z1 = sigmoid(a1)\n",
    "    a2 = np.dot(z1, W2) + b2\n",
    "    z2 = sigmoid(a2)\n",
    "    a3 = np.dot(z2, W3) + b3\n",
    "    y = identity_function(a3)\n",
    "\n",
    "    return y\n",
    "\n",
    "network = init_network()\n",
    "x = np.array([1.0, 0.5])\n",
    "y = forward(network, x)\n",
    "print(y)"
   ]
  },
  {
   "cell_type": "markdown",
   "metadata": {},
   "source": [
    "기계학습 문제의 두가지 유형\n",
    "분류 : 데이터가 어느 클래스에 속하는지 찾는 문제\n",
    "회귀 : 입력 데이터에서 연속적인 수치를 예측하는 문제\n",
    "\n",
    "항등함수 : 입력과 출력이 항상 같음\n",
    "소프트맥스 함수 : 입력값의 크기에 따라 확률로 바꾸어서 보여주는 것?"
   ]
  },
  {
   "cell_type": "code",
   "execution_count": 20,
   "metadata": {},
   "outputs": [
    {
     "name": "stdout",
     "output_type": "stream",
     "text": [
      "[ 1.34985881 18.17414537 54.59815003]\n",
      "74.1221542101633\n",
      "[0.01821127 0.24519181 0.73659691]\n"
     ]
    }
   ],
   "source": [
    "#softmax function\n",
    "a = np.array([0.3, 2.9, 4.0])\n",
    "\n",
    "exp_a = np.exp(a)\n",
    "print(exp_a)\n",
    "\n",
    "sum_exp_a = np.sum(exp_a)\n",
    "print(sum_exp_a)\n",
    "\n",
    "y = exp_a / sum_exp_a\n",
    "print(y)"
   ]
  },
  {
   "cell_type": "code",
   "execution_count": null,
   "metadata": {},
   "outputs": [],
   "source": [
    "def softmax(a):\n",
    "    exp_a = np.exp(a)\n",
    "    sum_exp_a = np.sum(exp_a)\n",
    "    y = exp_a / sum_exp_a\n",
    "\n",
    "    return y"
   ]
  },
  {
   "cell_type": "markdown",
   "metadata": {},
   "source": [
    "근데 이걸 왜 사용하는 건지는 잘 모르겠다.\n",
    "$$\n",
    "y_k = {exp (a_k)\\over \\displaystyle\\sum_{i=1}^{n}{exp(a_i)}} \n",
    "$$\n",
    "\n",
    "현실에서는 해당 수식을 사용하는 것이 문제가 없지만, 컴퓨터에서는 수에 제한이 있기 때문에 오버플로가 나타날 수 있다. 그래서 C라는 임의의 정수를 분자 분모에 곱해서 오버플로를 막아준다.\n",
    "\n",
    "$$\n",
    "C^{\\log_{e}e} = e^{\\log_{e}C}\\\\\n",
    "y = {C exp (a_k)\\over C\\displaystyle\\sum_{i=1}^{n}{exp(a_i)}}\\\\\n",
    "y = {exp (a_k+\\log_{e}C)\\over \\displaystyle\\sum_{i=1}^{n}{exp(a_i+\\log_{e}C)}}\\\\\n",
    "$$\n",
    "위 식에서 $\\log_{e}C$를 $C'$으로 사용한다.\n",
    "이 때 보통은 입력 신호 중 최댓값을 상수 $C'$로 사용하는 것이 일반적임."
   ]
  },
  {
   "cell_type": "code",
   "execution_count": 21,
   "metadata": {},
   "outputs": [
    {
     "name": "stdout",
     "output_type": "stream",
     "text": [
      "[1. 1. 1.]\n"
     ]
    },
    {
     "name": "stderr",
     "output_type": "stream",
     "text": [
      "C:\\Users\\rkwoa\\AppData\\Local\\Temp\\ipykernel_20820\\4198790797.py:2: RuntimeWarning: overflow encountered in exp\n",
      "  print(np.exp(a / np.sum(np.exp(a))))\n"
     ]
    }
   ],
   "source": [
    "a = np.array([1010, 1000, 990])\n",
    "print(np.exp(a / np.sum(np.exp(a))))\n"
   ]
  },
  {
   "cell_type": "code",
   "execution_count": 22,
   "metadata": {},
   "outputs": [
    {
     "data": {
      "text/plain": [
       "array([  0, -10, -20])"
      ]
     },
     "execution_count": 22,
     "metadata": {},
     "output_type": "execute_result"
    }
   ],
   "source": [
    "c = np.max(a)\n",
    "a - c"
   ]
  },
  {
   "cell_type": "code",
   "execution_count": 23,
   "metadata": {},
   "outputs": [
    {
     "data": {
      "text/plain": [
       "array([9.99954600e-01, 4.53978686e-05, 2.06106005e-09])"
      ]
     },
     "execution_count": 23,
     "metadata": {},
     "output_type": "execute_result"
    }
   ],
   "source": [
    "np.exp(a-c) / np.sum(np.exp(a-c))"
   ]
  },
  {
   "cell_type": "code",
   "execution_count": 24,
   "metadata": {},
   "outputs": [],
   "source": [
    "def softmax(a):\n",
    "    \"\"\"\n",
    "    overflow를 해결한 softmax 함수\n",
    "    \"\"\"\n",
    "    c = np.max(a)\n",
    "    exp_a = np.exp(a-c)\n",
    "    sum_exp_a = np.sum(exp_a)\n",
    "    y = exp_a / sum_exp_a\n",
    "\n",
    "    return y"
   ]
  },
  {
   "cell_type": "code",
   "execution_count": 25,
   "metadata": {},
   "outputs": [
    {
     "name": "stdout",
     "output_type": "stream",
     "text": [
      "[0.01821127 0.24519181 0.73659691]\n",
      "1.0\n"
     ]
    }
   ],
   "source": [
    "a = np.array([0.3, 2.9, 4.0])\n",
    "y = softmax(a)\n",
    "print(y)\n",
    "print(np.sum(y))"
   ]
  },
  {
   "cell_type": "markdown",
   "metadata": {},
   "source": [
    "당연한 말이겠지만 소프트맥스 함수의 출력값들의 합은 1이다.\n",
    "이 성질 때문에 소프트맥스 함수의 출력값을 확률로 해석할 수 있다.\n",
    "\n",
    "신경망을 이용한 분류에서는 일반적으로 가장 큰 출력을 내는 뉴런에 해당하는 클래스로만 인식.\n",
    "그래서 결과적으로 출력층의 소프트맥스 함수를 생략해도 된다.\n",
    "지수함수 계산에 드는 자원 낭비를 줄이기 위해 현업에서는 생략하기도 한다.\n",
    "\n",
    "추론 단계에서는 소프트맥스 함수를 생략하는 것이 일반적이나 신경망을 학습시킬 때에는 출력층에서 소프트맥스 함수를 사용한다. 그 이유는 4장에서..."
   ]
  },
  {
   "cell_type": "code",
   "execution_count": 2,
   "metadata": {},
   "outputs": [
    {
     "name": "stdout",
     "output_type": "stream",
     "text": [
      "Converting train-images-idx3-ubyte.gz to NumPy Array ...\n",
      "Done\n",
      "Converting train-labels-idx1-ubyte.gz to NumPy Array ...\n",
      "Done\n",
      "Converting t10k-images-idx3-ubyte.gz to NumPy Array ...\n",
      "Done\n",
      "Converting t10k-labels-idx1-ubyte.gz to NumPy Array ...\n",
      "Done\n",
      "Creating pickle file ...\n",
      "Done!\n",
      "(60000, 784)\n",
      "(60000,)\n",
      "(10000, 784)\n",
      "(10000,)\n"
     ]
    }
   ],
   "source": [
    "import sys, os\n",
    "sys.path.append(os.pardir)\n",
    "from dataset.mnist import load_mnist\n",
    "\n",
    "(x_train, t_train), (x_test, t_test) = load_mnist(flatten=True, normalize=False)\n",
    "#훈련 이미지, 훈련 레이블 . 시험 이미지, 시험 레이블\n",
    "#flatten 1차원 배열로\n",
    "#normalized 픽셀 값을 0~1로 정규화\n",
    "#one-hot-label 원 핫 인코딩 : 정답은 1 아니면 0으로 저장\n",
    "print(x_train.shape)\n",
    "print(t_train.shape)\n",
    "print(x_test.shape)\n",
    "print(t_test.shape)"
   ]
  },
  {
   "cell_type": "code",
   "execution_count": 3,
   "metadata": {},
   "outputs": [
    {
     "name": "stdout",
     "output_type": "stream",
     "text": [
      "5\n",
      "(784,)\n",
      "(28, 28)\n"
     ]
    }
   ],
   "source": [
    "# coding: utf-8\n",
    "import sys, os\n",
    "sys.path.append(os.pardir)  # 부모 디렉터리의 파일을 가져올 수 있도록 설정\n",
    "import numpy as np\n",
    "from dataset.mnist import load_mnist\n",
    "from PIL import Image\n",
    "\n",
    "\n",
    "def img_show(img):\n",
    "    pil_img = Image.fromarray(np.uint8(img))\n",
    "    pil_img.show()\n",
    "\n",
    "(x_train, t_train), (x_test, t_test) = load_mnist(flatten=True, normalize=False)\n",
    "\n",
    "img = x_train[0]\n",
    "label = t_train[0]\n",
    "print(label)  # 5\n",
    "\n",
    "print(img.shape)  # (784,)\n",
    "img = img.reshape(28, 28)  # 형상을 원래 이미지의 크기로 변형\n",
    "print(img.shape)  # (28, 28)\n",
    "\n",
    "img_show(img)\n"
   ]
  },
  {
   "cell_type": "code",
   "execution_count": 4,
   "metadata": {},
   "outputs": [
    {
     "name": "stdout",
     "output_type": "stream",
     "text": [
      "Accuracy:0.9352\n"
     ]
    }
   ],
   "source": [
    "# coding: utf-8\n",
    "import sys, os\n",
    "sys.path.append(os.pardir)  # 부모 디렉터리의 파일을 가져올 수 있도록 설정\n",
    "import numpy as np\n",
    "import pickle\n",
    "from dataset.mnist import load_mnist\n",
    "from common.functions import sigmoid, softmax\n",
    "\n",
    "\n",
    "def get_data():\n",
    "    (x_train, t_train), (x_test, t_test) = load_mnist(normalize=True, flatten=True, one_hot_label=False)\n",
    "    return x_test, t_test\n",
    "\n",
    "\n",
    "def init_network():\n",
    "    with open(\"sample_weight.pkl\", 'rb') as f:\n",
    "        network = pickle.load(f)\n",
    "    return network\n",
    "\n",
    "\n",
    "def predict(network, x):\n",
    "    W1, W2, W3 = network['W1'], network['W2'], network['W3']\n",
    "    b1, b2, b3 = network['b1'], network['b2'], network['b3']\n",
    "\n",
    "    a1 = np.dot(x, W1) + b1\n",
    "    z1 = sigmoid(a1)\n",
    "    a2 = np.dot(z1, W2) + b2\n",
    "    z2 = sigmoid(a2)\n",
    "    a3 = np.dot(z2, W3) + b3\n",
    "    y = softmax(a3)\n",
    "\n",
    "    return y\n",
    "\n",
    "\n",
    "x, t = get_data()\n",
    "network = init_network()\n",
    "accuracy_cnt = 0\n",
    "for i in range(len(x)):\n",
    "    y = predict(network, x[i])\n",
    "    p= np.argmax(y) # 확률이 가장 높은 원소의 인덱스를 얻는다.\n",
    "    if p == t[i]:\n",
    "        accuracy_cnt += 1\n",
    "\n",
    "print(\"Accuracy:\" + str(float(accuracy_cnt) / len(x)))\n"
   ]
  },
  {
   "cell_type": "markdown",
   "metadata": {},
   "source": [
    "정규화 : 데이터를 특정 범위로 변환하는 처리 \n",
    "\n",
    "전처리 : 신경망의 입력 데이터에 특정 변환을 가하는 것\n",
    "\n",
    "우리는 입력 데이터를 전처리 하는 과정에서 정규화를 수행하였다.(normalize)"
   ]
  },
  {
   "cell_type": "code",
   "execution_count": 7,
   "metadata": {},
   "outputs": [
    {
     "name": "stdout",
     "output_type": "stream",
     "text": [
      "(10000, 784)\n",
      "(784,)\n",
      "(784, 50)\n",
      "(50, 100)\n",
      "(100, 10)\n"
     ]
    }
   ],
   "source": [
    "x, _ = get_data()\n",
    "network = init_network()\n",
    "W1, W2, W3 = network['W1'], network['W2'], network['W3']\n",
    "\n",
    "print(x.shape)\n",
    "print(x[0].shape)\n",
    "print(W1.shape)\n",
    "print(W2.shape)\n",
    "print(W3.shape)"
   ]
  },
  {
   "cell_type": "code",
   "execution_count": 9,
   "metadata": {},
   "outputs": [
    {
     "name": "stdout",
     "output_type": "stream",
     "text": [
      "Accuracy: 0.9352\n"
     ]
    }
   ],
   "source": [
    "x, t = get_data()\n",
    "network = init_network()\n",
    "\n",
    "batch_size = 100\n",
    "accuracy_cnt = 0\n",
    "\n",
    "for i in range(0, len(x), batch_size):\n",
    "    x_batch = x[i:i+batch_size]\n",
    "    y_batch = predict(network, x_batch)\n",
    "    p = np.argmax(y_batch, axis=1)\n",
    "    accuracy_cnt += np.sum(p == t[i:i+batch_size])\n",
    "\n",
    "print(\"Accuracy: \"+str(float(accuracy_cnt) / len(x)))"
   ]
  },
  {
   "cell_type": "markdown",
   "metadata": {},
   "source": [
    "이전에 유튜브에서 GPU의 작동원리에 대한 영상을 봤었는데 배치 처리하는 이유가 그것 때문인 것 같다.\n"
   ]
  },
  {
   "cell_type": "code",
   "execution_count": null,
   "metadata": {},
   "outputs": [],
   "source": []
  }
 ],
 "metadata": {
  "kernelspec": {
   "display_name": "Python 3.10.5 64-bit",
   "language": "python",
   "name": "python3"
  },
  "language_info": {
   "codemirror_mode": {
    "name": "ipython",
    "version": 3
   },
   "file_extension": ".py",
   "mimetype": "text/x-python",
   "name": "python",
   "nbconvert_exporter": "python",
   "pygments_lexer": "ipython3",
   "version": "3.10.5"
  },
  "orig_nbformat": 4,
  "vscode": {
   "interpreter": {
    "hash": "ea6d7042cb93db4bc8be5a69b26cbfd7e48eef1f556879fc2bfcfe6997ec0c28"
   }
  }
 },
 "nbformat": 4,
 "nbformat_minor": 2
}
