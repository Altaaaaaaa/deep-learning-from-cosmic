{
 "cells": [
  {
   "cell_type": "markdown",
   "metadata": {},
   "source": [
    "### Bag of Word   \n",
    "단어들의 순서는 고려하지 않고 단어들의 출현 빈도에만 집중하는 텍스트 데이터의 수치화 표현 방법    \n",
    "\n",
    "### DTM(Document-Term Matrix)   \n",
    "다수의 문서에서 등장하는 각 단어들의 빈도를 행렬로 표현한 것   \n",
    "각 문서에 대한 Bag of Word를 하나의 행렬로 만든 것을 의미한다.   \n",
    "\n",
    "<b>한계점</b>   \n",
    "문서에 서로 다른 단어가 많은 경우 쓸모없는 저장공간이 많이 발생한다.   \n",
    "문서들 간의 빈도수만을 고려하기 때문에 단어의 빈도수가 비슷하다고 해서 문서의 유사도가 높다는 것을 확신할 수 없다.   \n",
    "\n",
    "### TF-IDF(Term Frequency-Inverse Document Frequency)   \n",
    "각 단어 마다의 중요도(=가중치)를 계산한다.   \n",
    "문서 d, 단어 t, 문서의 총 개수 n이라 할 때,\n",
    "TF 특정 문서에서 특정 단어의 등장 횟수   \n",
    "DF 특정 단어 t가 등장한 문서의 수   \n",
    "IDF df에 반비례하는 수   \n",
    "$idf(d, t) = \\log_e({n \\over 1 +df(t)})$    \n",
    "위 식에서 log를 취하는 이유 ? 문서 수가 많아지면 값이 너무 커지기 때문   \n",
    "모든 문서에서 많이 나오는 것은 중요도가 떨어지는 것.   \n",
    "특정 문서에서 많이 나오는 것은 중요도가 높은 것.   \n",
    "\n",
    "### SVD 특이값 분해   \n",
    "$A = U\\sum V^T $   \n",
    ">직교행렬이란?   \n",
    "나도 모름 ㅋㅋㅋ   \n",
    "\n",
    "### 잠재 디리클레 할당(Latent Dirichlet Allocation)   \n",
    "1. 문서 <= 토픽들을 섞어서 만든 것   \n",
    "2. 토픽들이 가지고 있는 단어 확률분포 => 문서   \n"
   ]
  },
  {
   "cell_type": "code",
   "execution_count": null,
   "metadata": {},
   "outputs": [],
   "source": []
  }
 ],
 "metadata": {
  "language_info": {
   "name": "python"
  },
  "orig_nbformat": 4
 },
 "nbformat": 4,
 "nbformat_minor": 2
}
