{
 "cells": [
  {
   "cell_type": "markdown",
   "metadata": {},
   "source": [
    "퍼셉트론은 다수의 신호를 입력으로 받아 하나의 신호를 추력하는 것을 말한다.\n",
    "퍼셉트론 신호는 0과1(흐른다/흐르지않는다)로 두 가지 값을 가질 수 있다.\n",
    "image.png\n",
    "그림과 같이 입력으로 2개의 신호(x1,x2)는 입력 신호, y는 출력 신호 w1과 w2는 가중치를 뜻한다. 그림의 원은 뉴런 혹은 노드라고 부른다.\n",
    "입력신호가 뉴런에 보내질 때는 각각 고유한 가중치가 곱해진다.\n",
    " w1*x1+w2*x2가 임계값(theta)보다 크면 이를 활성화되었다고한다.\n",
    " image.png"
   ]
  },
  {
   "cell_type": "code",
   "execution_count": null,
   "metadata": {},
   "outputs": [],
   "source": [
    "def AND(x1,x2):#AND게이트\n",
    "    w1,w2,theta=0.5,0.5,0.7\n",
    "    tmp=x1*w1+x2*w2\n",
    "    if tmp<= theta:#x1*w1+x2*w2가 theta보다 작으면 0 크면 1반환\n",
    "        return 0\n",
    "    elif tmp>theta:\n",
    "        return 1\n",
    "\n",
    "print(AND(0,0))\n",
    "print(AND(0,1))\n",
    "print(AND(1,0))\n",
    "print(AND(1,1))"
   ]
  },
  {
   "cell_type": "markdown",
   "metadata": {},
   "source": [
    "AND게이트의 진리표는 x1과 x2가 모두 1일때 1이 출력된다 \n",
    "NAND게이트는 Not AND를 의미하며 AND의 출력을 뒤집어서 모두 1일 때 0이 출력된다.\n",
    "OR는 x1과x2둘 중에 하나라도 0이면 1이 출력 된다."
   ]
  },
  {
   "cell_type": "code",
   "execution_count": null,
   "metadata": {},
   "outputs": [],
   "source": [
    "import numpy as np#numpy를 import함\n",
    "x= np.array([0,1])\n",
    "w=np.array([0.5,0.5])\n",
    "b=-0.7 #theta=-b\n",
    "print(w*x)\n",
    "print(np.sum(w*x))#np에서 행렬끼리 더하기 해서 출력\n",
    "print(np.sum(w*x)+b)"
   ]
  },
  {
   "cell_type": "markdown",
   "metadata": {},
   "source": [
    "theta를 -b(편향)로 치환한다.\n",
    "image.png\n",
    "-b를 이항하면 위와같은 그림이 되고 0을 기준으로 값이 출력되게 된다. \n",
    "b의 값에 따라 가중치를 곱한 값들이 초과한 값에 따라 활성화를 결정한다.(theta이기때문)\n",
    "\n",
    "모든 게이트의 차이는 가중치와 편향값에 따라 다르게 된다."
   ]
  },
  {
   "cell_type": "code",
   "execution_count": null,
   "metadata": {},
   "outputs": [],
   "source": [
    "def AND(x1,x2):\n",
    "    x=np.array([x1,x2])\n",
    "    w=np.array([0.5,0.5])\n",
    "    b=-0.7\n",
    "    tmp=np.sum(w*x)+b\n",
    "    if tmp<=0:#tmp값이 0보다크면 1 0보다 작으면 0출력한다.\n",
    "        return 0\n",
    "    else:\n",
    "        return 1"
   ]
  },
  {
   "cell_type": "code",
   "execution_count": null,
   "metadata": {},
   "outputs": [],
   "source": [
    "def NAND(x1,x2):#AND게이트의 반대\n",
    "    x=np.array([x1,x2])\n",
    "    w= np.array([-0.5,-0.5])\n",
    "    b=0.7\n",
    "    tmp=np.sum(w*x)+b\n",
    "    if tmp<=0:\n",
    "        return 0\n",
    "    else:\n",
    "        return 1\n",
    "    \n",
    "def OR(x1,x2):#OR게이트\n",
    "    x=np.array([x1,x2])\n",
    "    w= np.array([0.5,0.5])\n",
    "    b=-0.2\n",
    "    tmp=np.sum(w*x)+b\n",
    "    if tmp<=0:\n",
    "        return 0\n",
    "    else:\n",
    "        return 1"
   ]
  },
  {
   "cell_type": "code",
   "execution_count": null,
   "metadata": {},
   "outputs": [],
   "source": [
    "퍼셉트론의 한계\n",
    "XOR은 배타적 논리합으로 x1과x2 한쪽만 1일때 1이 출력된다.\n",
    "AND게이트나OR게이트는 직선으로 두영역이 나뉜다.\n",
    "하지만 XOR게이트는 직선으로 나누는 것이 불가능하기 때문에 선형이 아니다.\n",
    "그래서 이러한 비선형 영역을 표현하기 위해서 다층 퍼셉트론(층을 더 쌓는 것)을 사용한다.\n",
    "image.png\n",
    "2층 구조로 퍼셉트론을 구현한다. 1층에서는 NAND게이트와 OR게이트로 2층은 AND게이트를 배치해 XOR게이트를 만든다.\n",
    "이처럼 XOR은 다층 구조의 네트워크이다.\n"
   ]
  },
  {
   "cell_type": "code",
   "execution_count": null,
   "metadata": {},
   "outputs": [],
   "source": [
    "def XOR(x1,x2):#XOR게이트로 2층 구조로 구현됨\n",
    "    s1=NAND(x1,x2)\n",
    "    s2=OR(x1,x2)\n",
    "    y= AND(s1,s2)#s1과s2로 나온 결과를 AND게이트로 Y를 구해 XOR을 구함(2층구조)\n",
    "    return y\n",
    "print(XOR(0,0))\n",
    "print(XOR(1,0))\n",
    "print(XOR(0,1))\n",
    "print(XOR(1,1))"
   ]
  },
  {
   "cell_type": "markdown",
   "metadata": {},
   "source": [
    "2층 퍼셉트론에서 0층에서 1층으로 신호가 전달되고 이어서 1층에서 2층으로 신호가 전달된다. 이를 바탕으로 y를 출력한다.\n",
    "다층 퍼셉트론은 단층 퍼셉트론으로 표현하지 못한 것(다양한 것)을 층을 하나 늘려 구현할 수 있다.\n"
   ]
  },
  {
   "cell_type": "markdown",
   "metadata": {},
   "source": [
    "다층 퍼셉트론은 덧셈을 처리하는 가산기, 2진수를 10진수로 변환하는 인코더, 어떤 조건을 충족하면 1을 출력하는 회로(패리티 검사 회로)와 컴퓨터도 퍼셉트론\n",
    "으로 표현할 수 있다.\n"
   ]
  }
 ],
 "metadata": {
  "kernelspec": {
   "display_name": "Python 3.9.13 64-bit",
   "language": "python",
   "name": "python3"
  },
  "language_info": {
   "codemirror_mode": {
    "name": "ipython",
    "version": 3
   },
   "file_extension": ".py",
   "mimetype": "text/x-python",
   "name": "python",
   "nbconvert_exporter": "python",
   "pygments_lexer": "ipython3",
   "version": "3.9.13"
  },
  "orig_nbformat": 4,
  "vscode": {
   "interpreter": {
    "hash": "da162bc6ca335d4511e3615b4794a2ea457b3567a2b616f20c45c53fa5c35389"
   }
  }
 },
 "nbformat": 4,
 "nbformat_minor": 2
}
