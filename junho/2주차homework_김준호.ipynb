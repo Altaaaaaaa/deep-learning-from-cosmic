{
 "cells": [
  {
   "cell_type": "code",
   "execution_count": null,
   "metadata": {},
   "outputs": [],
   "source": [
    "import numpy as np\n",
    "import matplotlib.pylab as plt#그래프를 그리는 패키지\n",
    "def a(x1,x2):\n",
    "    x=np.array([x1,x2])\n",
    "    w=np.array([3,5])\n",
    "    tmp=np.sum(w*x)\n",
    "    if tmp<=5:\n",
    "        return 0\n",
    "    else:\n",
    "        return tmp\n",
    "    \n",
    "def b(x1,x2):\n",
    "    x=np.array([x1,x2])\n",
    "    w=np.array([4,2])\n",
    "    tmp=np.sum(w*x)\n",
    "    if tmp<=7:\n",
    "        return 0\n",
    "    else:\n",
    "        return tmp\n",
    "    \n",
    "def f(x1,x2):\n",
    "    tmp1=a(x1,x2)\n",
    "    tmp2=b(x1,x2)\n",
    "  \n",
    "    return tmp1+tmp2\n",
    "\n",
    "x=np.arange(0,2,0.1)\n",
    "y=[]\n",
    "for i in range(len(x)):\n",
    "\toutput=f(x[i],x[i])\n",
    "\ty.append(output)\n",
    "\n",
    "plt.plot(x,y)\n",
    "plt.show()\n"
   ]
  }
 ],
 "metadata": {
  "kernelspec": {
   "display_name": "Python 3.10.4 ('kimjh')",
   "language": "python",
   "name": "python3"
  },
  "language_info": {
   "codemirror_mode": {
    "name": "ipython",
    "version": 3
   },
   "file_extension": ".py",
   "mimetype": "text/x-python",
   "name": "python",
   "nbconvert_exporter": "python",
   "pygments_lexer": "ipython3",
   "version": "3.10.4"
  },
  "orig_nbformat": 4,
  "vscode": {
   "interpreter": {
    "hash": "e6634e60314b786066611a05e8567bbb0e38e4154a9e7b96592e1d830a67d2a7"
   }
  }
 },
 "nbformat": 4,
 "nbformat_minor": 2
}
