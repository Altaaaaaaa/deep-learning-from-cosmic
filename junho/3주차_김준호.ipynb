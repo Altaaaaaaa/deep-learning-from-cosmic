{
 "cells": [
  {
   "cell_type": "markdown",
   "metadata": {},
   "source": [
    "퍼셉트론으로 복잡한 함수를 표현할 수 있다. 하지만 가중치는 사람이 수동적으로 설정하고한다. 이러한 문제를 해결하기 위해 신경망을 사용한다. 가중치 매개변수의 적절한 값을 데이터로부터 자동으로 학습하는 능력을 주는 것이다.\n",
    "image.png\n",
    "위의 그림처럼 입력층, 은닉층,출력층으로 구성되어있다.\n",
    "활성화 함수h(x)를 표현하면 y=h(b+w1*x1+w2*x2)이 되고\n",
    "x가 0보다크면 1 작으면 0을 반환한다.\n",
    "활성화 함수는 입력신호의 총합이 활성화를 일으키는지를 정하는 역할을 한다.\n",
    "a=b+w1*x1+w2*x2\n",
    "y=h(a)\n",
    "image.png\n",
    "뉴런과 노드\n",
    "\n"
   ]
  },
  {
   "cell_type": "code",
   "execution_count": null,
   "metadata": {},
   "outputs": [],
   "source": [
    "import numpy as np\n",
    "import matplotlib.pylab as plt#그래프를 그리는 패키지\n",
    "def step_function(x):#x가 0보다 크면 1반환 0보다 작으면 0반환\n",
    "    if x>0:\n",
    "        return 1\n",
    "    else:\n",
    "        return 0"
   ]
  },
  {
   "cell_type": "markdown",
   "metadata": {},
   "source": [
    "활성화 함수에서 임계값을 경계로 출력이 바뀌는데 이런 함수를 계단 함수라고한다.하지만 이외에도 다른 함수로도 신경망의 세계를 나아갈 수 있음\n",
    "시그모이드 함수->image.png\n",
    "이러한 함수를 이용하여 신호를 변환하고 변환한 신호를 뉴런에 전달한다. 퍼셉트론과 신경망의 차이는 활성화함수이다.\n",
    "\n"
   ]
  },
  {
   "cell_type": "code",
   "execution_count": null,
   "metadata": {},
   "outputs": [],
   "source": [
    "def step_function(x):#계단함수\n",
    "    y=x>0\n",
    "    return y.astype(np.int)# y의 타입을 int로 바꿔줌"
   ]
  },
  {
   "cell_type": "code",
   "execution_count": null,
   "metadata": {},
   "outputs": [],
   "source": [
    "x=np.array([-1.0,1.0,2.0])\n",
    "print(x)\n",
    "y=x>0 #bool형인 y\n",
    "print(y)"
   ]
  },
  {
   "cell_type": "code",
   "execution_count": null,
   "metadata": {},
   "outputs": [],
   "source": [
    "y=y.astype(np.int)#bool배열인 y를 int로 바꿔줌\n",
    "print(y)"
   ]
  },
  {
   "cell_type": "code",
   "execution_count": null,
   "metadata": {},
   "outputs": [],
   "source": [
    "def step_function(x):\n",
    "    return np.array(x>0,dtype=np.int)#np안에 배열에서 x가 0보다 큰 수는 int형으로 반환\n",
    "x=np.arange(-5.0,5.0,0.1)#x에 -5부터 5까지 0.1간격으로된 배열을 넣는다.\n",
    "y=step_function(x)\n",
    "plt.plot(x,y)\n",
    "plt.ylim(-0.1,1.1)#y축\n",
    "plt.show()"
   ]
  },
  {
   "cell_type": "code",
   "execution_count": null,
   "metadata": {},
   "outputs": [],
   "source": [
    "def sigmoid(x):\n",
    "    return 1/(1+np.exp(-x))#sigmoid함수\n",
    "\n",
    "x=np.array(([-1.0,1.0,2.0]))#x의 배열\n",
    "sigmoid(x)"
   ]
  },
  {
   "cell_type": "code",
   "execution_count": null,
   "metadata": {},
   "outputs": [],
   "source": [
    "t=np.array([1.0,2.0,3.0])\n",
    "1.0+t\n",
    "\n",
    "1.0/t\n"
   ]
  },
  {
   "cell_type": "code",
   "execution_count": null,
   "metadata": {},
   "outputs": [],
   "source": [
    "x=np.arange(-5.0,5.0,0.1)\n",
    "y=sigmoid(x)\n",
    "plt.plot(x,y)\n",
    "plt.ylim(-0.1,1.1)\n",
    "plt.show()"
   ]
  },
  {
   "cell_type": "markdown",
   "metadata": {},
   "source": [
    "시그모이드 함수와 계단 함수의 공통되는 성질은0또는 1의 출력값을 준다는 것입니다. 또, 입력이 작을 때는 출력이 0에 가깝고 입력이 커지면 1에 가까워진다, 둘다 비선형 함수이다.\n",
    "다음으로 차이는 매끄러움입니다. 시그모이드는 부드러운 곡선이고 입력에 따라출력이 연속적으로 변화\n",
    "계단 함수는 0에서 1로 출력이 갑자기 바뀜\n",
    "계단함수는 0과 1만 출력하지만 시그모이드는 실수를 돌려준다."
   ]
  },
  {
   "cell_type": "markdown",
   "metadata": {},
   "source": [
    "신경망에서는 활성화 함수로 비선형 함수를 사용해야한다. 왜냐하면 선형 함수는 신경망의 층을 깊게하는 의미가 없어지기 때문이다. 아무리 c*c*c*x라도 a=c*c*c인 수를 x와 곱하는 단층 퍼셉트론이 있다면 끝이다. 즉 은닉층이없는 네트워크로 표현할 수 있다.그렇기 때문에 층을 쌓는 혜택을 받기위해서는 활성화 함수로 비선형 함수를 사용해야한다."
   ]
  },
  {
   "cell_type": "code",
   "execution_count": null,
   "metadata": {},
   "outputs": [],
   "source": [
    "def relu(x):\n",
    "    return np.maximum(0,x)#relu함수 np배열에 있는 값중 가장 큰 값을 반환"
   ]
  },
  {
   "cell_type": "markdown",
   "metadata": {},
   "source": [
    "relu는 입력이 0을 넘으면 그 입력 그대로 0이하면 0출력하는 함수이다."
   ]
  },
  {
   "cell_type": "code",
   "execution_count": null,
   "metadata": {},
   "outputs": [],
   "source": [
    "import numpy as np\n",
    "A=np.array(1,2,3,4)\n",
    "print(A)\n",
    "print(np.ndim(A))#A의 차원 수\n",
    "print(A.shape)#A의 행렬 형상\n",
    "print(A.shape[0])\n"
   ]
  },
  {
   "cell_type": "code",
   "execution_count": null,
   "metadata": {},
   "outputs": [],
   "source": [
    "B=np.array([[1,2],[3,4],[5,6]])\n",
    "print(B)\n",
    "np.ndim(B)#B행렬의 차원 2\n",
    "B.shape#B행렬의 형상\n"
   ]
  },
  {
   "cell_type": "markdown",
   "metadata": {},
   "source": [
    "2차원 배열에서 행은 가로 열은 세로이다."
   ]
  },
  {
   "cell_type": "code",
   "execution_count": null,
   "metadata": {},
   "outputs": [],
   "source": [
    "A=np.array([[1,2],[3,4]])\n",
    "A.shape\n",
    "B=np.array([[5,6],[7,8]])\n",
    "B.shape\n",
    "np.dot(A,B)#np에서 A,B배열을 내적한다.\n"
   ]
  },
  {
   "cell_type": "markdown",
   "metadata": {},
   "source": [
    "행렬의 내적은 왼쪽 행렬의 행과 오른 쪽 행렬의 열을 원소별로 곱하고 그 값들을 더해 계산하는 것이다.\n",
    "여기서 np.dot(A,B)!=np.dot(B,A)이다\n",
    "내적은 행렬의 형상의 주의해야한다. A행렬의 열과 B행렬의 행의 수가 같아야한다. A(2,3) B(3,2)->C(2,2)"
   ]
  },
  {
   "cell_type": "code",
   "execution_count": null,
   "metadata": {},
   "outputs": [],
   "source": [
    "A=np.array([[1,2,3,],[4,5,6]])\n",
    "A.shape#(2,3)\n",
    "B=np.array([[1,2],[3,4],[5,6]])\n",
    "B.shape#3,2\n",
    "np.dot(A,B)#np에서 A,B배열을 내적한다.\n"
   ]
  },
  {
   "cell_type": "code",
   "execution_count": null,
   "metadata": {},
   "outputs": [],
   "source": [
    "C=np.array([[1,2],[3,4]])\n",
    "C.shape(2,2)\n",
    "A.shape(2,3)\n",
    "np.dot(A,C)#행과 열의 수가 같지 않기 때문에 A,C배열을 내적하지 못한다.\n",
    "\n"
   ]
  },
  {
   "cell_type": "code",
   "execution_count": null,
   "metadata": {},
   "outputs": [],
   "source": [
    "A=np.array([[1,2],[3,4],[5,6]])\n",
    "A.shape#(3,2)\n",
    "B=np.array([7,8])#(2,1)\n",
    "B.shape\n",
    "np.dot(A,B)\n"
   ]
  },
  {
   "cell_type": "code",
   "execution_count": null,
   "metadata": {},
   "outputs": [],
   "source": [
    "X=np.array([1,2])#입력값\n",
    "X.shape#(1,2)\n",
    "W=np.array([[1,3,5],[2,4,6]])#가중치\n",
    "print(W)\n",
    "W.shape#(2,3)\n",
    "Y=np.dot(X,W)#X와 W의 행렬의 차원이 일치하기 때문에 내적가능\n",
    "print(Y)"
   ]
  }
 ],
 "metadata": {
  "kernelspec": {
   "display_name": "Python 3.9.12 ('base')",
   "language": "python",
   "name": "python3"
  },
  "language_info": {
   "codemirror_mode": {
    "name": "ipython",
    "version": 3
   },
   "file_extension": ".py",
   "mimetype": "text/x-python",
   "name": "python",
   "nbconvert_exporter": "python",
   "pygments_lexer": "ipython3",
   "version": "3.9.12"
  },
  "orig_nbformat": 4,
  "vscode": {
   "interpreter": {
    "hash": "b46e0f8da782ee4e5836de201b49d269b788967913c4102a2cdd310d10725f3c"
   }
  }
 },
 "nbformat": 4,
 "nbformat_minor": 2
}
