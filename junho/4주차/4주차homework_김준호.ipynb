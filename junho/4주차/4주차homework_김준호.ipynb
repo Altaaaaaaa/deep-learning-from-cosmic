{
 "cells": [
  {
   "cell_type": "code",
   "execution_count": 17,
   "metadata": {},
   "outputs": [
    {
     "name": "stdout",
     "output_type": "stream",
     "text": [
      "0.18070663980074286\n",
      "1.041294153864003\n"
     ]
    },
    {
     "data": {
      "image/png": "[encoded data removed]",
      "text/plain": [
       "<Figure size 432x288 with 1 Axes>"
      ]
     },
     "metadata": {
      "needs_background": "light"
     },
     "output_type": "display_data"
    }
   ],
   "source": [
    "import numpy as np\n",
    "import matplotlib.pylab as plt\n",
    "\n",
    "\n",
    "def numerical_diff(f, x):\n",
    "    h = 1e-4 # 0.0001\n",
    "    return (f(x+h) - f(x-h)) / (2*h)\n",
    "\n",
    "def sigmoid(x):\n",
    "    return 1/(1+np.exp(-x))\n",
    "\n",
    "def tanh(x):\n",
    "    return (np.exp(x)-np.exp(-x))/(np.exp(x)+np.exp(-x))\n",
    "\n",
    "\n",
    "def swish(x):\n",
    "    return x*sigmoid(x)\n",
    "\n",
    "def tangent_line(f, x):\n",
    "    d = numerical_diff(f, x)\n",
    "    print(d)\n",
    "    y = f(x) - d*x\n",
    "    return lambda t: d*t + y\n",
    "     \n",
    "x = np.arange(-5.0, 5.0, 1)\n",
    "y = tanh(x)\n",
    "plt.xlabel(\"x\")\n",
    "plt.ylabel(\"f(x)\")\n",
    "\n",
    "tf = tangent_line(tanh, 1.5)\n",
    "y2 = tf(x)\n",
    "\n",
    "y3=swish(x)\n",
    "\n",
    "sf = tangent_line(swish, 1.5)\n",
    "y4=sf(x)\n",
    "\n",
    "plt.plot(x, y)#tanh함수 그래프\n",
    "plt.plot(x, y2)#미분된 그래프\n",
    "plt.plot(x, y3)#swish함수 그래프\n",
    "plt.plot(x, y4)#미분된 그래프\n",
    "plt.show()\n"
   ]
  },
  {
   "cell_type": "markdown",
   "metadata": {},
   "source": [
    "tanh 활성화 함수\n",
    "0을 기준으로 나타나며 sigmoid함수와 모양이 비슷하다\n",
    "\n",
    "swish 활성화 함수\n",
    "0에 가까워질수록 크기 다소 작아지는 경향이 있지만 양의 정수로x가 갈수록\n",
    "y가 기하급수적으로 커진다."
   ]
  },
  {
   "cell_type": "code",
   "execution_count": 18,
   "metadata": {},
   "outputs": [],
   "source": [
    "#1. 시그모이드, ReLU 외에 다른 활성화함수 찾아서 구현해보고, \n",
    "# 어떤 데에 응용해볼 수 있을지도 한번 생각해보기,\n",
    "#  matplot 이용해서 함수 그래프랑 미분된 그래프 그려보기\n",
    "\n",
    "\n"
   ]
  }
 ],
 "metadata": {
  "kernelspec": {
   "display_name": "Python 3.9.12 ('base')",
   "language": "python",
   "name": "python3"
  },
  "language_info": {
   "codemirror_mode": {
    "name": "ipython",
    "version": 3
   },
   "file_extension": ".py",
   "mimetype": "text/x-python",
   "name": "python",
   "nbconvert_exporter": "python",
   "pygments_lexer": "ipython3",
   "version": "3.9.12"
  },
  "orig_nbformat": 4,
  "vscode": {
   "interpreter": {
    "hash": "b46e0f8da782ee4e5836de201b49d269b788967913c4102a2cdd310d10725f3c"
   }
  }
 },
 "nbformat": 4,
 "nbformat_minor": 2
}
