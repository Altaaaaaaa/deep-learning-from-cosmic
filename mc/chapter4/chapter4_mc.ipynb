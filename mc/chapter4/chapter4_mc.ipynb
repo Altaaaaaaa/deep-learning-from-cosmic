{
 "cells": [
  {
   "cell_type": "markdown",
   "metadata": {},
   "source": [
    "4장 신경망 학습\n",
    "\n",
    "학습: 훈련 데이터로부터 가중치 매개변수의 최적값을 자동으로 획득하는 것\n",
    "\n",
    "손실함수: 신경망이 학습할 수 있도록 해주는 지표\n",
    "\n",
    "학습의 목표: 손실 함수의 결괏값을 가장 작게 만드는 가중치 매개변수를 찾는 것"
   ]
  },
  {
   "cell_type": "markdown",
   "metadata": {},
   "source": [
    "4.1 데이터에서 학습\n",
    "신경망의 특징 : 데이터를 보고 학습할 수 있다. -> 가중치 매개변수의 값을 데이터를 보고 자동으로 결정         \n",
    "\n",
    "* 선형 분리 가능 문제는 유한 번의 학습을 통해 풀 수 있다. -> 퍼셉트론 수렴 정리로 증명됨\n",
    "비선형 분리 문제는 자동으로 학습할 수 없음"
   ]
  },
  {
   "cell_type": "markdown",
   "metadata": {},
   "source": [
    "4.1.1 데이터 주도 학습  \n",
    "기계학습에서는 사람의 개입을 최소화하고 수집한 데이터로부터 패턴을 찾으려 시도  \n",
    "신경망과 딥러닝은 기존 기계학습에서 사용하던 방법보다 사람의 개입을 더욱 배제할 수 있는 중요한 특성을 지님  \n",
    "\n",
    "이미지에서 특징을 추출하고 그 특징의 패턴을 기계학습 기술로 학습하는 방법이 있다.\n",
    "특징: 입력 데이터에서 중요한 데이터를 정확하게 추출할 수 있도록 설계된 변환기  \n",
    "\n",
    "이미지의 특징은 보통 벡터로 기술  \n",
    "컴퓨터 비전에서는 SIFT, SURF, HOG 등의 특징을 많이 사용  \n",
    "\n",
    "이미지 데이터를 벡터로 변환 -> 변환된 벡터를 가지고 지도 학습 방식의 대표 분류 기법인 SVM, KNN 등으로 학습  \n",
    "\n",
    "기계학습에서 이미지 벡터를 변환할 때 사용하는 특징은 여전히 사람이 설계한다.\n",
    "\n",
    "딥러닝은 '종단간 기계학습(end-to-end machine learning)'이라고도 한다. '종단간'은 '처음부터 끝까지'라는 의미  데이터에서 목표한 결과를 사람의 개입 없이 얻는다는 뜻이다.\n",
    "\n"
   ]
  },
  {
   "cell_type": "markdown",
   "metadata": {},
   "source": [
    "4.1.2 훈련 데이터와 시험 데이터  \n",
    "기계학습 문제는 데이터를 훈련데이터와 시험데이터로 나눠 학습과 실험을 수행하는 것이 일반적  \n",
    "1) 훈련 데이터만 사용하여 학습하면서 최적의 매개변수를 찾는다.  \n",
    "2) 시험 데이터를 사용하여 앞서 훈련한 모델의 실력을 평가\n",
    "\n",
    "왜 훈련 데이터와 시험 데이터를 나눌까? - 범용적으로 사용할 수 있는 모델을 구하려 하기 때문이다.\n",
    "-> 범용능력을 제대로 평가하기 위해 훈련데이터와 시험데이터를 분리하는 것  \n",
    "\n",
    "범용능력: 아직 보지 못한 데이터(훈련 데이터에 포함되지 않는 데이터)로도 문제를 올바르게 풀어내는 능력\n",
    "-> 범용능력을 획득하는 것이 기계하습의 최종 목표  \n",
    "\n",
    "한 데이터셋에만 지나치게 최적화된 상태를 오버피팅(overfitting)이라고 한다. -> 오버피팅을 피하는 것이 기계학습의 중요한 과제"
   ]
  },
  {
   "cell_type": "markdown",
   "metadata": {},
   "source": [
    "4.2 손실 함수\n",
    "신경망 학습에서 현재의 상태를 하나의 지표로 표현  \n",
    "그 지표를 가장 좋게 만들어주는 가중치 매개변수의 값을 탐색하는 것  \n",
    "신경망 학습에서 사용하는 지표는 손실 함수(loss function)라고 한다.  \n",
    "손실 함수는 임의의 함수를 사용할 수 있지만, 일반적으로 평균 제곱 오차와 교차 엔트로피 오차를 사용  \n",
    "\n",
    "손실 함수는 신경망 성능의 '나쁨'을 나타나는 지표로 현재의 신경망이 훈련 데이터를 얼마나 잘 처리하지 못하느냐를 나타냄  "
   ]
  },
  {
   "cell_type": "markdown",
   "metadata": {},
   "source": [
    "4.2.1 평균 제곱 오차\n",
    "평균 제곱 오차(mean squared error, MSE)   \n",
    "E = $\\frac{1}{2}\\displaystyle\\sum_{k}^{}{(y_k-t_k)^2}$"
   ]
  },
  {
   "cell_type": "code",
   "execution_count": 16,
   "metadata": {},
   "outputs": [],
   "source": [
    "import numpy as np\n",
    "import matplotlib.pyplot as plt"
   ]
  },
  {
   "cell_type": "code",
   "execution_count": 17,
   "metadata": {},
   "outputs": [],
   "source": [
    "y = [0.1, 0.05, 0.6, 0.0, 0.05, 0.1, 0.0, 0.1, 0.0, 0.0]\n",
    "t = [0, 0, 1, 0, 0, 0, 0, 0, 0, 0]"
   ]
  },
  {
   "cell_type": "markdown",
   "metadata": {},
   "source": [
    "한 원소만 1로 하고 그 외에는 0으로 나타내는 표기법을 '원-핫 인코딩' 이라한다."
   ]
  },
  {
   "cell_type": "code",
   "execution_count": 18,
   "metadata": {},
   "outputs": [],
   "source": [
    "def mean_squared_error(y, t):\n",
    "    return 0.5 * np.sum((y-t)**2)"
   ]
  },
  {
   "cell_type": "code",
   "execution_count": 19,
   "metadata": {},
   "outputs": [
    {
     "data": {
      "text/plain": [
       "0.09750000000000003"
      ]
     },
     "execution_count": 19,
     "metadata": {},
     "output_type": "execute_result"
    }
   ],
   "source": [
    "t = [0, 0, 1, 0, 0, 0, 0, 0, 0, 0]\n",
    "\n",
    "# '2'일 확률이 가장 높은 경우\n",
    "y = [0.1, 0.05, 0.6, 0.0, 0.05, 0.1, 0.0, 0.1, 0.0, 0.0]\n",
    "mean_squared_error(np.array(y), np.array(t))"
   ]
  },
  {
   "cell_type": "code",
   "execution_count": 20,
   "metadata": {},
   "outputs": [
    {
     "data": {
      "text/plain": [
       "0.5975"
      ]
     },
     "execution_count": 20,
     "metadata": {},
     "output_type": "execute_result"
    }
   ],
   "source": [
    "# '7'일 확률이 가장 높은 경우\n",
    "y = [0.1, 0.05, 0.1, 0.0, 0.05, 0.1, 0.0, 0.6, 0.0, 0.0]\n",
    "mean_squared_error(np.array(y),np.array(t))"
   ]
  },
  {
   "cell_type": "markdown",
   "metadata": {},
   "source": [
    "4.2.2 교차 엔트로피 오차  \n",
    "E = \n",
    "손실 함수로서 교차 엔트로피 오차(cross entropy error, CEE)도 자주 사용  \n",
    "$-\\displaystyle\\sum_{k}^{}{t_k\\log{y_k}}$      &nbsp;&nbsp;&nbsp;&nbsp; log는 밑이 e인 자연로그다."
   ]
  },
  {
   "cell_type": "code",
   "execution_count": 21,
   "metadata": {},
   "outputs": [],
   "source": [
    "def cross_entropy_error(y, t):\n",
    "    delta = 1e-7\n",
    "    return -np.sum(t * np.log(y + delta))"
   ]
  },
  {
   "cell_type": "code",
   "execution_count": 22,
   "metadata": {},
   "outputs": [
    {
     "data": {
      "text/plain": [
       "0.510825457099338"
      ]
     },
     "execution_count": 22,
     "metadata": {},
     "output_type": "execute_result"
    }
   ],
   "source": [
    "t = [0, 0, 1, 0, 0, 0, 0, 0, 0, 0]\n",
    "y = [0.1, 0.05, 0.6, 0.0, 0.05, 0.1, 0.0, 0.1, 0.0, 0.0]\n",
    "cross_entropy_error(np.array(y), np.array(t))"
   ]
  },
  {
   "cell_type": "code",
   "execution_count": 23,
   "metadata": {},
   "outputs": [
    {
     "data": {
      "text/plain": [
       "2.302584092994546"
      ]
     },
     "execution_count": 23,
     "metadata": {},
     "output_type": "execute_result"
    }
   ],
   "source": [
    "y = [0.1, 0.05, 0.1, 0.0, 0.05, 0.1, 0.0, 0.6, 0.0, 0.0]\n",
    "cross_entropy_error(np.array(y), np.array(t))"
   ]
  },
  {
   "cell_type": "markdown",
   "metadata": {},
   "source": [
    "4.2.3 미니배치 학습  \n",
    "훈련 데이터 모두에 대한 손실 함수  \n",
    "$-\\frac{1}{N}\\displaystyle\\sum_{n}^{}\\displaystyle\\sum_{k}^{}{t_{nk}\\log{y_{nk}}}$  &nbsp;&nbsp;&nbsp;&nbsp;&nbsp;&nbsp;&nbsp; 교차 엔트로피를 모든 훈련 데이터에 대한 손실 함수로 바꾼 수식  \n",
    "마지막에 N으로 나누어 정규화함 -> N으로 나눔으로써 '평균 손실 함수'를 구한 것  \n",
    "\n",
    "모든 데이터를 대상으로 손실 함수의 합을 구하면 오래 걸린다. -> 데이터 일부를 추려 전체의 '근사치'로 이용 가능  \n",
    "-> 미니배치(mini-batch)라 한다.  \n",
    "이러한 방식을 사용하는 학습을 미니배치 학습이라 한다."
   ]
  },
  {
   "cell_type": "code",
   "execution_count": 24,
   "metadata": {},
   "outputs": [
    {
     "name": "stdout",
     "output_type": "stream",
     "text": [
      "(60000, 784)\n",
      "(60000, 10)\n"
     ]
    }
   ],
   "source": [
    "import sys, os\n",
    "sys.path.append(os.pardir)\n",
    "import numpy as np\n",
    "from dataset.mnist import load_mnist\n",
    "\n",
    "(x_train, t_train), (x_test, t_test) =\\\n",
    "    load_mnist(normalize = True, one_hot_label = True)\n",
    "\n",
    "print(x_train.shape)\n",
    "print(t_train.shape)"
   ]
  },
  {
   "cell_type": "code",
   "execution_count": 25,
   "metadata": {},
   "outputs": [],
   "source": [
    "# 무작위로 10장만 빼내려면 어떻게 하면 될까?    ->    넘파이의 np.random.choice() 함수\n",
    "train_size = x_train.shape[0]\n",
    "batch_size = 10\n",
    "batch_mask = np.random.choice(train_size, batch_size)\n",
    "x_batch = x_train[batch_mask]\n",
    "t_batch = x_train[batch_mask]"
   ]
  },
  {
   "cell_type": "code",
   "execution_count": 26,
   "metadata": {},
   "outputs": [
    {
     "data": {
      "text/plain": [
       "array([ 6474,  7862, 23911,  6557,  9115, 20526, 33091, 55502, 30802,\n",
       "       34521])"
      ]
     },
     "execution_count": 26,
     "metadata": {},
     "output_type": "execute_result"
    }
   ],
   "source": [
    "# 0 이상 60000 미만의 수 중에서 무작위로 10개 추출\n",
    "np.random.choice(60000, 10)"
   ]
  },
  {
   "cell_type": "code",
   "execution_count": 27,
   "metadata": {},
   "outputs": [],
   "source": [
    "# 4.2.4 (배치용) 교차 엔트로피 오차 구현하기\n",
    "\n",
    "def cross_entropy_error(y, t):\n",
    "    if y.ndim == 1:\n",
    "        t = t.reshape(1, t.size)\n",
    "        y = y.reshape(1, y.size)\n",
    "        \n",
    "    batch_size = y.shape[0]\n",
    "    return -np.sum(t * np.log(y)) / batch_size"
   ]
  },
  {
   "cell_type": "code",
   "execution_count": 28,
   "metadata": {},
   "outputs": [],
   "source": [
    "# 위의 교차 엔트로피 오차에서 원-핫 인코딩이 아닌 숫자 레이블로 주어졌을 때의 교차 엔트로피\n",
    "def cross_entroy_error(y, t):\n",
    "    if y.ndim == 1:\n",
    "        t = t.reshape(1, t.size)\n",
    "        y = t.reshape(1, y.size)\n",
    "    \n",
    "    batch_size = y.shape[0]\n",
    "    return -np.sum(np.log(y[np.arange(batch_size), t])) / batch_size"
   ]
  },
  {
   "cell_type": "markdown",
   "metadata": {},
   "source": [
    "4.2.5 왜 손실 함수를 설정하는가?  \n",
    "\n",
    "궁극적인 목적은 높은 '정확도'를 끌어내는 매개변수 값을 찾는 것\n",
    "\n",
    "'정확도'라는 지표를 놔두고 '손실 함수의 값'이라는 우회적인 방법을 택하는 이유가 뭘까? -> '미분'의 역할에 주목  \n",
    "신경망 학습에서는 최적의 매개변수(가중치와 편향)를 탐색할 때 손실 함수의 값을 가능한 한 작게 하는 매개변수 값을 찾는다.  \n",
    "가중치 매개변수의 손실 함수의 미분이란 '기중치 매개변수의 값을 아주 조금 변화시켰을 때, 손실 함수가 어떻게 변하나'라는 의미  \n",
    "미분 값이 음수면 그 가중치 매개변수를 양의 방향으로 변화시켜 손실 함수의 값을 줄일 수 있다.  \n",
    "미분 값이 양수면 그 가중치 매개변수를 음의 방향으로 변화시켜 손실 함수의 값을 줄일 수 있다.  \n",
    "미분 값이 0이면 가중치 매개변수를 어느쪽으로 움직여도 손실 함수의 값은 달라지지 않습니다.  \n",
    "\n",
    "정확도를 지표로 삼아서는 안 되는 이유는 미분 값이 대부분의 장소에서 0이 되어 매개변수를 갱신할 수 없기 때문  \n",
    "\n",
    "정확도는 매개변수의 미소한 변화에는 거의 반응을 보이지 않고, 반응이 있더라도 그 값이 불연속적으로 갑자기 변화한다.  \n",
    "-> '계단 함수'를 활성화 함수로 사용하지 않는 이유이기도 하다. 계단 함수의 미분은 대부분의 장소에서 0이다.  \n",
    "그러므로 계단 함수를 이용하면 손실 함수를 지표로 삼는게 의미가 없다.  \n",
    "매개변수의 작은 변화가 주는 파장을 계단 함수가 말살하여 손실 함수의 값에는 아무런 변화가 나타나지 않음\n"
   ]
  },
  {
   "cell_type": "markdown",
   "metadata": {},
   "source": [
    "4.3.1 미분\n",
    "\n",
    "'미분'은 '특정 순간'의 변화량을 뜻한다."
   ]
  },
  {
   "cell_type": "code",
   "execution_count": 29,
   "metadata": {},
   "outputs": [],
   "source": [
    "# 나쁜 구현 예  -> 반올림 오차 문제를 일으킨다.\n",
    "def numerical_diff(f, x):\n",
    "    h = 10e-50\n",
    "    return (f(x + h) - f(x)) / h"
   ]
  },
  {
   "cell_type": "code",
   "execution_count": 30,
   "metadata": {},
   "outputs": [],
   "source": [
    "def  numerical_diff(f, x):\n",
    "    h = 1e-4 # 0.0001\n",
    "    return (f(x+h) - f(x-h)) / (2 * h)"
   ]
  },
  {
   "cell_type": "code",
   "execution_count": 31,
   "metadata": {},
   "outputs": [],
   "source": [
    "def function_1(x):\n",
    "    return 0.01*x**2 + 0.1*x"
   ]
  },
  {
   "cell_type": "code",
   "execution_count": 32,
   "metadata": {},
   "outputs": [
    {
     "data": {
      "image/png": "[encoded data removed]",
      "text/plain": [
       "<Figure size 432x288 with 1 Axes>"
      ]
     },
     "metadata": {
      "needs_background": "light"
     },
     "output_type": "display_data"
    }
   ],
   "source": [
    "import numpy as np\n",
    "import matplotlib.pylab as plt\n",
    "\n",
    "x = np.arange(0.0, 20.0, 0.1) \n",
    "y = function_1(x)\n",
    "plt.xlabel(\"x\")\n",
    "plt.ylabel(\"f(x)\")\n",
    "plt.plot(x, y)\n",
    "plt.show()"
   ]
  },
  {
   "cell_type": "code",
   "execution_count": 33,
   "metadata": {},
   "outputs": [
    {
     "data": {
      "text/plain": [
       "0.2999999999986347"
      ]
     },
     "execution_count": 33,
     "metadata": {},
     "output_type": "execute_result"
    }
   ],
   "source": [
    "numerical_diff(function_1, 5)\n",
    "numerical_diff(function_1, 10)"
   ]
  },
  {
   "cell_type": "markdown",
   "metadata": {},
   "source": [
    "4.3.3 편미분"
   ]
  },
  {
   "cell_type": "code",
   "execution_count": 34,
   "metadata": {},
   "outputs": [],
   "source": [
    "def function_2(x):\n",
    "    return x[0]**2 + x[1]**2"
   ]
  },
  {
   "cell_type": "markdown",
   "metadata": {},
   "source": [
    "변수가 여럿인 함수에 대한 미분을 편미분이라 한다."
   ]
  },
  {
   "cell_type": "code",
   "execution_count": 35,
   "metadata": {},
   "outputs": [
    {
     "data": {
      "text/plain": [
       "6.00000000000378"
      ]
     },
     "execution_count": 35,
     "metadata": {},
     "output_type": "execute_result"
    }
   ],
   "source": [
    "def function_tmp1(x0):\n",
    "    return x0*x0 + 4.0**2.0\n",
    "\n",
    "numerical_diff(function_tmp1, 3.0)"
   ]
  },
  {
   "cell_type": "code",
   "execution_count": 36,
   "metadata": {},
   "outputs": [
    {
     "data": {
      "text/plain": [
       "7.999999999999119"
      ]
     },
     "execution_count": 36,
     "metadata": {},
     "output_type": "execute_result"
    }
   ],
   "source": [
    "def function_tmp2(x1):\n",
    "    return 3.0**2.0 + x1*x1\n",
    "\n",
    "numerical_diff(function_tmp2, 4.0)"
   ]
  },
  {
   "cell_type": "markdown",
   "metadata": {},
   "source": [
    "4.4 기울기  \n",
    "모든 변수의 편미분을 벡터로 정리한 것을 '기울기'라고 한다."
   ]
  },
  {
   "cell_type": "code",
   "execution_count": 37,
   "metadata": {},
   "outputs": [],
   "source": [
    "def numerical_gradient(f, x):\n",
    "    h = 1e-4                     # 0.0001\n",
    "    grad = np.zeros_like(x)      # x와 형상이 같은 배열을 생성\n",
    "    \n",
    "    for idx in range(x.size):\n",
    "        tmp_val = x[idx]\n",
    "        \n",
    "        # f(x+h) 계산\n",
    "        x[idx] = tmp_val + h\n",
    "        fxh1 = f(x)\n",
    "        \n",
    "        # f(x-h)\n",
    "        x[idx] = tmp_val - h\n",
    "        fxh2 = f(x)\n",
    "        \n",
    "        grad[idx] = (fxh1 - fxh2) / (2*h)\n",
    "        x[idx] = tmp_val # 값 복원\n",
    "        \n",
    "    return grad"
   ]
  },
  {
   "cell_type": "code",
   "execution_count": 38,
   "metadata": {},
   "outputs": [
    {
     "data": {
      "text/plain": [
       "array([6., 8.])"
      ]
     },
     "execution_count": 38,
     "metadata": {},
     "output_type": "execute_result"
    }
   ],
   "source": [
    "numerical_gradient(function_2, np.array([3.0, 4.0]))"
   ]
  },
  {
   "cell_type": "code",
   "execution_count": 39,
   "metadata": {},
   "outputs": [
    {
     "data": {
      "text/plain": [
       "array([0., 4.])"
      ]
     },
     "execution_count": 39,
     "metadata": {},
     "output_type": "execute_result"
    }
   ],
   "source": [
    "numerical_gradient(function_2, np.array([0.0, 2.0]))"
   ]
  },
  {
   "cell_type": "code",
   "execution_count": 40,
   "metadata": {},
   "outputs": [
    {
     "data": {
      "text/plain": [
       "array([6., 0.])"
      ]
     },
     "execution_count": 40,
     "metadata": {},
     "output_type": "execute_result"
    }
   ],
   "source": [
    "numerical_gradient(function_2, np.array([3.0, 0.0]))"
   ]
  },
  {
   "cell_type": "markdown",
   "metadata": {},
   "source": [
    "4.4.1 경사법(경사 하강법)  \n",
    "최적의 매개변수는 손실 함수가 최솟값이 될 때의 매개변수다.  \n",
    "기울기를 잘 이용해 함수의 최솟값을 찾으려는 것이 경사법  \n",
    "경사법은 현 위치에서 기울어진 방향으로 일정 거리만큼 이동 -> 또 기울기를 구하고 그방향으로 이동 -> (반복)  "
   ]
  },
  {
   "cell_type": "code",
   "execution_count": 41,
   "metadata": {},
   "outputs": [],
   "source": [
    "def gradient_descent(f, init_x, lr=0.01, step_num=100):\n",
    "    x = init_x\n",
    "    \n",
    "    for i in range(step_num):\n",
    "        grad = numerical_gradient(f, x)\n",
    "        x -= lr * grad\n",
    "        \n",
    "    return x"
   ]
  },
  {
   "cell_type": "code",
   "execution_count": 42,
   "metadata": {},
   "outputs": [
    {
     "data": {
      "text/plain": [
       "array([-6.11110793e-10,  8.14814391e-10])"
      ]
     },
     "execution_count": 42,
     "metadata": {},
     "output_type": "execute_result"
    }
   ],
   "source": [
    "def function_2(x):\n",
    "    return x[0]**2 + x[1]**2\n",
    "\n",
    "init_x=np.array([-3.0, 4.0])\n",
    "gradient_descent(function_2, init_x=init_x, lr=0.1, step_num=100)"
   ]
  },
  {
   "cell_type": "code",
   "execution_count": 43,
   "metadata": {},
   "outputs": [
    {
     "data": {
      "text/plain": [
       "array([-2.58983747e+13, -1.29524862e+12])"
      ]
     },
     "execution_count": 43,
     "metadata": {},
     "output_type": "execute_result"
    }
   ],
   "source": [
    "# 학습률이 너무 큰 예: lr = 10.0\n",
    "init_x = np.array([-3.0, 4.0])\n",
    "gradient_descent(function_2, init_x = init_x, lr=10.0, step_num = 100)"
   ]
  },
  {
   "cell_type": "code",
   "execution_count": 44,
   "metadata": {},
   "outputs": [
    {
     "data": {
      "text/plain": [
       "array([-2.99999994,  3.99999992])"
      ]
     },
     "execution_count": 44,
     "metadata": {},
     "output_type": "execute_result"
    }
   ],
   "source": [
    "# 학습률이 너무 작은 예: lr = 1e-10\n",
    "init_x = np.array([-3.0, 4.0])\n",
    "gradient_descent(function_2, init_x= init_x, lr=1e-10, step_num = 100)"
   ]
  },
  {
   "cell_type": "code",
   "execution_count": 45,
   "metadata": {},
   "outputs": [],
   "source": [
    "import sys, os\n",
    "sys.path.append(os.pardir)\n",
    "import numpy as np\n",
    "from functions import softmax, cross_entropy_error\n",
    "from gradient import numerical_gradient\n",
    "\n",
    "class simpleNet:\n",
    "    def __init__(self):\n",
    "        self.W=np.random.randn(2, 3)    # 정규분포로 초기화\n",
    "    \n",
    "    def predict(self, x):\n",
    "        return np.dot(x, self.W)\n",
    "    \n",
    "    def loss(self, x, t):\n",
    "        z = self.predict(x)\n",
    "        y = softmax(z)\n",
    "        loss = cross_entropy_error(y, t)\n",
    "        \n",
    "        return loss"
   ]
  },
  {
   "cell_type": "code",
   "execution_count": 46,
   "metadata": {},
   "outputs": [
    {
     "name": "stdout",
     "output_type": "stream",
     "text": [
      "[[-0.36987499 -0.01013888 -1.74753146]\n",
      " [ 0.99135445 -0.12691841 -0.39315581]]\n"
     ]
    }
   ],
   "source": [
    "net = simpleNet()\n",
    "print(net.W)"
   ]
  },
  {
   "cell_type": "code",
   "execution_count": 47,
   "metadata": {},
   "outputs": [
    {
     "name": "stdout",
     "output_type": "stream",
     "text": [
      "[ 0.67029402 -0.1203099  -1.40235911]\n"
     ]
    }
   ],
   "source": [
    "x = np.array([0.6, 0.9])\n",
    "p = net.predict(x)\n",
    "print(p)"
   ]
  },
  {
   "cell_type": "code",
   "execution_count": 48,
   "metadata": {},
   "outputs": [
    {
     "data": {
      "text/plain": [
       "0"
      ]
     },
     "execution_count": 48,
     "metadata": {},
     "output_type": "execute_result"
    }
   ],
   "source": [
    "np.argmax(p)"
   ]
  },
  {
   "cell_type": "code",
   "execution_count": 49,
   "metadata": {},
   "outputs": [
    {
     "data": {
      "text/plain": [
       "2.5297109763004126"
      ]
     },
     "execution_count": 49,
     "metadata": {},
     "output_type": "execute_result"
    }
   ],
   "source": [
    "t = np.array([0, 0, 1])\n",
    "net.loss(x, t)"
   ]
  },
  {
   "cell_type": "code",
   "execution_count": 50,
   "metadata": {},
   "outputs": [
    {
     "name": "stdout",
     "output_type": "stream",
     "text": [
      "[[ 0.37988527  0.17230487 -0.55219014]\n",
      " [ 0.56982791  0.2584573  -0.82828521]]\n"
     ]
    }
   ],
   "source": [
    "def f(W):\n",
    "    return net.loss(x, t)\n",
    "\n",
    "dW = numerical_gradient(f, net.W)\n",
    "print(dW)"
   ]
  },
  {
   "cell_type": "code",
   "execution_count": 51,
   "metadata": {},
   "outputs": [],
   "source": [
    "f = lambda w: net.loss(x, t)\n",
    "dW = numerical_gradient(f, net.W)"
   ]
  },
  {
   "cell_type": "markdown",
   "metadata": {},
   "source": [
    "#### 4.5 학습 알고리즘 구현하기  \n",
    "\n",
    "##### 신경망 학습 절차\n",
    "\n",
    "- 전제  \n",
    "신경망에는 적응 가능한 가중치와 편향이 있고, 이 가중치와 편향을 훈련 데이터에 적응하도록 조정하는 과정을 '학습'이라 한다.  \n",
    "신경망 학습은 다음과 같이 4단계로 수행  \n",
    "\n",
    "- 1단계: 미니배치  \n",
    "훈련 데이터 중 일부를 무작위로 가져온다. 선별한 데이터를 미니배치라 한다. 미니배치의 손실 함수 값을 줄이는 것이 목표  \n",
    "\n",
    "- 2단계: 기울기 산출  \n",
    "미니배치의 손실 함수 값을 줄이기 위해 각 가중치 매개변수의 기울기를 구한다. 기울기는 손실 함수의 값을 가장 작게 하는 방향 제시  \n",
    "\n",
    "- 3단계: 매개변수 갱신  \n",
    "가중치 매개변수를 기울기 방향으로 조금씩 갱신  \n",
    "\n",
    "- 4단계: 반복\n",
    "1~3 단계 반복  \n",
    "\n",
    "경사 하강법으로 매개변수를 갱신하는 방법이며, 데이터를 미니배치로 무작위로 선정하기 때문에 확률적 경사 하강법(stochastic gradient descent, SGD)라고 부른다."
   ]
  },
  {
   "cell_type": "code",
   "execution_count": 52,
   "metadata": {},
   "outputs": [],
   "source": [
    "# 4.5.1 2층 신경망 클래스 구현하기\n",
    "\n",
    "import sys, os\n",
    "sys.path.append(os.pardir)\n",
    "from functions import *\n",
    "from gradient import numerical_gradient\n",
    "\n",
    "class TwoLayerNet:\n",
    "    def __init__(self, input_size, hidden_size, output_size, weight_init_std=0.01):\n",
    "        # 가중치 초기화\n",
    "        self.params = {}\n",
    "        self.params['W1'] = weight_init_std * \\\n",
    "            np.random.randn(input_size, hidden_size)\n",
    "        self.params['b1'] = np.zeros(hidden_size)\n",
    "        self.params['W2'] = weight_init_std * \\\n",
    "            np.random.randn(hidden_size, output_size)\n",
    "        self.params['b2'] = np.zeros(output_size)\n",
    "        \n",
    "    def predict(self, x):\n",
    "        W1, W2 = self.params['W1'], self.params['W2']\n",
    "        b1, b2 = self.params['b1'], self.params['b2']\n",
    "        \n",
    "        a1 = np.dot(x, W1) + b1\n",
    "        z1 = sigmoid(a1)\n",
    "        a2 = np.dot(z1, W2) + b2\n",
    "        y = softmax(a2)\n",
    "        \n",
    "        return y\n",
    "    \n",
    "    # x : 입력 데이터, t : 정답 레이블\n",
    "    def loss(self, x, t):\n",
    "        y = self.predict(x)\n",
    "        \n",
    "        return cross_entropy_error(y, t)\n",
    "    \n",
    "    def accuracy(self, x, t):\n",
    "        y= self.predict(x)\n",
    "        y = np.argmax(y, axis = 1)\n",
    "        t = np.argmax(t, axis = 1)\n",
    "        \n",
    "        accuracy = np.sum(y == t) / float(x.shape[0])\n",
    "        return accuracy\n",
    "    \n",
    "    # x : 입력 데이터, t : 정답 레이블\n",
    "    def numerical_gradient(self, x, t):\n",
    "        loss_W = lambda W: self.loss(x, t)\n",
    "        \n",
    "        grads = {}\n",
    "        grads['W1'] = numerical_gradient(loss_W, self.params['W1'])\n",
    "        grads['b1'] = numerical_gradient(loss_W, self.params['b1'])\n",
    "        grads['W2'] = numerical_gradient(loss_W, self.params['W2'])\n",
    "        grads['b2'] = numerical_gradient(loss_W, self.params['b2'])\n",
    "        \n",
    "        return grads"
   ]
  },
  {
   "cell_type": "code",
   "execution_count": 53,
   "metadata": {},
   "outputs": [
    {
     "data": {
      "text/plain": [
       "(10,)"
      ]
     },
     "execution_count": 53,
     "metadata": {},
     "output_type": "execute_result"
    }
   ],
   "source": [
    "net = TwoLayerNet(input_size=784, hidden_size=100, output_size=10)\n",
    "net.params['W1'].shape # (784, 100)\n",
    "net.params['b1'].shape # (100, )\n",
    "net.params['W2'].shape # (100, 10)\n",
    "net.params['b2'].shape # (10, 1)"
   ]
  },
  {
   "cell_type": "code",
   "execution_count": 65,
   "metadata": {},
   "outputs": [],
   "source": [
    "# 4.5.2 미니배치 학습 구현하기\n",
    "import numpy as np\n",
    "from dataset.mnist import load_mnist\n",
    "from two_layer_net import TwoLayerNet\n",
    "\n",
    "(x_train, t_train), (x_test, t_test) = \\\n",
    "    load_mnist(normalize=True, one_hot_label=True)\n",
    "\n",
    "train_loss_list = []\n",
    "\n",
    "# 하이퍼파라미터\n",
    "iters_num = 10 # 반복 횟수\n",
    "train_size = x_train.shape[0]\n",
    "batch_size = 10    # 미니배치 크기\n",
    "learning_rate = 0.1\n",
    "\n",
    "network = TwoLayerNet(input_size=784, hidden_size=50, output_size=10)\n",
    "\n",
    "for i in range(iters_num):\n",
    "    # 미니배치 획득\n",
    "    batch_mask = np.random.choice(train_size, batch_size)\n",
    "    x_batch = x_train[batch_mask]\n",
    "    t_batch = t_train[batch_mask]\n",
    "    \n",
    "    # 기울기 계산\n",
    "    grad = network.numerical_gradient(x_batch, t_batch)\n",
    "    \n",
    "    # 매개변수 갱신\n",
    "    for key in ('W1', 'b1', 'W2', 'b2'):\n",
    "        network.params[key] -= learning_rate * grad[key]\n",
    "    \n",
    "    # 학습 경과 기록\n",
    "    loss = network.loss(x_batch, t_batch)\n",
    "    train_loss_list.append(loss)"
   ]
  },
  {
   "cell_type": "code",
   "execution_count": 66,
   "metadata": {},
   "outputs": [
    {
     "data": {
      "text/plain": [
       "{'W1': array([[0., 0., 0., ..., 0., 0., 0.],\n",
       "        [0., 0., 0., ..., 0., 0., 0.],\n",
       "        [0., 0., 0., ..., 0., 0., 0.],\n",
       "        ...,\n",
       "        [0., 0., 0., ..., 0., 0., 0.],\n",
       "        [0., 0., 0., ..., 0., 0., 0.],\n",
       "        [0., 0., 0., ..., 0., 0., 0.]]),\n",
       " 'b1': array([ 2.81433959e-03,  9.63336189e-05,  1.58820638e-03,  1.52122548e-03,\n",
       "         7.69965744e-04, -7.54840588e-04,  1.54153924e-03,  1.61890742e-03,\n",
       "         2.89681418e-03,  1.35199689e-03,  7.90868422e-04,  1.16107086e-03,\n",
       "         2.33153470e-03,  9.72552181e-04,  1.03476972e-03,  2.27855738e-03,\n",
       "         2.09043709e-03, -2.38457463e-04,  1.67082691e-03,  2.89939124e-04,\n",
       "         3.82179195e-04,  6.96913240e-04,  1.12813536e-03,  2.49712422e-04,\n",
       "         1.40560932e-03,  2.46399172e-03,  1.20840747e-03,  2.53998743e-03,\n",
       "         2.02817063e-03,  1.43371961e-03,  7.53684370e-04,  2.25894705e-03,\n",
       "         1.51621441e-03,  1.23957247e-03,  1.54203494e-03,  5.30612769e-04,\n",
       "         1.42813849e-03,  1.26618774e-03,  1.98572938e-03,  1.81981050e-03,\n",
       "         2.27265829e-03,  1.46107349e-03,  1.19587042e-03,  1.15375914e-03,\n",
       "         1.10882725e-03,  2.87625037e-04,  1.12089867e-03,  1.22333546e-03,\n",
       "         1.50825715e-03,  1.41405523e-03]),\n",
       " 'W2': array([[-0.01493743,  0.05478632, -0.04124541, -0.06146018,  0.0518316 ,\n",
       "          0.03374931,  0.04682452, -0.08988355,  0.0433532 , -0.02301837],\n",
       "        [-0.01533775,  0.05903824, -0.03923755, -0.07079345,  0.05585528,\n",
       "          0.03636951,  0.05232864, -0.10352053,  0.04671792, -0.0214203 ],\n",
       "        [-0.0198427 ,  0.05913616, -0.03641086, -0.07212595,  0.05594837,\n",
       "          0.03643155,  0.04958717, -0.09921977,  0.04679702, -0.02030099],\n",
       "        [-0.0126637 ,  0.05563318, -0.04105589, -0.06332928,  0.05263184,\n",
       "          0.03426952,  0.04817282, -0.09589775,  0.04402164, -0.02178238],\n",
       "        [-0.01428496,  0.05752547, -0.04203068, -0.06752861,  0.05442339,\n",
       "          0.03543636,  0.05118126, -0.09856765,  0.04552031, -0.02167489],\n",
       "        [-0.01748928,  0.05961269, -0.04480149, -0.07064299,  0.05639965,\n",
       "          0.03672411,  0.05174639, -0.09625412,  0.04717369, -0.02246866],\n",
       "        [-0.01361976,  0.05677571, -0.04165924, -0.07068824,  0.05371317,\n",
       "          0.03497437,  0.04733477, -0.09402853,  0.04492618, -0.01772843],\n",
       "        [-0.01307351,  0.05867281, -0.04236274, -0.07526011,  0.05550836,\n",
       "          0.03614366,  0.04878287, -0.09396838,  0.04642742, -0.02087037],\n",
       "        [-0.01212231,  0.05727073, -0.03892463, -0.06761451,  0.05418129,\n",
       "          0.03527958,  0.04792512, -0.09801481,  0.04531835, -0.02329882],\n",
       "        [-0.01375021,  0.06091424, -0.04421755, -0.07967738,  0.05762968,\n",
       "          0.03752521,  0.05012754, -0.09596105,  0.04820207, -0.02079256],\n",
       "        [-0.0165006 ,  0.05653602, -0.03871346, -0.06927218,  0.05348883,\n",
       "          0.0348285 ,  0.05048139, -0.09526961,  0.04473873, -0.02031764],\n",
       "        [-0.01347249,  0.05729249, -0.03870384, -0.06622637,  0.05420237,\n",
       "          0.03529377,  0.04771038, -0.09869011,  0.0453363 , -0.02274248],\n",
       "        [-0.01501595,  0.05906212, -0.04121538, -0.06723334,  0.05587666,\n",
       "          0.03638371,  0.04951003, -0.10124126,  0.04673674, -0.02286334],\n",
       "        [-0.01293605,  0.05757843, -0.04134593, -0.06999386,  0.05447029,\n",
       "          0.03546843,  0.04267325, -0.09077373,  0.04556049, -0.02070131],\n",
       "        [-0.01323137,  0.05603488, -0.04249821, -0.06548552,  0.05301331,\n",
       "          0.03451869,  0.04876987, -0.09622457,  0.04434028, -0.01923736],\n",
       "        [-0.01386789,  0.05897969, -0.04287405, -0.07340613,  0.05579971,\n",
       "          0.03633283,  0.05202172, -0.09981754,  0.04667043, -0.01983877],\n",
       "        [-0.01781728,  0.05824931, -0.04268791, -0.06733346,  0.0551071 ,\n",
       "          0.03588337,  0.04549585, -0.09182821,  0.04609336, -0.02116212],\n",
       "        [-0.01478488,  0.05874469, -0.04223594, -0.07325244,  0.0555777 ,\n",
       "          0.03618897,  0.05040471, -0.09637355,  0.04648576, -0.02075502],\n",
       "        [-0.01352116,  0.05787203, -0.03825678, -0.06759425,  0.05475049,\n",
       "          0.03565113,  0.04778367, -0.09957206,  0.04579453, -0.0229076 ],\n",
       "        [-0.01276753,  0.05941985, -0.03977325, -0.07111978,  0.0562147 ,\n",
       "          0.03660512,  0.04703108, -0.0983349 ,  0.04701968, -0.02429497],\n",
       "        [-0.01849457,  0.05849822, -0.03567416, -0.0710493 ,  0.05534371,\n",
       "          0.03603756,  0.0491178 , -0.09864374,  0.0462916 , -0.02142712],\n",
       "        [-0.01724207,  0.05723617, -0.03649324, -0.06674031,  0.05414883,\n",
       "          0.03525932,  0.04736789, -0.09916668,  0.04529129, -0.01966121],\n",
       "        [-0.01299142,  0.058509  , -0.04331344, -0.06868349,  0.05535266,\n",
       "          0.03604157,  0.04928485, -0.09674059,  0.04629782, -0.02375697],\n",
       "        [-0.01672371,  0.05811697, -0.04058695, -0.07003727,  0.0549836 ,\n",
       "          0.03580116,  0.0518255 , -0.09801479,  0.04598871, -0.02135321],\n",
       "        [-0.01735242,  0.05361609, -0.03649289, -0.06433061,  0.05072548,\n",
       "          0.03302987,  0.04587973, -0.09067007,  0.04242765, -0.01683283],\n",
       "        [-0.01395031,  0.06015993, -0.04153522, -0.07225644,  0.0569149 ,\n",
       "          0.03705944,  0.05101194, -0.10272686,  0.04760469, -0.02228208],\n",
       "        [-0.00851659,  0.06276092, -0.04637418, -0.0756889 ,  0.05937354,\n",
       "          0.0386608 ,  0.04894794, -0.10578152,  0.04966015, -0.02304216],\n",
       "        [-0.01782871,  0.05927598, -0.0388851 , -0.06728197,  0.05608047,\n",
       "          0.036517  ,  0.05151074, -0.10034259,  0.04690773, -0.02595356],\n",
       "        [-0.01385162,  0.05562757, -0.03328881, -0.06165815,  0.05262678,\n",
       "          0.03426907,  0.0447466 , -0.09909358,  0.04401953, -0.02339739],\n",
       "        [-0.01577683,  0.05719793, -0.03796743, -0.06559643,  0.05411263,\n",
       "          0.03523603,  0.04693883, -0.09795349,  0.04526125, -0.0214525 ],\n",
       "        [-0.01456214,  0.05704048, -0.0406152 , -0.06538775,  0.0539637 ,\n",
       "          0.03513873,  0.04676547, -0.09759181,  0.04513622, -0.01988768],\n",
       "        [-0.01612786,  0.05989066, -0.0435477 , -0.07377083,  0.0566616 ,\n",
       "          0.03689484,  0.05042399, -0.09744959,  0.04739253, -0.02036763],\n",
       "        [-0.0181495 ,  0.05817952, -0.03622848, -0.06609118,  0.05504316,\n",
       "          0.0358408 ,  0.05248356, -0.1046916 ,  0.04603975, -0.02242603],\n",
       "        [-0.01274487,  0.05819654, -0.04236523, -0.06845757,  0.05505695,\n",
       "          0.03584988,  0.04691134, -0.09529704,  0.04605104, -0.02320104],\n",
       "        [-0.01599223,  0.05831493, -0.04421076, -0.06924435,  0.05517151,\n",
       "          0.03592338,  0.05271366, -0.09664999,  0.04614563, -0.02217179],\n",
       "        [-0.01419953,  0.05744941, -0.03839721, -0.0719504 ,  0.05435081,\n",
       "          0.03539062,  0.04724921, -0.09577222,  0.04545988, -0.01958057],\n",
       "        [-0.01704871,  0.05741506, -0.04042211, -0.06673282,  0.05431834,\n",
       "          0.03536889,  0.0487303 , -0.09806631,  0.04543288, -0.01899553],\n",
       "        [-0.01288588,  0.05605161, -0.03981988, -0.07013549,  0.05302862,\n",
       "          0.03452913,  0.04690466, -0.09248504,  0.04435342, -0.01954116],\n",
       "        [-0.01352322,  0.0555188 , -0.04129772, -0.06590879,  0.0525244 ,\n",
       "          0.0342006 ,  0.0462345 , -0.09132357,  0.04393236, -0.02035736],\n",
       "        [-0.01360429,  0.05599196, -0.04005278, -0.06414324,  0.05297134,\n",
       "          0.03449161,  0.04745137, -0.09473768,  0.04430631, -0.02267459],\n",
       "        [-0.01734302,  0.05597284, -0.03675169, -0.06706952,  0.05295452,\n",
       "          0.03448192,  0.04577131, -0.09179243,  0.04429276, -0.02051669],\n",
       "        [-0.01249006,  0.06014164, -0.04456088, -0.07245649,  0.05689765,\n",
       "          0.0370486 ,  0.04928269, -0.09777502,  0.04758992, -0.02367804],\n",
       "        [-0.0190064 ,  0.05987814, -0.04011702, -0.0747475 ,  0.05665035,\n",
       "          0.03688746,  0.05215593, -0.09844175,  0.04738341, -0.02064261],\n",
       "        [-0.01360537,  0.05665317, -0.03735901, -0.06704464,  0.0535984 ,\n",
       "          0.03489954,  0.05076023, -0.09977635,  0.04483056, -0.02295651],\n",
       "        [-0.01475744,  0.0557245 , -0.03401288, -0.06712208,  0.05272063,\n",
       "          0.03432761,  0.05220899, -0.09923377,  0.04409623, -0.0239518 ],\n",
       "        [-0.01184956,  0.05943662, -0.04083508, -0.0706498 ,  0.05623093,\n",
       "          0.03661358,  0.0520326 , -0.1049062 ,  0.04703184, -0.02310495],\n",
       "        [-0.01430132,  0.05905098, -0.04352392, -0.07221143,  0.05586661,\n",
       "          0.03637783,  0.04773772, -0.09565433,  0.04672807, -0.02007021],\n",
       "        [-0.0152117 ,  0.05812248, -0.04373905, -0.07367732,  0.05499006,\n",
       "          0.03580608,  0.05060444, -0.0931138 ,  0.04599407, -0.01977527],\n",
       "        [-0.01612455,  0.05839949, -0.04150659, -0.07177374,  0.05525129,\n",
       "          0.0359761 ,  0.05154089, -0.09634939,  0.04621297, -0.02162648],\n",
       "        [-0.01203212,  0.06077661, -0.04356677, -0.0785623 ,  0.05749867,\n",
       "          0.03743841,  0.0530554 , -0.10149284,  0.0480918 , -0.02120686]]),\n",
       " 'b2': array([-0.03032696,  0.11603244, -0.07964297, -0.13874146,  0.10977534,\n",
       "         0.07147971,  0.09827338, -0.19522755,  0.09181832, -0.04344024])}"
      ]
     },
     "execution_count": 66,
     "metadata": {},
     "output_type": "execute_result"
    }
   ],
   "source": [
    "grad    # 기울기"
   ]
  },
  {
   "cell_type": "code",
   "execution_count": 67,
   "metadata": {},
   "outputs": [
    {
     "data": {
      "text/plain": [
       "{'W1': array([[ 0.01632344, -0.00653297,  0.01146405, ...,  0.01651183,\n",
       "         -0.00902984, -0.00082895],\n",
       "        [ 0.00082021, -0.00139162, -0.03010589, ..., -0.02835768,\n",
       "         -0.01689268, -0.00332814],\n",
       "        [-0.00780077, -0.00600963,  0.01242328, ...,  0.00948454,\n",
       "         -0.01720662, -0.0046498 ],\n",
       "        ...,\n",
       "        [ 0.01167967,  0.00119837,  0.01539861, ..., -0.00919747,\n",
       "         -0.00150183,  0.00126847],\n",
       "        [-0.01649031,  0.00605754,  0.00149461, ...,  0.00577039,\n",
       "         -0.00327058,  0.01562313],\n",
       "        [ 0.00886165, -0.00498572, -0.02598287, ...,  0.00934736,\n",
       "         -0.01140706, -0.01379261]]),\n",
       " 'b1': array([-3.88814546e-04, -5.49168154e-04, -4.19080008e-04, -7.77840204e-04,\n",
       "        -3.01301373e-04,  1.21249775e-05, -1.83632093e-04, -3.33705465e-04,\n",
       "        -2.81212100e-04, -5.72481164e-04, -4.84537434e-04, -4.50414013e-04,\n",
       "        -4.12052264e-04, -3.13696214e-04, -6.07420419e-04, -5.53246225e-04,\n",
       "        -6.65697281e-04, -7.94621436e-04, -5.61869675e-05, -1.57231313e-04,\n",
       "        -4.75403456e-04, -4.80773089e-04, -1.94664950e-04, -5.43834308e-04,\n",
       "        -3.29496559e-04, -4.67904099e-04, -5.50780134e-04, -2.02410497e-04,\n",
       "        -3.94903294e-04, -1.76985544e-04, -3.08374499e-04, -2.02845762e-04,\n",
       "        -3.39409040e-04, -4.01400666e-04, -7.13413879e-04, -2.45620478e-04,\n",
       "        -8.77391072e-04, -2.50375582e-05, -3.29447298e-04,  1.84728652e-05,\n",
       "        -2.76487632e-04, -2.34632997e-04, -3.68186343e-04, -5.53182688e-04,\n",
       "        -7.62290475e-04,  4.49139128e-05, -4.24920114e-04, -7.32870937e-04,\n",
       "        -5.40285879e-04, -3.19963211e-04]),\n",
       " 'W2': array([[-5.50477159e-03,  1.52091612e-02,  1.32412118e-02,\n",
       "         -1.39964930e-02,  1.14708829e-02, -8.03668232e-03,\n",
       "          2.73820352e-02,  3.85842996e-03, -3.12807385e-03,\n",
       "         -1.80650111e-02],\n",
       "        [-7.02369252e-03,  2.62367401e-02,  1.10379081e-02,\n",
       "          1.29471931e-02,  2.95783862e-03, -6.71504537e-03,\n",
       "          2.04647066e-02,  3.84338113e-02, -4.71012010e-03,\n",
       "          1.88749151e-03],\n",
       "        [ 6.28111280e-03, -7.26482402e-03, -1.06306219e-03,\n",
       "         -1.88470735e-02,  1.62819802e-02, -2.19955804e-02,\n",
       "          2.90397334e-02,  2.43031398e-02,  7.06601139e-04,\n",
       "         -1.04605411e-02],\n",
       "        [-1.56196895e-02,  9.40960670e-03, -2.30671961e-03,\n",
       "          9.98346397e-03,  3.55122484e-03,  3.58978393e-03,\n",
       "          2.03658733e-02,  1.58642755e-02,  5.39650596e-03,\n",
       "         -3.15366676e-03],\n",
       "        [-2.37172157e-02, -2.22257022e-02,  1.12591662e-02,\n",
       "         -1.00315296e-02,  1.11557304e-02, -2.46953279e-02,\n",
       "          2.86833610e-02,  1.41150089e-02, -1.12042868e-02,\n",
       "         -3.94298147e-03],\n",
       "        [-5.47444250e-03, -5.20437164e-03,  4.00318709e-02,\n",
       "          1.56717897e-02, -9.83992178e-03, -2.92083456e-02,\n",
       "          3.44890526e-02,  2.24615717e-02,  2.49492213e-04,\n",
       "         -2.36498692e-02],\n",
       "        [-4.51865322e-03,  1.60128480e-02,  1.25148161e-02,\n",
       "         -1.48559946e-02, -1.17515894e-03, -2.57603787e-02,\n",
       "          3.71338629e-02,  8.09461241e-03, -3.06629259e-02,\n",
       "         -4.74784546e-03],\n",
       "        [-9.84527646e-03,  1.29526471e-02,  7.67412692e-03,\n",
       "         -2.00421250e-03, -4.01100637e-03, -1.68481866e-03,\n",
       "          3.52467420e-02,  1.52998014e-02, -1.61363935e-02,\n",
       "         -1.81184961e-02],\n",
       "        [-1.30863181e-02,  1.77860394e-02,  1.35719142e-02,\n",
       "         -1.96129339e-02,  1.88043753e-02, -1.63729783e-03,\n",
       "          2.35424364e-02,  1.63819452e-02, -4.12048156e-03,\n",
       "         -2.58324893e-02],\n",
       "        [-2.10794348e-02, -3.65014356e-03,  9.25385333e-03,\n",
       "          4.07475680e-04,  4.84730744e-03, -1.78249964e-03,\n",
       "          1.07792244e-02,  1.47932228e-02,  1.49282808e-03,\n",
       "         -2.95747174e-02],\n",
       "        [-3.89944592e-03, -2.53648056e-02,  1.18306274e-02,\n",
       "         -2.55031251e-02, -1.32315814e-02, -8.31599801e-03,\n",
       "          1.62912425e-02,  1.14348706e-02, -4.03408231e-03,\n",
       "         -1.75465845e-02],\n",
       "        [-6.30018805e-03,  1.58365256e-02,  1.65125433e-02,\n",
       "         -7.66275579e-03, -7.06320181e-03, -8.16468543e-03,\n",
       "          1.15554307e-02,  1.48586164e-02, -7.45478898e-03,\n",
       "         -2.28574540e-02],\n",
       "        [-3.21446129e-02, -1.88759883e-03,  4.97156258e-03,\n",
       "         -1.29412153e-02, -6.26658371e-04, -1.28882644e-02,\n",
       "          1.97992304e-02,  1.93652568e-03, -3.73730634e-03,\n",
       "         -2.49613143e-02],\n",
       "        [-7.11476647e-03,  1.33330619e-02,  2.05286289e-02,\n",
       "          9.98312051e-03, -9.61615903e-03, -1.48348637e-02,\n",
       "          3.10881450e-02,  1.61470541e-02,  8.99079136e-03,\n",
       "         -2.19145444e-02],\n",
       "        [-1.16706886e-02, -6.69676180e-03,  6.40886713e-03,\n",
       "         -5.91253482e-03,  5.54780443e-03, -1.00179061e-02,\n",
       "          1.68844552e-02,  7.39687583e-03, -2.05128301e-02,\n",
       "         -9.79206727e-03],\n",
       "        [ 6.91802898e-03,  1.33283453e-02,  9.29234999e-03,\n",
       "         -3.50717169e-02, -3.18895738e-03, -1.79293804e-02,\n",
       "          1.33723338e-02,  9.03227083e-03, -6.52500867e-03,\n",
       "         -9.70771328e-03],\n",
       "        [-2.00000912e-02,  9.13439718e-03,  1.81952062e-02,\n",
       "         -2.29256429e-03, -2.14869050e-03, -9.06803159e-05,\n",
       "          1.26338584e-02, -1.56697340e-03, -2.30442196e-04,\n",
       "         -2.13134398e-02],\n",
       "        [-7.79759530e-03, -1.66248380e-03,  1.50337247e-02,\n",
       "          2.23958779e-02,  1.15151931e-02, -5.20702289e-03,\n",
       "          3.44123047e-03,  1.49225115e-02, -1.70543634e-02,\n",
       "         -1.63115219e-02],\n",
       "        [-1.19215685e-02, -2.05711983e-03,  9.66362514e-03,\n",
       "         -1.97747354e-02,  1.30036702e-02, -1.79146355e-02,\n",
       "          3.13570205e-02,  7.77434206e-03, -4.53225849e-02,\n",
       "         -2.98955501e-02],\n",
       "        [-1.67160050e-02, -1.12994988e-02,  2.24707326e-02,\n",
       "         -1.39937304e-02, -9.10696025e-03, -2.02572036e-02,\n",
       "          2.99632071e-02,  2.36388388e-02, -3.95395551e-03,\n",
       "         -1.04022612e-02],\n",
       "        [-1.14855971e-02, -5.13873614e-03,  2.47651315e-02,\n",
       "         -2.88741526e-03,  3.91418446e-03, -1.58333827e-02,\n",
       "          1.35509903e-02,  1.64743804e-02, -4.17624793e-03,\n",
       "         -1.21713166e-02],\n",
       "        [-3.41339332e-02,  9.59794546e-04,  1.35344113e-02,\n",
       "         -9.41331052e-03,  1.89471885e-03, -4.23028227e-03,\n",
       "          1.90476742e-03,  2.08049930e-02, -1.21682107e-02,\n",
       "         -1.88456840e-02],\n",
       "        [-6.25238405e-03, -1.06354551e-03,  3.31468486e-02,\n",
       "         -2.06580375e-03, -2.16121834e-03, -3.49751695e-02,\n",
       "          2.13441238e-02, -2.26427557e-03, -1.85931299e-03,\n",
       "         -3.17887371e-02],\n",
       "        [-1.54124715e-03,  2.76254327e-04,  2.14032733e-03,\n",
       "         -4.22373747e-03,  1.30323190e-02, -1.87602852e-02,\n",
       "          1.10614728e-02,  3.16268215e-02, -7.77053230e-03,\n",
       "         -9.10549632e-03],\n",
       "        [-5.99335782e-03,  1.01825174e-02,  2.24255057e-02,\n",
       "          1.18275473e-02,  2.51431050e-02, -7.74830979e-03,\n",
       "          1.87977306e-02,  1.02527802e-02, -9.78544807e-03,\n",
       "         -2.93133047e-02],\n",
       "        [-1.55320482e-02,  1.85552466e-02, -1.69022177e-03,\n",
       "         -1.06631391e-02, -8.45670538e-03, -2.37300859e-02,\n",
       "          2.04760772e-02,  3.73926281e-03,  3.16227570e-04,\n",
       "         -2.17990535e-02],\n",
       "        [-5.11669368e-03, -1.20867031e-02,  8.42248506e-03,\n",
       "         -2.45916985e-02, -7.85943218e-03, -8.74688951e-03,\n",
       "          2.51223956e-02,  1.86286419e-02, -6.29755375e-03,\n",
       "         -7.99742462e-03],\n",
       "        [ 4.68304963e-04, -1.10363458e-02,  1.93092275e-02,\n",
       "         -2.22679448e-02,  2.05557102e-03, -1.02845159e-02,\n",
       "          4.18312382e-02, -7.07344697e-04, -7.62750744e-03,\n",
       "         -2.38000643e-02],\n",
       "        [-7.43858322e-03,  7.66662963e-03,  9.82865348e-03,\n",
       "         -1.55266660e-02,  9.93642594e-04, -9.11288682e-03,\n",
       "          2.25636855e-02,  1.40090499e-02,  4.33112882e-03,\n",
       "         -1.91340702e-02],\n",
       "        [-6.07736658e-03,  2.97664911e-03,  1.76872479e-02,\n",
       "         -1.10273633e-02, -9.64911192e-03, -7.93260107e-04,\n",
       "          3.59846991e-02,  2.27034546e-02,  4.40620976e-03,\n",
       "         -2.40806169e-02],\n",
       "        [-1.74571606e-03,  8.72358610e-03,  1.57527581e-02,\n",
       "         -1.21985528e-02, -1.68977604e-02, -1.64801975e-02,\n",
       "          3.15239469e-02,  1.94008645e-02, -7.82321093e-03,\n",
       "         -7.33775832e-03],\n",
       "        [-9.43011315e-03,  2.32481783e-03,  1.23255411e-02,\n",
       "         -2.47441099e-02, -3.32507447e-03, -6.81653748e-03,\n",
       "          3.34204135e-02,  8.12229156e-03, -1.95841978e-02,\n",
       "         -2.47501319e-02],\n",
       "        [-1.00901969e-02,  2.55286769e-02,  1.83461778e-02,\n",
       "         -1.98836817e-02, -1.18384240e-02, -1.87040493e-02,\n",
       "          8.54070383e-03,  1.82994822e-02,  1.01645603e-03,\n",
       "         -2.08111369e-02],\n",
       "        [-2.61787308e-02,  1.54216057e-02, -6.07226794e-03,\n",
       "          4.44396828e-03,  7.03386946e-03, -1.01524034e-02,\n",
       "          1.93529992e-02,  2.53000166e-02, -1.35160506e-02,\n",
       "         -2.40463928e-02],\n",
       "        [-7.79702362e-03, -2.88975356e-03,  1.47053307e-02,\n",
       "         -6.83040856e-03,  4.66614532e-03, -4.17724818e-03,\n",
       "          1.30602074e-02,  8.64705858e-03,  5.30877945e-03,\n",
       "         -8.36525624e-03],\n",
       "        [-5.31585029e-03, -1.55656999e-02,  6.11239244e-03,\n",
       "         -5.05661908e-03, -1.37192285e-02, -1.19031463e-02,\n",
       "          2.79923010e-02,  2.20435441e-02,  3.55834122e-03,\n",
       "         -3.32583526e-02],\n",
       "        [ 3.81668494e-03, -6.75716540e-03,  1.60345809e-02,\n",
       "         -2.20491247e-02,  1.78770807e-03, -1.61339886e-02,\n",
       "          1.00439719e-02, -5.76132891e-04, -4.92902458e-03,\n",
       "          1.27584280e-02],\n",
       "        [-1.41853327e-02,  3.73684264e-04,  1.46630609e-02,\n",
       "         -8.63775173e-03, -1.34639475e-03, -1.52380030e-02,\n",
       "          3.87113833e-02,  2.18315196e-02, -4.16617186e-03,\n",
       "         -2.50882070e-02],\n",
       "        [-3.84533298e-03, -8.77001976e-03,  1.56331512e-02,\n",
       "         -2.55368152e-02,  6.37230498e-03, -1.00660192e-02,\n",
       "          2.22244343e-02,  7.76252318e-03, -5.66621400e-03,\n",
       "         -2.23911706e-02],\n",
       "        [-2.67183482e-02,  9.52407007e-03,  1.20790613e-02,\n",
       "         -8.63312441e-03, -8.67065552e-03, -2.69169233e-02,\n",
       "          3.49507239e-02,  8.93106372e-03, -5.24275856e-03,\n",
       "         -2.92085670e-02],\n",
       "        [-1.84347838e-02, -1.52713768e-03,  1.70517726e-02,\n",
       "         -1.46163607e-02, -1.28159623e-04, -6.30668559e-03,\n",
       "          3.84576682e-02,  5.40860627e-03, -6.06716474e-04,\n",
       "         -8.34508573e-03],\n",
       "        [-1.31485830e-02,  4.52534311e-03,  1.71826403e-02,\n",
       "         -1.35807774e-02,  3.02567225e-03, -2.36942115e-02,\n",
       "          1.93711175e-02,  1.35177960e-02, -8.18814125e-03,\n",
       "         -3.08406389e-02],\n",
       "        [ 1.19553095e-02,  2.59604195e-02,  2.17391960e-02,\n",
       "         -1.47951782e-02,  6.00723951e-04, -2.64388847e-02,\n",
       "          8.73894554e-03,  2.05831584e-02, -3.94159363e-03,\n",
       "         -2.81877326e-02],\n",
       "        [-1.50856914e-03, -1.81650075e-02,  1.72803468e-02,\n",
       "         -1.21649281e-02,  8.08692101e-04, -1.50302185e-02,\n",
       "          2.77715012e-02,  8.22029011e-03,  7.65426514e-03,\n",
       "          4.83749056e-03],\n",
       "        [-3.63243698e-03,  7.63583194e-03, -3.72324939e-03,\n",
       "         -1.14239445e-02,  1.27910887e-02, -2.94526957e-02,\n",
       "         -1.05132910e-02,  1.21984172e-02, -8.13674198e-03,\n",
       "         -1.74944046e-02],\n",
       "        [-2.05657817e-03,  4.37757256e-03,  2.85874061e-02,\n",
       "         -5.84495146e-03, -7.56364341e-03, -3.50615234e-02,\n",
       "          4.09699961e-02,  2.09806510e-02, -1.08987336e-02,\n",
       "         -1.05101232e-02],\n",
       "        [-7.17511278e-03, -1.32421061e-02,  2.19916783e-02,\n",
       "          7.97780138e-04, -2.87321798e-03, -1.17321349e-02,\n",
       "          3.38041073e-02,  5.18904043e-03,  2.49323068e-04,\n",
       "         -1.54500090e-02],\n",
       "        [-5.49927570e-03, -9.25986481e-03,  1.12194438e-02,\n",
       "          9.04006974e-03,  8.53224313e-03, -1.34202223e-03,\n",
       "          2.44435783e-02,  1.00473750e-02,  6.57697298e-03,\n",
       "         -6.87835548e-03],\n",
       "        [-1.13129381e-02, -3.33857464e-03,  4.45578042e-04,\n",
       "         -2.35105291e-02, -6.56432396e-03, -1.08484809e-02,\n",
       "          1.12746173e-02,  2.48292558e-02,  1.62347710e-02,\n",
       "         -1.79633426e-02],\n",
       "        [-1.93340943e-02,  9.18932063e-03,  1.35584119e-02,\n",
       "         -6.24199994e-03, -1.43828333e-03, -1.73368198e-02,\n",
       "          3.75872711e-02,  1.39690704e-02, -1.29985821e-02,\n",
       "          4.85784122e-03]]),\n",
       " 'b2': array([-0.01930186,  0.0039375 ,  0.02687475, -0.01568849, -0.0026729 ,\n",
       "        -0.02560356,  0.04799318,  0.02894465, -0.0104629 , -0.03402037])}"
      ]
     },
     "execution_count": 67,
     "metadata": {},
     "output_type": "execute_result"
    }
   ],
   "source": [
    "network.params # 매개변수 최종"
   ]
  },
  {
   "cell_type": "code",
   "execution_count": 68,
   "metadata": {},
   "outputs": [
    {
     "data": {
      "text/plain": [
       "2.227732458870567"
      ]
     },
     "execution_count": 68,
     "metadata": {},
     "output_type": "execute_result"
    }
   ],
   "source": [
    "loss"
   ]
  },
  {
   "cell_type": "code",
   "execution_count": 69,
   "metadata": {},
   "outputs": [
    {
     "data": {
      "text/plain": [
       "[2.232863263347803,\n",
       " 2.240856541568548,\n",
       " 2.1402269907078617,\n",
       " 2.183402426589118,\n",
       " 2.200553141138987,\n",
       " 2.147077330637598,\n",
       " 2.339543337407508,\n",
       " 2.0162684761986185,\n",
       " 1.9161353380447121,\n",
       " 2.227732458870567]"
      ]
     },
     "execution_count": 69,
     "metadata": {},
     "output_type": "execute_result"
    }
   ],
   "source": [
    "train_loss_list"
   ]
  },
  {
   "cell_type": "markdown",
   "metadata": {},
   "source": [
    "4.5.3 시험 데이터로 평가하기  \n",
    "손실 함수의 값이 줄어드는 것을 확인할 수 있었다.  \n",
    "이때의 손실 함수의 값이란 '훈련 데이터의 미니배치에 대한 손실 함수'의 값이다.  \n",
    "훈련 데이터의 손실 함수의 값이 작아지는 것은 신경망이 잘 학습하고 있음을 뜻한다.  \n",
    "하지만 이 결과로는 다른 데이터셋에도 비슷한 실력을 발휘할지는 확실하지 않다.  \n",
    "\n",
    "에폭(epoch)  \n",
    "1에폭은 학습에서 훈련 데이터를 모두 소진했을 때의 횟수에 해당  \n",
    "ex) 훈련 데이터 10,000개를 100개의 미니배치로 학습하는 경우에  \n",
    "확률적 경사 하강법을 100회 반복하면 모든 훈련 데이터는 소진된다.  \n",
    "100회가 1에폭이 된다.  "
   ]
  },
  {
   "cell_type": "code",
   "execution_count": 64,
   "metadata": {},
   "outputs": [
    {
     "name": "stdout",
     "output_type": "stream",
     "text": [
      "train acc, test acc | 0.0993, 0.1032\n"
     ]
    }
   ],
   "source": [
    "import numpy as np\n",
    "from dataset.mnist import load_mnist\n",
    "from two_layer_net import TwoLayerNet\n",
    "\n",
    "(x_train, t_train), (x_test, t_test) = \\\n",
    "    load_mnist(normalize=True, one_hot_label=True)\n",
    "    \n",
    "network = TwoLayerNet(input_size=784, hidden_size=50, output_size=10)\n",
    "\n",
    "# 하이퍼파라미터\n",
    "iters_num = 10                  # 반복 횟수\n",
    "train_size = x_train.shape[0]\n",
    "batch_size = 10                 # 미니배치  크기\n",
    "learning_rate = 0.1\n",
    "\n",
    "train_loss_list = []\n",
    "train_acc_list = []\n",
    "test_acc_list = []\n",
    "\n",
    "# 1에폭당 반복 수\n",
    "iter_per_epoch = max(train_size / batch_size, 1)\n",
    "\n",
    "for i in range(iters_num):\n",
    "    # 미니배치 획득\n",
    "    batch_mask = np.random.choice(train_size, batch_size)\n",
    "    x_batch = x_train[batch_mask]\n",
    "    t_batch = t_train[batch_mask]\n",
    "    \n",
    "    # 기울기 계산\n",
    "    grad = network.numerical_gradient(x_batch, t_batch)\n",
    "    \n",
    "    # 매개변수 갱신\n",
    "    for key in ('W1', 'b1', 'W2', 'b2'):\n",
    "        network.params[key] -= learning_rate * grad[key]\n",
    "        \n",
    "    # 학습 경과 기록\n",
    "    loss = network.loss(x_batch, t_batch)\n",
    "    train_loss_list.append(loss)\n",
    "    \n",
    "    # 1에폭당 정확도 계산\n",
    "    if i % iter_per_epoch == 0:\n",
    "        train_acc = network.accuracy(x_train, t_train)\n",
    "        test_acc = network.accuracy(x_test, t_test)\n",
    "        train_acc_list.append(train_acc)\n",
    "        test_acc_list.append(test_acc)\n",
    "        print(\"train acc, test acc | \"\n",
    "              + str(train_acc) + \", \" + str(test_acc))\n",
    "        \n"
   ]
  },
  {
   "cell_type": "markdown",
   "metadata": {},
   "source": [
    "오버피팅이 일어나면 갑자기 정확도가 떨어지는 지점이 생긴다. 그 순간이 오버피팅이 시작되는 순간이다."
   ]
  },
  {
   "cell_type": "markdown",
   "metadata": {},
   "source": [
    "4.6 정리  \n",
    "\n",
    "- 기계학습에서 사용하는 데이터셋은 훈련 데이터와 시험 데이터로 나눠 사용한다.  \n",
    "- 훈련 데이터로 학습한 모델의 범용 능력을 시험 데이터로 평가  \n",
    "- 신경망 학습은 손실 함수를 지표로, 손실 함수의 값이 작아지는 방향으로 가중치 매개변수를 갱신  \n",
    "- 가중치 매개변수를 갱신할 때 가중치 매개변수의 기울기를 이용, 기울어진 방향으로 가중치의 값을 갱신하는 작업 반복  \n",
    "- 아주 작은 값을 주었을 때의 차분으로 미분한는 것을 수치 미분  \n",
    "- 수치 미분을 이용해 가중치 매개변수의 기울기를 구할 수 있다.  \n",
    "- 수치 미분을 이용한 계산에는 시간이 걸리지만, 그 구현은 간단  \n",
    "\n",
    "5장에서는 오차역전파법이라는 방법으로 기울기를 고속으로 구할 수 있다.  "
   ]
  },
  {
   "cell_type": "markdown",
   "metadata": {},
   "source": [
    "# 과제\n",
    "1. 시그모이드, ReLU 외에 다른 활성화 함수 찾아서 구현 및 응용할 수 있는 것 생각하기  \n",
    "  \n",
    "- 계단함수  \n",
    "장점: 구현이 쉽다.  \n",
    "단점: 다중 출력 불가능 (미분하면 대부분이 0이다.)  \n",
    "사용하는 곳: 퍼셉트론"
   ]
  },
  {
   "cell_type": "code",
   "execution_count": 70,
   "metadata": {},
   "outputs": [
    {
     "data": {
      "text/plain": [
       "Text(0.5, 1.0, 'Step Function')"
      ]
     },
     "execution_count": 70,
     "metadata": {},
     "output_type": "execute_result"
    },
    {
     "data": {
      "image/png": "[encoded data removed]",
      "text/plain": [
       "<Figure size 432x288 with 1 Axes>"
      ]
     },
     "metadata": {
      "needs_background": "light"
     },
     "output_type": "display_data"
    }
   ],
   "source": [
    "import numpy as np\n",
    "import matplotlib.pyplot as plt\n",
    "\n",
    "def step_function(x, threshold = 0):\n",
    "    return np.where(x<=threshold, 0, 1)\n",
    "\n",
    "x=np.linspace(-5, 5) \n",
    "y = step_function(x, threshold=0.5)\n",
    "plt.plot(x,y)\n",
    "plt.title(\"Step Function\")"
   ]
  },
  {
   "cell_type": "markdown",
   "metadata": {},
   "source": [
    "linspace(구간 시작점, 구간 끝점, 구간 내 숫자 개수)  \n",
    "만약 '구간 내 숫자 개수'가 생략되면 50개의 요소를 가진 1차원 배열을 만든다."
   ]
  },
  {
   "cell_type": "code",
   "execution_count": 71,
   "metadata": {},
   "outputs": [
    {
     "data": {
      "text/plain": [
       "array([-5.        , -4.79591837, -4.59183673, -4.3877551 , -4.18367347,\n",
       "       -3.97959184, -3.7755102 , -3.57142857, -3.36734694, -3.16326531,\n",
       "       -2.95918367, -2.75510204, -2.55102041, -2.34693878, -2.14285714,\n",
       "       -1.93877551, -1.73469388, -1.53061224, -1.32653061, -1.12244898,\n",
       "       -0.91836735, -0.71428571, -0.51020408, -0.30612245, -0.10204082,\n",
       "        0.10204082,  0.30612245,  0.51020408,  0.71428571,  0.91836735,\n",
       "        1.12244898,  1.32653061,  1.53061224,  1.73469388,  1.93877551,\n",
       "        2.14285714,  2.34693878,  2.55102041,  2.75510204,  2.95918367,\n",
       "        3.16326531,  3.36734694,  3.57142857,  3.7755102 ,  3.97959184,\n",
       "        4.18367347,  4.3877551 ,  4.59183673,  4.79591837,  5.        ])"
      ]
     },
     "execution_count": 71,
     "metadata": {},
     "output_type": "execute_result"
    }
   ],
   "source": [
    "x"
   ]
  },
  {
   "cell_type": "markdown",
   "metadata": {},
   "source": [
    "where(조건)  \n",
    "ex) np.where(a>10)는 a행렬에서 10보다 큰 요소를 가진 인덱스 번호를 배열의 형태로 반환한다."
   ]
  },
  {
   "cell_type": "code",
   "execution_count": 72,
   "metadata": {},
   "outputs": [],
   "source": [
    "def tangent_line(f, x):         # 접선\n",
    "    d = numerical_diff(f, x)\n",
    "    \n",
    "    y=f(x) - d*x\n",
    "    return lambda t: d*t + y"
   ]
  },
  {
   "cell_type": "code",
   "execution_count": 75,
   "metadata": {},
   "outputs": [
    {
     "data": {
      "image/png": "[encoded data removed]",
      "text/plain": [
       "<Figure size 432x288 with 1 Axes>"
      ]
     },
     "metadata": {
      "needs_background": "light"
     },
     "output_type": "display_data"
    }
   ],
   "source": [
    "y = step_function(x)        # 계단함수\n",
    "plt.xlabel(\"x\")\n",
    "plt.ylabel(\"f(x)\")\n",
    "\n",
    "tf = tangent_line(step_function, 5) # 접선\n",
    "y2 = tf(x)\n",
    "\n",
    "plt.plot(x, y, label = 'Step_Function')\n",
    "plt.plot(x, y2, label = \"tangent_line\")\n",
    "plt.legend() # 그래프 구분 표\n",
    "plt.show()"
   ]
  },
  {
   "cell_type": "markdown",
   "metadata": {},
   "source": [
    "미분 결과 0이다.  "
   ]
  },
  {
   "cell_type": "markdown",
   "metadata": {},
   "source": [
    "- 리키렐루(Leaky ReLU) 함수  \n",
    "렐루(ReLu)와 거의 비슷하지만, 가중치 곱의 합이 0보다 작을 때의 값도 고려한다는 차이점이 있다.  \n",
    "장점:   \n",
    "1) 층이 아무리 깊어져도 손실없는 정보 전달 가능  \n",
    "2) 음수일 경우 기울기가 0이 아닌 0.01값을 갖게 된다. (Dying ReLU 현상 방지)   \n",
    "->  죽은 뉴런의 초래를 막음   \n",
    "(ReLU 함수는 음수 값이 들어오면 모두 0으로 반환해버린다. 해당 뉴런은 더이상 변하지 않는다. 이 현상을 막는다는 것임)  \n",
    "3) Leaky ReLU를 일반적으로 많이 쓰이지 않지만 ReLU보다 학습이 잘 된다.  \n",
    "  \n",
    "단점:  \n",
    "1) 음수에서 선형성이 생기고, 복잡한 분류에서 사용할 수 없다.  \n",
    "2) 일부 사례에서 하이퍼볼릭탄젠트 함수, 시그모이드 함수보다 성능이 좋지 않다는 이야기가 있다.  \n",
    "  \n",
    "사용하는곳: 음수가 아주 중요한 상황에 사용한다."
   ]
  },
  {
   "cell_type": "code",
   "execution_count": 76,
   "metadata": {},
   "outputs": [
    {
     "data": {
      "text/plain": [
       "Text(0.5, 1.0, 'Leaky Relu Function')"
      ]
     },
     "execution_count": 76,
     "metadata": {},
     "output_type": "execute_result"
    },
    {
     "data": {
      "image/png": "[encoded data removed]",
      "text/plain": [
       "<Figure size 432x288 with 1 Axes>"
      ]
     },
     "metadata": {
      "needs_background": "light"
     },
     "output_type": "display_data"
    }
   ],
   "source": [
    "def leaky_relu_function(x):\n",
    "    return np.where(x<=0, x*0.01, x)\n",
    "\n",
    "leak_relu_y = leaky_relu_function(x)\n",
    "plt.plot(x, leak_relu_y)\n",
    "plt.title(\"Leaky Relu Function\")"
   ]
  },
  {
   "cell_type": "code",
   "execution_count": 86,
   "metadata": {},
   "outputs": [
    {
     "data": {
      "image/png": "[encoded data removed]",
      "text/plain": [
       "<Figure size 432x288 with 1 Axes>"
      ]
     },
     "metadata": {
      "needs_background": "light"
     },
     "output_type": "display_data"
    }
   ],
   "source": [
    "y = leaky_relu_function(x)        # 리키렐루 함수\n",
    "plt.xlabel(\"x\")\n",
    "plt.ylabel(\"f(x)\")\n",
    "\n",
    "tf = tangent_line(step_function, -1) # 접선\n",
    "y2 = tf(x)\n",
    "\n",
    "plt.plot(x, y, label = 'Leaky_Relu_Function')\n",
    "plt.plot(x, y2, label = \"tangent_line\")\n",
    "plt.legend() # 그래프 구분 표\n",
    "plt.show()"
   ]
  },
  {
   "cell_type": "markdown",
   "metadata": {},
   "source": [
    "2. MNIST 과정 손으로 그려보기(계층의 개수, 노드 가중치 3개까지), 행렬곱으로 표현하기"
   ]
  }
 ],
 "metadata": {
  "kernelspec": {
   "display_name": "Python 3.10.5 64-bit",
   "language": "python",
   "name": "python3"
  },
  "language_info": {
   "codemirror_mode": {
    "name": "ipython",
    "version": 3
   },
   "file_extension": ".py",
   "mimetype": "text/x-python",
   "name": "python",
   "nbconvert_exporter": "python",
   "pygments_lexer": "ipython3",
   "version": "3.10.5"
  },
  "orig_nbformat": 4,
  "vscode": {
   "interpreter": {
    "hash": "88f5a4554b5a9ef949b5de2ca977b5a4bd361180c5b30f32147c76c2c5bcf452"
   }
  }
 },
 "nbformat": 4,
 "nbformat_minor": 2
}
