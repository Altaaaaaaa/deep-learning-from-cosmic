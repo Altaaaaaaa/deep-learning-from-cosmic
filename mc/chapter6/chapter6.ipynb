{
 "cells": [
  {
   "cell_type": "markdown",
   "metadata": {},
   "source": [
    "# Chapter6 학습 관련 기술들"
   ]
  },
  {
   "cell_type": "markdown",
   "metadata": {},
   "source": [
    "6.1 매개변수 갱신\n",
    "신경망 학습의 목적: 손실 함수의 값을 가능한 한 낮추는 매개변수를 찾는 것  ->  최적화(optimization)이라 한다.  \n",
    "확률적 경사 하강법(SGD): 매개변수의 기울기를 구해, 기울어진 방향으로 매개변술 값을 갱신하는 일을 몇 번이고 반복해서 점점 최적의 값에 다가가는 것"
   ]
  },
  {
   "cell_type": "code",
   "execution_count": 2,
   "metadata": {},
   "outputs": [],
   "source": [
    "import numpy as np\n",
    "class SGD:\n",
    "    def __init__(self, lr=0.01):\n",
    "        self.lr = lr\n",
    "        \n",
    "    def update(self, params, grads):\n",
    "        for key in params.keys():\n",
    "            params[key] -= self.lr * grads[key]"
   ]
  },
  {
   "cell_type": "markdown",
   "metadata": {},
   "source": [
    "SGD  \n",
    "장점: 단순하고 구현이 쉽다.  \n",
    "단점: 1) 비등방성 함수(방향에 따라 성질(기울기)가 달라지는 함수)에서는 탐색 경로가 비효율적이다.\n",
    "\n",
    "-> 모멘텀, AdaGrad, Adam 이라는 세 방법 등장"
   ]
  },
  {
   "cell_type": "markdown",
   "metadata": {},
   "source": [
    "6.1.4 모멘텀  \n",
    "모멘텀(Momentum): '운동량'을 뜻하는 단어"
   ]
  },
  {
   "cell_type": "code",
   "execution_count": 3,
   "metadata": {},
   "outputs": [],
   "source": [
    "class Momentum:\n",
    "    def __init__(self, lr=0.01, momentum=0.9):\n",
    "        self.lr = lr\n",
    "        self.momentum = momentum\n",
    "        self.v = None\n",
    "        \n",
    "    def update(self, params, grads):\n",
    "        if self.v is None:\n",
    "            self.v = {}\n",
    "            for key, val in params.items():\n",
    "                self.v[key] = np.zeros_like(val)\n",
    "        \n",
    "        for key in params.keys():\n",
    "            self.v[key] = self.momentum*self.v[key] - self.lr*grads[key]\n",
    "            params[key] += self.v[key]\n",
    "            "
   ]
  },
  {
   "cell_type": "markdown",
   "metadata": {},
   "source": [
    "6.1.5 AdaGrad\n",
    "신경망 학습에서 학습률이 너무 작으면 시간이 너무 길어지고, 반대로 너무 크면 발산하여 학습이 제대로 되지 않음  \n",
    "학습률 감소(learning decay): 학습을 진행하면서 학습률을 점차 줄여가는 방법으로, 학습률을 정하는 효과적 기술  \n",
    "가장 간단한 방법은 매개변수 '전체'의 학습률 값을 일괄적으로 낮추는 것\n",
    "->(발전)-> AdaGrad  \n",
    "\n",
    "AdaGrad: '각각의' 매개변수에 '맞춤형' 값으로 만드는 것  "
   ]
  },
  {
   "cell_type": "code",
   "execution_count": 4,
   "metadata": {},
   "outputs": [],
   "source": [
    "class AdaGrad:\n",
    "    def __init__(self, lr=0.01):\n",
    "        self.lr = lr\n",
    "        self.h = None\n",
    "        \n",
    "    def update(self, params, grads):\n",
    "        if self.h is None:\n",
    "            self.h = {}\n",
    "            for key, val in params.items():\n",
    "                self.h[key] = np.zeros_like(val)\n",
    "            \n",
    "        for key in params.keys():\n",
    "            self.h[key] += grads[key] * grads[key]\n",
    "            params[key] -= self.lr * grads[key] / (np.sqrt(self.h[key]) + 1e-7)"
   ]
  },
  {
   "cell_type": "markdown",
   "metadata": {},
   "source": [
    "6.1.6 Adam\n",
    "모멘텀과 AdaGrad의 융합  \n",
    "하이퍼파라미터의 '편향 보정'이 진행된다.  \n",
    "\n",
    "Adam은 하이퍼파라미터를 3개 설정한다. 학습률, 일차 모멘텀용 계수, 이차 모멘텀용 계수  \n",
    "기본 설정값은 일차 모멘텀용 계수는 0.9, 이차 모멘텀용 계수는 0.999 -> 기본 설정값으로 하면 많은 경우에 좋은 결과를 얻을 수 있다."
   ]
  },
  {
   "cell_type": "markdown",
   "metadata": {},
   "source": [
    "6.2 가중치의 초깃값  \n",
    "신경망 학습에서 특히 중요한 것이 가중치의 초깃값  \n",
    "\n",
    "6.2.1 초깃값을 0으로 하면?  \n",
    "가중치 감소(weight decay): 오버피팅을 억제해 범용 성능을 높이는 테크닉으로, 가중치 매개변수의 값이 작아지도록 학습하는 방법  \n",
    "\n",
    "초깃값을 0으로 하면 안되는 이유(가중치를 균일한 값으로 설정): 오차 역번파법에서 모든 가중치의 값이 똑같이 갱신되기 때문  \n",
    "-> 가중치를 여러 개 갖는 의미를 사라지게 함 -> 초깃값을 무작위로 설정해야 한다.  \n",
    "\n",
    "6.2.2 은닉층의 활성화값 분포  \n",
    "은닉층의 활성화값(활성화 함수의 출력 데이터)의 분포를 관찰하면 중요한 정보를 얻을 수 있다."
   ]
  },
  {
   "cell_type": "code",
   "execution_count": 5,
   "metadata": {},
   "outputs": [],
   "source": [
    "import numpy as np\n",
    "import matplotlib.pyplot as plt\n",
    "\n",
    "def sigmoid(x):\n",
    "    return 1 / (1 + np.exp(-x))\n",
    "\n",
    "x = np.random.randn(1000, 100) # 1000개의 데이터\n",
    "node_num = 100                 # 각 은닉층의 노드(뉴런) 수\n",
    "hidden_layer_size = 5          # 은닉층이 5개\n",
    "activations = {}               # 이곳에 활성화 결과(활성화 값) 저장\n",
    "\n",
    "for i in range(hidden_layer_size):\n",
    "    if i != 0:\n",
    "        x = activations[i-1]\n",
    "        \n",
    "    w = np.random.randn(node_num, node_num) * 1\n",
    "    a = np.dot(x, w)\n",
    "    z = sigmoid(a)\n",
    "    activations[i] = z"
   ]
  },
  {
   "cell_type": "code",
   "execution_count": 6,
   "metadata": {},
   "outputs": [
    {
     "data": {
      "image/png": "[encoded data removed]",
      "text/plain": [
       "<Figure size 432x288 with 5 Axes>"
      ]
     },
     "metadata": {
      "needs_background": "light"
     },
     "output_type": "display_data"
    }
   ],
   "source": [
    "# 히스토그램 그리기\n",
    "for i, a in activations.items():\n",
    "    plt.subplot(1, len(activations), i+1)\n",
    "    plt.title(str(i+1) + \"-layer\")\n",
    "    plt.hist(a.flatten(), 30, range=(0,1))\n",
    "plt.show()"
   ]
  },
  {
   "cell_type": "markdown",
   "metadata": {},
   "source": [
    "이 코드에서는 표준편차가 1인 정규분포 이용  \n",
    "사용한 시그모이드 함수는 출력이 0에 가까워지거나 1에 가까워지면 미분은 0에 다가간다.  \n",
    "그래서 데이터가 0과 1에 치우쳐 분포하게 되면 역전파의 기울기 값이 점점 작아지다가 사라진다. -> 기울기 소실(gradient vanishing) 문제  \n",
    "층을 깊게 하는 딥러닝에서는 기울기 소실은 심각한 문제가 될 수 있다."
   ]
  },
  {
   "cell_type": "code",
   "execution_count": 7,
   "metadata": {},
   "outputs": [],
   "source": [
    "import numpy as np\n",
    "import matplotlib.pyplot as plt\n",
    "\n",
    "def sigmoid(x):\n",
    "    return 1 / (1 + np.exp(-x))\n",
    "\n",
    "x = np.random.randn(1000, 100) # 1000개의 데이터\n",
    "node_num = 100                 # 각 은닉층의 노드(뉴런) 수\n",
    "hidden_layer_size = 5          # 은닉층이 5개\n",
    "activations = {}               # 이곳에 활성화 결과(활성화 값) 저장\n",
    "\n",
    "for i in range(hidden_layer_size):\n",
    "    if i != 0:\n",
    "        x = activations[i-1]\n",
    "        \n",
    "    w = np.random.randn(node_num, node_num) * 0.01\n",
    "    a = np.dot(x, w)\n",
    "    z = sigmoid(a)\n",
    "    activations[i] = z"
   ]
  },
  {
   "cell_type": "code",
   "execution_count": 8,
   "metadata": {},
   "outputs": [
    {
     "data": {
      "image/png": "[encoded data removed]",
      "text/plain": [
       "<Figure size 432x288 with 5 Axes>"
      ]
     },
     "metadata": {
      "needs_background": "light"
     },
     "output_type": "display_data"
    }
   ],
   "source": [
    "# 히스토그램 그리기\n",
    "for i, a in activations.items():\n",
    "    plt.subplot(1, len(activations), i+1)\n",
    "    plt.title(str(i+1) + \"-layer\")\n",
    "    plt.hist(a.flatten(), 30, range=(0,1))\n",
    "plt.show()"
   ]
  },
  {
   "cell_type": "markdown",
   "metadata": {},
   "source": [
    "이 코드에서는 표준편차 0.01로 설정  \n",
    "앞의 코드처럼 0과 1로 치우치진 않아서 기울기 소실 문제는 일어나지 않는다.  \n",
    "하지만 활성화 값들이 치우쳤다는것은 표현력 관점에서 큰 문제가 있다. -> 다수의 뉴런이 거의 같은 값을 출력하고 있다. -> 뉴런을 여러 개 둔 이유가 없다.  \n",
    "즉, 활상화값들이 치우치면 표현력을 제한한다는 관점에서 문제가 된다."
   ]
  },
  {
   "cell_type": "markdown",
   "metadata": {},
   "source": [
    "각 층의 활성화 값은 고루 분포되어야 한다. -> 적당하게 다양한 데이터가 흐르게 해야 신경망 학습이 효율적으로 이루어짐"
   ]
  },
  {
   "cell_type": "markdown",
   "metadata": {},
   "source": [
    "Xavier 초깃값  \n",
    "현재 Xavier 초깃값은 일반적인 딥러닝 프레임워크들이 표준적으로 이용한다.  "
   ]
  },
  {
   "cell_type": "code",
   "execution_count": 9,
   "metadata": {},
   "outputs": [],
   "source": [
    "import numpy as np\n",
    "import matplotlib.pyplot as plt\n",
    "\n",
    "def sigmoid(x):\n",
    "    return 1 / (1 + np.exp(-x))\n",
    "\n",
    "x = np.random.randn(1000, 100) # 1000개의 데이터\n",
    "node_num = 100                 # 각 은닉층의 노드(뉴런) 수\n",
    "hidden_layer_size = 5          # 은닉층이 5개\n",
    "activations = {}               # 이곳에 활성화 결과(활성화 값) 저장\n",
    "\n",
    "for i in range(hidden_layer_size):\n",
    "    if i != 0:\n",
    "        x = activations[i-1]\n",
    "        \n",
    "    w = np.random.randn(node_num, node_num) / np.sqrt(node_num)\n",
    "    a = np.dot(x, w)\n",
    "    z = sigmoid(a)\n",
    "    activations[i] = z"
   ]
  },
  {
   "cell_type": "code",
   "execution_count": 10,
   "metadata": {},
   "outputs": [
    {
     "data": {
      "image/png": "[encoded data removed]",
      "text/plain": [
       "<Figure size 432x288 with 5 Axes>"
      ]
     },
     "metadata": {
      "needs_background": "light"
     },
     "output_type": "display_data"
    }
   ],
   "source": [
    "# 히스토그램 그리기\n",
    "for i, a in activations.items():\n",
    "    plt.subplot(1, len(activations), i+1)\n",
    "    plt.title(str(i+1) + \"-layer\")\n",
    "    plt.hist(a.flatten(), 30, range=(0,1))\n",
    "plt.show()"
   ]
  },
  {
   "cell_type": "markdown",
   "metadata": {},
   "source": [
    "층이 깊어지면서 형태가 다소 일그러지지만, 앞에서 본 방식보다 확실히 넓게 분포됨을 알 수 있다.  \n",
    "각 층에 흐르는 데이터가 적당히 퍼져 있으므로, 시그모이드 함수의 표현력도 제한받지 않고 학습이 효율적으로 이뤄짖ㄹ 것으로 기대  \n",
    "\n",
    "위 그래프에서 오른쪽으로 갈수록 약간씩 일그러지고 있다. 시그모이드 함수를 tanh 함수를 이용하면 개선된다.  \n",
    "활성화 함수용으로는 원점에서 대칭인 함수가 바람직하고 알려져 있음"
   ]
  },
  {
   "cell_type": "markdown",
   "metadata": {},
   "source": [
    "6.2.3 ReLU를 사용할 때의 가중치 초깃값  \n",
    "ReLU를 이용할 때 카이밍 히(Kaiming He)의 이름을 딴 He 초깃값을 사용한다.  \n",
    "ReLU는 음의 영역이 0이라서 더 넓게 분포시키기 위해 2배의 계수가 필요하다고 직감적으로 해석할 수 있다.(Xavier 초깃값의 두 배)  \n",
    "\n",
    "신경망에 아주 작은 데이터가 흐른다는 것은 역전파 때 가중치의 기울기 역시 작아짐을 뜻한다. -> 실제로도 학습이 거의 이뤄지지 않을 것이다.  \n",
    "활성화 함수로 ReLU를 사용한 경우에 Xavier 초깃값 결과를 보면 활성화 값들의 치우침도 커지고, 학습할 때 '기울기 소실' 문제를 일으킨다.  \n",
    "\n",
    "He 초깃값은 모든 층에서 균일하게 분포한다. 층이 깊어져도 분포가 균일하게 유지되어 역전파 때도 적절한 값이 나올 것으로 기대 가능  \n",
    "\n",
    "ReLU를 사용할 때는 He 초깃값을, sigmoid나 tanh 등의 S자 모양 곡선일 때는 Xavier 초깃값을 사용한다."
   ]
  },
  {
   "cell_type": "markdown",
   "metadata": {},
   "source": [
    "6.3 배치 정규화  \n",
    "각 층이 활성화를 적당히 퍼뜨리도록 '강제'해보면 어떨까? -> 배치 정규화(Batch Normalization)의 등장  \n",
    "\n",
    "6.3.1 배치 정규화 알고리즘  \n",
    "배치 정규화는 2015년에 제안된 방법이다. 나온 지 얼마 안 된 기법이지만 많이 쓰인다.  \n",
    "\n",
    "배치 정규화 장점\n",
    "1) 학습을 빨리 진행할 수 있다.(학습속도 개선)  \n",
    "2) 초깃값에 크게 의존하지 않는다.\n",
    "3) 오버피팅 억제(드롭아웃 등의 필요성 억제)  \n",
    "\n",
    "방법\n",
    "데이터 분포를 정규화하는 '배치 정규화(Batch Norm) 계층'을 신경망에 삽입  \n",
    "데이터 분포가 평균이 0, 분산이 1이 되도록 정규화한다. -> 수식은 책 참고  \n",
    "활성화 함수의 앞 또는 뒤에 삽입함으로써 데이터 분포가 덜 치우치게 할 수 있다.  \n",
    "\n",
    "배치 정규화 계층마다 이 정규화된 데이터에 고유한 확대(scale), 이동(shift) 변환을 수행한다."
   ]
  },
  {
   "cell_type": "markdown",
   "metadata": {},
   "source": [
    "6.4 바른 학습을 위해  \n",
    "오버피팅: 신경망이 훈련 데이터에만 지나치게 적응되어 그 외의 데이터에는 제대로 대응하지 못하는 상태  \n",
    "\n",
    "6.4.1 오버피팅  \n",
    "발생 상황  \n",
    "1) 매개변수가 많고 표현력이 높은 모델  \n",
    "2) 훈련 데이터가 적음  "
   ]
  },
  {
   "cell_type": "code",
   "execution_count": 20,
   "metadata": {},
   "outputs": [],
   "source": [
    "# coding: utf-8\n",
    "import os\n",
    "import sys\n",
    "\n",
    "import numpy as np\n",
    "import matplotlib.pyplot as plt\n",
    "from dataset.mnist import load_mnist\n",
    "from multi_layer_net import MultiLayerNet\n",
    "from optimizer import SGD\n",
    "\n",
    "(x_train, t_train), (x_test, t_test) = load_mnist(normalize=True)\n",
    "# 오버피팅을 재현하기 위해 학습 데이터 수를 줄임\n",
    "x_train = x_train[:300]\n",
    "t_train = t_train[:300]\n",
    "\n",
    "network = MultiLayerNet(input_size=784, hidden_size_list=[100, 100, 100, 100, 100, 100], output_size=10)\n",
    "optimizer = SGD(lr=0.01) # 학습률이 0.01인 SGD로 매개변수 갱신\n",
    "max_epochs = 201\n",
    "train_size = x_train.shape[0]\n",
    "batch_size = 100\n",
    "\n",
    "train_loss_list = []\n",
    "train_acc_list = []\n",
    "test_acc_list = []\n",
    "\n",
    "iter_per_epoch = max(train_size / batch_size, 1)\n",
    "epoch_cnt = 0\n",
    "\n",
    "for i in range(1000000000):\n",
    "    batch_mask = np.random.choice(train_size, batch_size)\n",
    "    x_batch = x_train[batch_mask]\n",
    "    t_batch = t_train[batch_mask]\n",
    "    \n",
    "    grads = network.gradient(x_batch, t_batch)\n",
    "    optimizer.update(network.params, grads)\n",
    "    \n",
    "    if i % iter_per_epoch == 0:\n",
    "        train_acc = network.accuracy(x_train, t_train)\n",
    "        test_acc = network.accuracy(x_test, t_test)\n",
    "        train_acc_list.append(train_acc)\n",
    "        test_acc_list.append(test_acc)\n",
    "        \n",
    "        epoch_cnt += 1\n",
    "        if epoch_cnt >= max_epochs:\n",
    "            break"
   ]
  },
  {
   "cell_type": "code",
   "execution_count": 21,
   "metadata": {},
   "outputs": [
    {
     "data": {
      "image/png": "[encoded data removed]",
      "text/plain": [
       "<Figure size 432x288 with 1 Axes>"
      ]
     },
     "metadata": {
      "needs_background": "light"
     },
     "output_type": "display_data"
    }
   ],
   "source": [
    "# 그래프 그리기==========\n",
    "markers = {'train': 'o', 'test': 's'}\n",
    "x = np.arange(max_epochs)\n",
    "plt.plot(x, train_acc_list, marker='o', label='train', markevery=10)\n",
    "plt.plot(x, test_acc_list, marker='s', label='test', markevery=10)\n",
    "plt.xlabel(\"epochs\")\n",
    "plt.ylabel(\"accuracy\")\n",
    "plt.ylim(0, 1.0)\n",
    "plt.legend(loc='lower right')\n",
    "plt.show()"
   ]
  },
  {
   "cell_type": "markdown",
   "metadata": {},
   "source": [
    "6.4.2 가중치 감소  \n",
    "오버피팅 억제용으로 예로부터 많이 이용해온 방법 중 가중치 감소(weight decay)라는 것이 있다.\n",
    "가중치 감소는 학습 과정에서 큰 가중치에 대해 그에 상응하는 큰 패널티를 부과하여 오버피팅을 억제하는 방법이다.  \n",
    "원래 오버피팅은 가중치 매개변수의 값이 커서 발생하는 경우가 많기 때문  \n",
    "\n",
    "신경망 학습의 목적은 손실 함수의 값을 줄이는 것  \n",
    "가중치의 제곱 노름을 손실 함수에 더하면 가중치가 커지느 것을 억제할 수 있다.\n",
    "람다는 정규화의 세기를 조절하는 하이퍼파라미터  \n",
    "\n",
    "책 참고하기"
   ]
  },
  {
   "cell_type": "markdown",
   "metadata": {},
   "source": [
    "6.4.3 드롭아웃  \n",
    "가중치 감소는 복잡한 신경망 모델에서는 대응하기 어려워진다. -> 드롭아웃(Dropout) 기법 사용  \n",
    "\n",
    "드롭아웃: 뉴런을 임의로 삭제하면서 학습하는 방법  \n",
    "\n",
    "훈련 때 은닉층의 뉴런을 무작위로 골라 삭제한다.  "
   ]
  },
  {
   "cell_type": "code",
   "execution_count": 22,
   "metadata": {},
   "outputs": [],
   "source": [
    "class Dropout:\n",
    "    def __init__(self, dropout_ratio=0.5):\n",
    "        self.dropout_ratio = dropout_ratio\n",
    "        self.mask = None\n",
    "        \n",
    "    def forward(self, x, train_flg=True):\n",
    "        if train_flg:\n",
    "            self.mask = np.random.rand(*x.shape) > self.dropout_ratio\n",
    "        else:\n",
    "            return x * (1.0 - self.dropout_ratio)\n",
    "        \n",
    "    def backward(self, dout):\n",
    "        return dout * self.mask"
   ]
  },
  {
   "cell_type": "markdown",
   "metadata": {},
   "source": [
    "6.5 적절한 하이퍼파라미터 값 찾기  \n",
    "하이퍼파라미터의 예\n",
    ": 각 층의 뉴런 수, 배치 크기, 매개변수 갱신 시의 학습률, 가중치 감소 등  \n",
    "\n",
    "6.5.1 검증 데이터  \n",
    "하이퍼파라미터의 성능을 평가할 때, 시험 데이터를 사용하면 안 되는 이유: 하이퍼파라미터 값이 시험 데이터에 오버피팅 됨  \n",
    "시험 데이터에만 적합하도록 조정되어 버린다.  \n",
    "\n",
    "검증데이터(validation data): 하이퍼파라미터 조정용 데이터  \n",
    "\n",
    "훈련 데이터는 매개변수(가중치, 편향)의 학습에 이용  \n",
    "검증 데이터는 하이퍼파라미터의 성능을 평가하는 데 이용  \n",
    "시험 데이터는 범용 성능을 확인하기 위해서 마지막에(이상적으로 한 번) 이용  "
   ]
  },
  {
   "cell_type": "code",
   "execution_count": 35,
   "metadata": {},
   "outputs": [],
   "source": [
    "(x_train, t_train), (x_test, t_test) = load_mnist()\n",
    "\n",
    "# 훈련 데이터를 뒤섞는다.\n",
    "x_train, t_train = shuffle_dataset(x_train, t_train)\n",
    "\n",
    "# 20%를 검증 데이터로 분할\n",
    "validation_rate = 0.20\n",
    "validation_num = int(x_train.shape[0] * validation_rate)\n",
    "\n",
    "x_val = x_train[:validation_num]\n",
    "t_val = t_train[:validation_num]\n",
    "x_train = x_train[validation_num:]\n",
    "t_train = t_train[validation_num:]"
   ]
  },
  {
   "cell_type": "markdown",
   "metadata": {},
   "source": [
    "6.5.2 하이퍼파라미터 최적화  \n",
    "하이퍼팔라미터를 최적화할 때 핵심은 하이퍼파라미터의 '최적 값'이 존재한느 범위를 조금씩 줄여간다는 것  \n",
    "우선 대략적인 범위를 설정한다. 그 범위에서 무작위로 하이퍼파라미터 값을 골라낸(샘플링) 후, 그 값으로 정확도를 평가한다.  \n",
    "정확도를 잘 살피면서 이 작업을 여러 번 반복하며 하이퍼파라미터의 '최적 값'의 범위를 좁혀가는 것  \n",
    "\n",
    "그리드 서치(gird search)같은 규칙적인 탐색 보다 무작위로 샘플링해 탐색하는 편이 좋은 결과를 낸다고 알려져 있다.  \n",
    "-> 최종 정확도에 미치는 영향력이 하이퍼파라미터마다 다르기 때문  \n",
    "\n",
    "하이퍼파라미터의 범위는 대력적으로 정한다. 0.001에서 1000 사이와 같이 '10의 거듭제곱' 단위로 범위를 지정(로그 스케일(log scale))로 지정한다.  \n",
    "학습을 위한 에폭을 작게 하여, 1회 평가에 걸리는 시간을 단축하는 것이 효과적  \n",
    "\n",
    "0단계: 하이퍼파라미터 값의 범위를 설정  \n",
    "1단계: 설정된 범위에서 하이퍼파라미터의 값을 무작위로 추출  \n",
    "2단계: 1단계에서 샘플링한 하이퍼파라미터 값을 사용하여 학습하고, 검증 데이터로 정확도를 평가한다.(단, 에폭은 작게 설정)  \n",
    "3단계: 1단계와 2단계를 특정 횟수(100회 등) 반복하여, 그 정확도의 결과를 보고 하이퍼파라미터의 범위를 좁힌다.  \n",
    "\n",
    "위의 방법은 수행자의 능력(지혜, 직감)에 달린 방법이다.  \n",
    "\n",
    "베이즈 최적화(Bayesian optimization): 베이즈 정리를 중심으로 한 수학 이론을 구사하여 더 엄밀하고 효율적으로 최적화를 수행  \n",
    "\n",
    "6.5.3 하이퍼파라미터 최적화 구현하기"
   ]
  },
  {
   "cell_type": "code",
   "execution_count": 36,
   "metadata": {},
   "outputs": [],
   "source": [
    "weight_decay = 10 ** np.random.uniform(-8, -4)\n",
    "lr = 10 ** np.random.uniform(-6, -2)"
   ]
  },
  {
   "cell_type": "code",
   "execution_count": 38,
   "metadata": {},
   "outputs": [
    {
     "name": "stdout",
     "output_type": "stream",
     "text": [
      "val acc:0.66 | lr:0.005182768315229939, weight decay:6.429614202168335e-05\n",
      "val acc:0.46 | lr:0.003292709544670393, weight decay:3.576487258239015e-08\n",
      "val acc:0.12 | lr:1.1658033117269681e-06, weight decay:8.164139444206026e-08\n",
      "val acc:0.15 | lr:6.928921643792929e-05, weight decay:2.5801411879061926e-05\n",
      "val acc:0.12 | lr:7.266893221020888e-05, weight decay:8.043263339528219e-08\n",
      "val acc:0.09 | lr:1.0836697439802841e-05, weight decay:5.177264668958164e-05\n",
      "val acc:0.13 | lr:2.9466346906407e-06, weight decay:7.588126906888886e-07\n",
      "val acc:0.15 | lr:1.1957079149323249e-05, weight decay:1.1107549486173742e-06\n",
      "val acc:0.17 | lr:6.140432908914127e-05, weight decay:4.55749648738953e-08\n",
      "val acc:0.13 | lr:0.0002421053707982847, weight decay:2.7436036611704352e-06\n",
      "val acc:0.1 | lr:2.933467078177381e-06, weight decay:2.178458745329974e-06\n",
      "val acc:0.16 | lr:2.040062301392429e-06, weight decay:8.638798052370729e-08\n",
      "val acc:0.09 | lr:2.0686711581637386e-05, weight decay:4.0767551173328535e-08\n",
      "val acc:0.1 | lr:0.0002571425764525538, weight decay:1.4205474046772399e-05\n",
      "val acc:0.1 | lr:1.3941620644543717e-06, weight decay:2.618733316044509e-07\n",
      "val acc:0.27 | lr:0.001909441016225678, weight decay:2.098240197296351e-06\n",
      "val acc:0.16 | lr:0.0006174789768787948, weight decay:7.71354519270023e-05\n",
      "val acc:0.7 | lr:0.005829260141762267, weight decay:5.654920203532127e-06\n",
      "val acc:0.05 | lr:3.6982185365499386e-06, weight decay:1.0147575720989516e-05\n",
      "val acc:0.14 | lr:2.310071167746406e-06, weight decay:6.348700238979675e-08\n",
      "val acc:0.21 | lr:0.00024081815228149943, weight decay:1.9316135184412444e-06\n",
      "val acc:0.11 | lr:1.6568526964882335e-05, weight decay:3.942633240406809e-05\n",
      "val acc:0.09 | lr:9.37210187036971e-06, weight decay:1.9840225385301365e-08\n",
      "val acc:0.61 | lr:0.005730261628149343, weight decay:5.625713001700845e-08\n",
      "val acc:0.1 | lr:1.8855052818187518e-06, weight decay:9.8221319170873e-06\n",
      "val acc:0.12 | lr:2.7172244713080193e-05, weight decay:1.67207655986187e-08\n",
      "val acc:0.09 | lr:0.00013093959653048148, weight decay:1.1857599491921187e-08\n",
      "val acc:0.12 | lr:0.00016479022632111164, weight decay:1.784578449649323e-07\n",
      "val acc:0.14 | lr:6.53465013725023e-05, weight decay:2.266176517406035e-05\n",
      "val acc:0.12 | lr:3.376614088428386e-06, weight decay:2.399448566166783e-05\n",
      "val acc:0.09 | lr:0.00045472105560474157, weight decay:1.4476413943384828e-06\n",
      "val acc:0.56 | lr:0.0038445710176232, weight decay:7.523037906105451e-08\n",
      "val acc:0.05 | lr:2.354583093450742e-06, weight decay:3.7109558111806747e-06\n",
      "val acc:0.26 | lr:0.0007388668273639453, weight decay:1.0612290415817821e-07\n",
      "val acc:0.07 | lr:2.9885623922809945e-05, weight decay:6.747266505947257e-07\n",
      "val acc:0.14 | lr:2.065859483368921e-05, weight decay:3.1291919239779024e-07\n",
      "val acc:0.76 | lr:0.005961293570752662, weight decay:4.8704118221080806e-05\n",
      "val acc:0.06 | lr:1.12635825700896e-05, weight decay:3.47087818749306e-08\n",
      "val acc:0.22 | lr:0.0009777725421548928, weight decay:4.136917410968367e-05\n",
      "val acc:0.1 | lr:3.923259129256812e-05, weight decay:2.472417469175687e-07\n",
      "val acc:0.13 | lr:0.00044588921577039004, weight decay:1.2062172016473384e-05\n",
      "val acc:0.12 | lr:0.00021905857575581965, weight decay:1.9447002579452834e-05\n",
      "val acc:0.73 | lr:0.00885763056710562, weight decay:5.0632304690313465e-06\n",
      "val acc:0.12 | lr:4.896852323522757e-05, weight decay:4.712218016526972e-06\n",
      "val acc:0.07 | lr:0.00013409185970696802, weight decay:9.321813674605845e-06\n",
      "val acc:0.12 | lr:1.6225155351426622e-06, weight decay:3.38258872617773e-08\n",
      "val acc:0.06 | lr:0.00017815934226400043, weight decay:6.516357168508378e-05\n",
      "val acc:0.14 | lr:3.2984011909389085e-05, weight decay:6.152700537077736e-06\n",
      "val acc:0.07 | lr:0.00025651629818952584, weight decay:1.2593881831544394e-05\n",
      "val acc:0.16 | lr:1.317360299697889e-06, weight decay:1.930601284370538e-05\n",
      "val acc:0.08 | lr:1.4127319310182188e-06, weight decay:5.6570600352722277e-05\n",
      "val acc:0.08 | lr:4.023863105071158e-05, weight decay:2.0014253472130342e-08\n",
      "val acc:0.1 | lr:1.4500516824730945e-06, weight decay:9.817619387398685e-06\n",
      "val acc:0.1 | lr:0.00011000092741981409, weight decay:1.602538366852058e-06\n",
      "val acc:0.75 | lr:0.008997740328985688, weight decay:7.607044204343848e-08\n",
      "val acc:0.16 | lr:2.6274574228056416e-06, weight decay:3.056933822091505e-06\n",
      "val acc:0.07 | lr:5.972402871573403e-06, weight decay:2.6158790132618706e-06\n",
      "val acc:0.1 | lr:3.589313992925781e-06, weight decay:3.6155159231598607e-06\n",
      "val acc:0.63 | lr:0.0035697547024290625, weight decay:1.9639289058011835e-08\n",
      "val acc:0.13 | lr:1.7516040876486586e-05, weight decay:2.377336614182129e-06\n",
      "val acc:0.11 | lr:0.0004313550612414156, weight decay:7.935060993242018e-06\n",
      "val acc:0.14 | lr:0.000975047367949375, weight decay:2.2388984528320326e-06\n",
      "val acc:0.54 | lr:0.005263576987145756, weight decay:1.05667875960402e-06\n",
      "val acc:0.09 | lr:4.039792920220784e-05, weight decay:2.1171442608720993e-06\n",
      "val acc:0.12 | lr:2.148348847136209e-05, weight decay:1.1443459300027957e-07\n",
      "val acc:0.32 | lr:0.0015962048162222534, weight decay:4.593318042212961e-06\n",
      "val acc:0.13 | lr:2.8895017980282977e-06, weight decay:8.177273805523664e-06\n",
      "val acc:0.76 | lr:0.007630464050658784, weight decay:1.6056551501273892e-06\n",
      "val acc:0.11 | lr:6.582980529104882e-05, weight decay:9.045222732890597e-06\n",
      "val acc:0.06 | lr:8.08368809780557e-05, weight decay:2.8539295785356326e-06\n",
      "val acc:0.11 | lr:0.0003157438219599436, weight decay:1.0381448546864393e-05\n",
      "val acc:0.17 | lr:0.0006594623819662368, weight decay:1.0419679690333485e-08\n"
     ]
    },
    {
     "ename": "KeyboardInterrupt",
     "evalue": "",
     "output_type": "error",
     "traceback": [
      "\u001b[1;31m---------------------------------------------------------------------------\u001b[0m",
      "\u001b[1;31mKeyboardInterrupt\u001b[0m                         Traceback (most recent call last)",
      "\u001b[1;32md:\\대학교\\동아리\\코스믹\\2022 여름 인공지능 스터디\\인공지능 깃허브\\deep-learning-from-cosmic\\mc\\chapter6\\chapter6.ipynb 셀 34\u001b[0m in \u001b[0;36m<cell line: 40>\u001b[1;34m()\u001b[0m\n\u001b[0;32m     <a href='vscode-notebook-cell:/d%3A/%EB%8C%80%ED%95%99%EA%B5%90/%EB%8F%99%EC%95%84%EB%A6%AC/%EC%BD%94%EC%8A%A4%EB%AF%B9/2022%20%EC%97%AC%EB%A6%84%20%EC%9D%B8%EA%B3%B5%EC%A7%80%EB%8A%A5%20%EC%8A%A4%ED%84%B0%EB%94%94/%EC%9D%B8%EA%B3%B5%EC%A7%80%EB%8A%A5%20%EA%B9%83%ED%97%88%EB%B8%8C/deep-learning-from-cosmic/mc/chapter6/chapter6.ipynb#X50sZmlsZQ%3D%3D?line=42'>43</a>\u001b[0m lr \u001b[39m=\u001b[39m \u001b[39m10\u001b[39m \u001b[39m*\u001b[39m\u001b[39m*\u001b[39m np\u001b[39m.\u001b[39mrandom\u001b[39m.\u001b[39muniform(\u001b[39m-\u001b[39m\u001b[39m6\u001b[39m, \u001b[39m-\u001b[39m\u001b[39m2\u001b[39m)\n\u001b[0;32m     <a href='vscode-notebook-cell:/d%3A/%EB%8C%80%ED%95%99%EA%B5%90/%EB%8F%99%EC%95%84%EB%A6%AC/%EC%BD%94%EC%8A%A4%EB%AF%B9/2022%20%EC%97%AC%EB%A6%84%20%EC%9D%B8%EA%B3%B5%EC%A7%80%EB%8A%A5%20%EC%8A%A4%ED%84%B0%EB%94%94/%EC%9D%B8%EA%B3%B5%EC%A7%80%EB%8A%A5%20%EA%B9%83%ED%97%88%EB%B8%8C/deep-learning-from-cosmic/mc/chapter6/chapter6.ipynb#X50sZmlsZQ%3D%3D?line=43'>44</a>\u001b[0m \u001b[39m# ================================================\u001b[39;00m\n\u001b[1;32m---> <a href='vscode-notebook-cell:/d%3A/%EB%8C%80%ED%95%99%EA%B5%90/%EB%8F%99%EC%95%84%EB%A6%AC/%EC%BD%94%EC%8A%A4%EB%AF%B9/2022%20%EC%97%AC%EB%A6%84%20%EC%9D%B8%EA%B3%B5%EC%A7%80%EB%8A%A5%20%EC%8A%A4%ED%84%B0%EB%94%94/%EC%9D%B8%EA%B3%B5%EC%A7%80%EB%8A%A5%20%EA%B9%83%ED%97%88%EB%B8%8C/deep-learning-from-cosmic/mc/chapter6/chapter6.ipynb#X50sZmlsZQ%3D%3D?line=45'>46</a>\u001b[0m val_acc_list, train_acc_list \u001b[39m=\u001b[39m __train(lr, weight_decay)\n\u001b[0;32m     <a href='vscode-notebook-cell:/d%3A/%EB%8C%80%ED%95%99%EA%B5%90/%EB%8F%99%EC%95%84%EB%A6%AC/%EC%BD%94%EC%8A%A4%EB%AF%B9/2022%20%EC%97%AC%EB%A6%84%20%EC%9D%B8%EA%B3%B5%EC%A7%80%EB%8A%A5%20%EC%8A%A4%ED%84%B0%EB%94%94/%EC%9D%B8%EA%B3%B5%EC%A7%80%EB%8A%A5%20%EA%B9%83%ED%97%88%EB%B8%8C/deep-learning-from-cosmic/mc/chapter6/chapter6.ipynb#X50sZmlsZQ%3D%3D?line=46'>47</a>\u001b[0m \u001b[39mprint\u001b[39m(\u001b[39m\"\u001b[39m\u001b[39mval acc:\u001b[39m\u001b[39m\"\u001b[39m \u001b[39m+\u001b[39m \u001b[39mstr\u001b[39m(val_acc_list[\u001b[39m-\u001b[39m\u001b[39m1\u001b[39m]) \u001b[39m+\u001b[39m \u001b[39m\"\u001b[39m\u001b[39m | lr:\u001b[39m\u001b[39m\"\u001b[39m \u001b[39m+\u001b[39m \u001b[39mstr\u001b[39m(lr) \u001b[39m+\u001b[39m \u001b[39m\"\u001b[39m\u001b[39m, weight decay:\u001b[39m\u001b[39m\"\u001b[39m \u001b[39m+\u001b[39m \u001b[39mstr\u001b[39m(weight_decay))\n\u001b[0;32m     <a href='vscode-notebook-cell:/d%3A/%EB%8C%80%ED%95%99%EA%B5%90/%EB%8F%99%EC%95%84%EB%A6%AC/%EC%BD%94%EC%8A%A4%EB%AF%B9/2022%20%EC%97%AC%EB%A6%84%20%EC%9D%B8%EA%B3%B5%EC%A7%80%EB%8A%A5%20%EC%8A%A4%ED%84%B0%EB%94%94/%EC%9D%B8%EA%B3%B5%EC%A7%80%EB%8A%A5%20%EA%B9%83%ED%97%88%EB%B8%8C/deep-learning-from-cosmic/mc/chapter6/chapter6.ipynb#X50sZmlsZQ%3D%3D?line=47'>48</a>\u001b[0m key \u001b[39m=\u001b[39m \u001b[39m\"\u001b[39m\u001b[39mlr:\u001b[39m\u001b[39m\"\u001b[39m \u001b[39m+\u001b[39m \u001b[39mstr\u001b[39m(lr) \u001b[39m+\u001b[39m \u001b[39m\"\u001b[39m\u001b[39m, weight decay:\u001b[39m\u001b[39m\"\u001b[39m \u001b[39m+\u001b[39m \u001b[39mstr\u001b[39m(weight_decay)\n",
      "\u001b[1;32md:\\대학교\\동아리\\코스믹\\2022 여름 인공지능 스터디\\인공지능 깃허브\\deep-learning-from-cosmic\\mc\\chapter6\\chapter6.ipynb 셀 34\u001b[0m in \u001b[0;36m__train\u001b[1;34m(lr, weight_decay, epocs)\u001b[0m\n\u001b[0;32m     <a href='vscode-notebook-cell:/d%3A/%EB%8C%80%ED%95%99%EA%B5%90/%EB%8F%99%EC%95%84%EB%A6%AC/%EC%BD%94%EC%8A%A4%EB%AF%B9/2022%20%EC%97%AC%EB%A6%84%20%EC%9D%B8%EA%B3%B5%EC%A7%80%EB%8A%A5%20%EC%8A%A4%ED%84%B0%EB%94%94/%EC%9D%B8%EA%B3%B5%EC%A7%80%EB%8A%A5%20%EA%B9%83%ED%97%88%EB%B8%8C/deep-learning-from-cosmic/mc/chapter6/chapter6.ipynb#X50sZmlsZQ%3D%3D?line=25'>26</a>\u001b[0m network \u001b[39m=\u001b[39m MultiLayerNet(input_size\u001b[39m=\u001b[39m\u001b[39m784\u001b[39m, hidden_size_list\u001b[39m=\u001b[39m[\u001b[39m100\u001b[39m, \u001b[39m100\u001b[39m, \u001b[39m100\u001b[39m, \u001b[39m100\u001b[39m, \u001b[39m100\u001b[39m, \u001b[39m100\u001b[39m],\n\u001b[0;32m     <a href='vscode-notebook-cell:/d%3A/%EB%8C%80%ED%95%99%EA%B5%90/%EB%8F%99%EC%95%84%EB%A6%AC/%EC%BD%94%EC%8A%A4%EB%AF%B9/2022%20%EC%97%AC%EB%A6%84%20%EC%9D%B8%EA%B3%B5%EC%A7%80%EB%8A%A5%20%EC%8A%A4%ED%84%B0%EB%94%94/%EC%9D%B8%EA%B3%B5%EC%A7%80%EB%8A%A5%20%EA%B9%83%ED%97%88%EB%B8%8C/deep-learning-from-cosmic/mc/chapter6/chapter6.ipynb#X50sZmlsZQ%3D%3D?line=26'>27</a>\u001b[0m                         output_size\u001b[39m=\u001b[39m\u001b[39m10\u001b[39m, weight_decay_lambda\u001b[39m=\u001b[39mweight_decay)\n\u001b[0;32m     <a href='vscode-notebook-cell:/d%3A/%EB%8C%80%ED%95%99%EA%B5%90/%EB%8F%99%EC%95%84%EB%A6%AC/%EC%BD%94%EC%8A%A4%EB%AF%B9/2022%20%EC%97%AC%EB%A6%84%20%EC%9D%B8%EA%B3%B5%EC%A7%80%EB%8A%A5%20%EC%8A%A4%ED%84%B0%EB%94%94/%EC%9D%B8%EA%B3%B5%EC%A7%80%EB%8A%A5%20%EA%B9%83%ED%97%88%EB%B8%8C/deep-learning-from-cosmic/mc/chapter6/chapter6.ipynb#X50sZmlsZQ%3D%3D?line=27'>28</a>\u001b[0m trainer \u001b[39m=\u001b[39m Trainer(network, x_train, t_train, x_val, t_val,\n\u001b[0;32m     <a href='vscode-notebook-cell:/d%3A/%EB%8C%80%ED%95%99%EA%B5%90/%EB%8F%99%EC%95%84%EB%A6%AC/%EC%BD%94%EC%8A%A4%EB%AF%B9/2022%20%EC%97%AC%EB%A6%84%20%EC%9D%B8%EA%B3%B5%EC%A7%80%EB%8A%A5%20%EC%8A%A4%ED%84%B0%EB%94%94/%EC%9D%B8%EA%B3%B5%EC%A7%80%EB%8A%A5%20%EA%B9%83%ED%97%88%EB%B8%8C/deep-learning-from-cosmic/mc/chapter6/chapter6.ipynb#X50sZmlsZQ%3D%3D?line=28'>29</a>\u001b[0m                   epochs\u001b[39m=\u001b[39mepocs, mini_batch_size\u001b[39m=\u001b[39m\u001b[39m100\u001b[39m,\n\u001b[0;32m     <a href='vscode-notebook-cell:/d%3A/%EB%8C%80%ED%95%99%EA%B5%90/%EB%8F%99%EC%95%84%EB%A6%AC/%EC%BD%94%EC%8A%A4%EB%AF%B9/2022%20%EC%97%AC%EB%A6%84%20%EC%9D%B8%EA%B3%B5%EC%A7%80%EB%8A%A5%20%EC%8A%A4%ED%84%B0%EB%94%94/%EC%9D%B8%EA%B3%B5%EC%A7%80%EB%8A%A5%20%EA%B9%83%ED%97%88%EB%B8%8C/deep-learning-from-cosmic/mc/chapter6/chapter6.ipynb#X50sZmlsZQ%3D%3D?line=29'>30</a>\u001b[0m                   optimizer\u001b[39m=\u001b[39m\u001b[39m'\u001b[39m\u001b[39msgd\u001b[39m\u001b[39m'\u001b[39m, optimizer_param\u001b[39m=\u001b[39m{\u001b[39m'\u001b[39m\u001b[39mlr\u001b[39m\u001b[39m'\u001b[39m: lr}, verbose\u001b[39m=\u001b[39m\u001b[39mFalse\u001b[39;00m)\n\u001b[1;32m---> <a href='vscode-notebook-cell:/d%3A/%EB%8C%80%ED%95%99%EA%B5%90/%EB%8F%99%EC%95%84%EB%A6%AC/%EC%BD%94%EC%8A%A4%EB%AF%B9/2022%20%EC%97%AC%EB%A6%84%20%EC%9D%B8%EA%B3%B5%EC%A7%80%EB%8A%A5%20%EC%8A%A4%ED%84%B0%EB%94%94/%EC%9D%B8%EA%B3%B5%EC%A7%80%EB%8A%A5%20%EA%B9%83%ED%97%88%EB%B8%8C/deep-learning-from-cosmic/mc/chapter6/chapter6.ipynb#X50sZmlsZQ%3D%3D?line=30'>31</a>\u001b[0m trainer\u001b[39m.\u001b[39;49mtrain()\n\u001b[0;32m     <a href='vscode-notebook-cell:/d%3A/%EB%8C%80%ED%95%99%EA%B5%90/%EB%8F%99%EC%95%84%EB%A6%AC/%EC%BD%94%EC%8A%A4%EB%AF%B9/2022%20%EC%97%AC%EB%A6%84%20%EC%9D%B8%EA%B3%B5%EC%A7%80%EB%8A%A5%20%EC%8A%A4%ED%84%B0%EB%94%94/%EC%9D%B8%EA%B3%B5%EC%A7%80%EB%8A%A5%20%EA%B9%83%ED%97%88%EB%B8%8C/deep-learning-from-cosmic/mc/chapter6/chapter6.ipynb#X50sZmlsZQ%3D%3D?line=32'>33</a>\u001b[0m \u001b[39mreturn\u001b[39;00m trainer\u001b[39m.\u001b[39mtest_acc_list, trainer\u001b[39m.\u001b[39mtrain_acc_list\n",
      "File \u001b[1;32md:\\대학교\\동아리\\코스믹\\2022 여름 인공지능 스터디\\인공지능 깃허브\\deep-learning-from-cosmic\\mc\\chapter6\\trainer.py:70\u001b[0m, in \u001b[0;36mTrainer.train\u001b[1;34m(self)\u001b[0m\n\u001b[0;32m     68\u001b[0m \u001b[39mdef\u001b[39;00m \u001b[39mtrain\u001b[39m(\u001b[39mself\u001b[39m):\n\u001b[0;32m     69\u001b[0m     \u001b[39mfor\u001b[39;00m i \u001b[39min\u001b[39;00m \u001b[39mrange\u001b[39m(\u001b[39mself\u001b[39m\u001b[39m.\u001b[39mmax_iter):\n\u001b[1;32m---> 70\u001b[0m         \u001b[39mself\u001b[39;49m\u001b[39m.\u001b[39;49mtrain_step()\n\u001b[0;32m     72\u001b[0m     test_acc \u001b[39m=\u001b[39m \u001b[39mself\u001b[39m\u001b[39m.\u001b[39mnetwork\u001b[39m.\u001b[39maccuracy(\u001b[39mself\u001b[39m\u001b[39m.\u001b[39mx_test, \u001b[39mself\u001b[39m\u001b[39m.\u001b[39mt_test)\n\u001b[0;32m     74\u001b[0m     \u001b[39mif\u001b[39;00m \u001b[39mself\u001b[39m\u001b[39m.\u001b[39mverbose:\n",
      "File \u001b[1;32md:\\대학교\\동아리\\코스믹\\2022 여름 인공지능 스터디\\인공지능 깃허브\\deep-learning-from-cosmic\\mc\\chapter6\\trainer.py:46\u001b[0m, in \u001b[0;36mTrainer.train_step\u001b[1;34m(self)\u001b[0m\n\u001b[0;32m     43\u001b[0m grads \u001b[39m=\u001b[39m \u001b[39mself\u001b[39m\u001b[39m.\u001b[39mnetwork\u001b[39m.\u001b[39mgradient(x_batch, t_batch)\n\u001b[0;32m     44\u001b[0m \u001b[39mself\u001b[39m\u001b[39m.\u001b[39moptimizer\u001b[39m.\u001b[39mupdate(\u001b[39mself\u001b[39m\u001b[39m.\u001b[39mnetwork\u001b[39m.\u001b[39mparams, grads)\n\u001b[1;32m---> 46\u001b[0m loss \u001b[39m=\u001b[39m \u001b[39mself\u001b[39;49m\u001b[39m.\u001b[39;49mnetwork\u001b[39m.\u001b[39;49mloss(x_batch, t_batch)\n\u001b[0;32m     47\u001b[0m \u001b[39mself\u001b[39m\u001b[39m.\u001b[39mtrain_loss_list\u001b[39m.\u001b[39mappend(loss)\n\u001b[0;32m     48\u001b[0m \u001b[39mif\u001b[39;00m \u001b[39mself\u001b[39m\u001b[39m.\u001b[39mverbose: \u001b[39mprint\u001b[39m(\u001b[39m\"\u001b[39m\u001b[39mtrain loss:\u001b[39m\u001b[39m\"\u001b[39m \u001b[39m+\u001b[39m \u001b[39mstr\u001b[39m(loss))\n",
      "File \u001b[1;32md:\\대학교\\동아리\\코스믹\\2022 여름 인공지능 스터디\\인공지능 깃허브\\deep-learning-from-cosmic\\mc\\chapter6\\multi_layer_net.py:86\u001b[0m, in \u001b[0;36mMultiLayerNet.loss\u001b[1;34m(self, x, t)\u001b[0m\n\u001b[0;32m     74\u001b[0m \u001b[39mdef\u001b[39;00m \u001b[39mloss\u001b[39m(\u001b[39mself\u001b[39m, x, t):\n\u001b[0;32m     75\u001b[0m     \u001b[39m\"\"\"손실 함수를 구한다.\u001b[39;00m\n\u001b[0;32m     76\u001b[0m \u001b[39m    \u001b[39;00m\n\u001b[0;32m     77\u001b[0m \u001b[39m    Parameters\u001b[39;00m\n\u001b[1;32m   (...)\u001b[0m\n\u001b[0;32m     84\u001b[0m \u001b[39m    손실 함수의 값\u001b[39;00m\n\u001b[0;32m     85\u001b[0m \u001b[39m    \"\"\"\u001b[39;00m\n\u001b[1;32m---> 86\u001b[0m     y \u001b[39m=\u001b[39m \u001b[39mself\u001b[39;49m\u001b[39m.\u001b[39;49mpredict(x)\n\u001b[0;32m     88\u001b[0m     weight_decay \u001b[39m=\u001b[39m \u001b[39m0\u001b[39m\n\u001b[0;32m     89\u001b[0m     \u001b[39mfor\u001b[39;00m idx \u001b[39min\u001b[39;00m \u001b[39mrange\u001b[39m(\u001b[39m1\u001b[39m, \u001b[39mself\u001b[39m\u001b[39m.\u001b[39mhidden_layer_num \u001b[39m+\u001b[39m \u001b[39m2\u001b[39m):\n",
      "File \u001b[1;32md:\\대학교\\동아리\\코스믹\\2022 여름 인공지능 스터디\\인공지능 깃허브\\deep-learning-from-cosmic\\mc\\chapter6\\multi_layer_net.py:70\u001b[0m, in \u001b[0;36mMultiLayerNet.predict\u001b[1;34m(self, x)\u001b[0m\n\u001b[0;32m     68\u001b[0m \u001b[39mdef\u001b[39;00m \u001b[39mpredict\u001b[39m(\u001b[39mself\u001b[39m, x):\n\u001b[0;32m     69\u001b[0m     \u001b[39mfor\u001b[39;00m layer \u001b[39min\u001b[39;00m \u001b[39mself\u001b[39m\u001b[39m.\u001b[39mlayers\u001b[39m.\u001b[39mvalues():\n\u001b[1;32m---> 70\u001b[0m         x \u001b[39m=\u001b[39m layer\u001b[39m.\u001b[39;49mforward(x)\n\u001b[0;32m     72\u001b[0m     \u001b[39mreturn\u001b[39;00m x\n",
      "File \u001b[1;32md:\\대학교\\동아리\\코스믹\\2022 여름 인공지능 스터디\\인공지능 깃허브\\deep-learning-from-cosmic\\mc\\chapter6\\layers.py:57\u001b[0m, in \u001b[0;36mAffine.forward\u001b[1;34m(self, x)\u001b[0m\n\u001b[0;32m     54\u001b[0m x \u001b[39m=\u001b[39m x\u001b[39m.\u001b[39mreshape(x\u001b[39m.\u001b[39mshape[\u001b[39m0\u001b[39m], \u001b[39m-\u001b[39m\u001b[39m1\u001b[39m)\n\u001b[0;32m     55\u001b[0m \u001b[39mself\u001b[39m\u001b[39m.\u001b[39mx \u001b[39m=\u001b[39m x\n\u001b[1;32m---> 57\u001b[0m out \u001b[39m=\u001b[39m np\u001b[39m.\u001b[39;49mdot(\u001b[39mself\u001b[39;49m\u001b[39m.\u001b[39;49mx, \u001b[39mself\u001b[39;49m\u001b[39m.\u001b[39;49mW) \u001b[39m+\u001b[39m \u001b[39mself\u001b[39m\u001b[39m.\u001b[39mb\n\u001b[0;32m     59\u001b[0m \u001b[39mreturn\u001b[39;00m out\n",
      "File \u001b[1;32m<__array_function__ internals>:180\u001b[0m, in \u001b[0;36mdot\u001b[1;34m(*args, **kwargs)\u001b[0m\n",
      "\u001b[1;31mKeyboardInterrupt\u001b[0m: "
     ]
    }
   ],
   "source": [
    "import sys, os\n",
    "import numpy as np\n",
    "import matplotlib.pyplot as plt\n",
    "from dataset.mnist import load_mnist\n",
    "from multi_layer_net import MultiLayerNet\n",
    "from util import shuffle_dataset\n",
    "from trainer import Trainer\n",
    "\n",
    "(x_train, t_train), (x_test, t_test) = load_mnist(normalize=True)\n",
    "\n",
    "# 결과를 빠르게 얻기 위해 훈련 데이터를 줄임\n",
    "x_train = x_train[:500]\n",
    "t_train = t_train[:500]\n",
    "\n",
    "# 20%를 검증 데이터로 분할\n",
    "validation_rate = 0.20\n",
    "validation_num = int(x_train.shape[0] * validation_rate)\n",
    "x_train, t_train = shuffle_dataset(x_train, t_train)\n",
    "x_val = x_train[:validation_num]\n",
    "t_val = t_train[:validation_num]\n",
    "x_train = x_train[validation_num:]\n",
    "t_train = t_train[validation_num:]\n",
    "\n",
    "\n",
    "def __train(lr, weight_decay, epocs=50):\n",
    "    network = MultiLayerNet(input_size=784, hidden_size_list=[100, 100, 100, 100, 100, 100],\n",
    "                            output_size=10, weight_decay_lambda=weight_decay)\n",
    "    trainer = Trainer(network, x_train, t_train, x_val, t_val,\n",
    "                      epochs=epocs, mini_batch_size=100,\n",
    "                      optimizer='sgd', optimizer_param={'lr': lr}, verbose=False)\n",
    "    trainer.train()\n",
    "\n",
    "    return trainer.test_acc_list, trainer.train_acc_list\n",
    "\n",
    "\n",
    "# 하이퍼파라미터 무작위 탐색======================================\n",
    "optimization_trial = 100\n",
    "results_val = {}\n",
    "results_train = {}\n",
    "for _ in range(optimization_trial):\n",
    "    # 탐색한 하이퍼파라미터의 범위 지정===============\n",
    "    weight_decay = 10 ** np.random.uniform(-8, -4)\n",
    "    lr = 10 ** np.random.uniform(-6, -2)\n",
    "    # ================================================\n",
    "\n",
    "    val_acc_list, train_acc_list = __train(lr, weight_decay)\n",
    "    print(\"val acc:\" + str(val_acc_list[-1]) + \" | lr:\" + str(lr) + \", weight decay:\" + str(weight_decay))\n",
    "    key = \"lr:\" + str(lr) + \", weight decay:\" + str(weight_decay)\n",
    "    results_val[key] = val_acc_list\n",
    "    results_train[key] = train_acc_list\n",
    "\n",
    "# 그래프 그리기========================================================\n",
    "print(\"=========== Hyper-Parameter Optimization Result ===========\")\n",
    "graph_draw_num = 20\n",
    "col_num = 5\n",
    "row_num = int(np.ceil(graph_draw_num / col_num))\n",
    "i = 0\n",
    "\n",
    "for key, val_acc_list in sorted(results_val.items(), key=lambda x:x[1][-1], reverse=True):\n",
    "    print(\"Best-\" + str(i+1) + \"(val acc:\" + str(val_acc_list[-1]) + \") | \" + key)\n",
    "\n",
    "    plt.subplot(row_num, col_num, i+1)\n",
    "    plt.title(\"Best-\" + str(i+1))\n",
    "    plt.ylim(0.0, 1.0)\n",
    "    if i % 5: plt.yticks([])\n",
    "    plt.xticks([])\n",
    "    x = np.arange(len(val_acc_list))\n",
    "    plt.plot(x, val_acc_list)\n",
    "    plt.plot(x, results_train[key], \"--\")\n",
    "    i += 1\n",
    "\n",
    "    if i >= graph_draw_num:\n",
    "        break\n",
    "\n",
    "plt.show()"
   ]
  },
  {
   "cell_type": "markdown",
   "metadata": {},
   "source": [
    "6.6 정리  \n",
    "* 매개변수 갱신 방법에는 확률적 경사 하강법(SGD) 외에도 모멘텀, AdaGrad, Adam 등이 있다.  \n",
    "* 가중치 초깃값을 정하는 방법은 올바른 학습을 하는 데 매우 중요하다.  \n",
    "* 가중치의 초깃값으로는 Xavier 초깃값, He 초깃값이 효과적이다.  \n",
    "* 배치 정규화를 이용하면 학습을 빠르게 진행할 수 있으며, 초깃값에 영향을 덜 받게 된다.  \n",
    "* 오버피팅을 억제하는 정규화 기술로는 가중치 감소, 드롭아웃이 있다.  \n",
    "* 하이퍼파라미터 값 탐색은 최적 값이 존재할 법한 범위를 점차 좁히면서 하는 것이 효과적이다."
   ]
  },
  {
   "cell_type": "markdown",
   "metadata": {},
   "source": []
  }
 ],
 "metadata": {
  "kernelspec": {
   "display_name": "Python 3.10.5 64-bit",
   "language": "python",
   "name": "python3"
  },
  "language_info": {
   "codemirror_mode": {
    "name": "ipython",
    "version": 3
   },
   "file_extension": ".py",
   "mimetype": "text/x-python",
   "name": "python",
   "nbconvert_exporter": "python",
   "pygments_lexer": "ipython3",
   "version": "3.10.5"
  },
  "orig_nbformat": 4,
  "vscode": {
   "interpreter": {
    "hash": "88f5a4554b5a9ef949b5de2ca977b5a4bd361180c5b30f32147c76c2c5bcf452"
   }
  }
 },
 "nbformat": 4,
 "nbformat_minor": 2
}
